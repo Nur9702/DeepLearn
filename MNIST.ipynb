{
  "nbformat": 4,
  "nbformat_minor": 0,
  "metadata": {
    "colab": {
      "provenance": [],
      "gpuType": "T4",
      "authorship_tag": "ABX9TyOEzTziVyRVhH7wkxwBGnaf",
      "include_colab_link": true
    },
    "kernelspec": {
      "name": "python3",
      "display_name": "Python 3"
    },
    "language_info": {
      "name": "python"
    },
    "accelerator": "GPU"
  },
  "cells": [
    {
      "cell_type": "markdown",
      "metadata": {
        "id": "view-in-github",
        "colab_type": "text"
      },
      "source": [
        "<a href=\"https://colab.research.google.com/github/Nur9702/DeepLearn/blob/main/MNIST.ipynb\" target=\"_parent\"><img src=\"https://colab.research.google.com/assets/colab-badge.svg\" alt=\"Open In Colab\"/></a>"
      ]
    },
    {
      "cell_type": "markdown",
      "source": [
        "#**6-modul Deep Learning negizi\n",
        "**"
      ],
      "metadata": {
        "id": "lLAmY80U1uZe"
      }
    },
    {
      "cell_type": "code",
      "execution_count": 1,
      "metadata": {
        "colab": {
          "base_uri": "https://localhost:8080/"
        },
        "collapsed": true,
        "id": "VhSplyDk1rc_",
        "outputId": "93e19012-3161-4673-cc13-e8bccfd240af"
      },
      "outputs": [
        {
          "output_type": "stream",
          "name": "stdout",
          "text": [
            "Requirement already satisfied: fastai==2.7.18 in /usr/local/lib/python3.11/dist-packages (2.7.18)\n",
            "Requirement already satisfied: pip in /usr/local/lib/python3.11/dist-packages (from fastai==2.7.18) (24.1.2)\n",
            "Requirement already satisfied: packaging in /usr/local/lib/python3.11/dist-packages (from fastai==2.7.18) (24.2)\n",
            "Requirement already satisfied: fastdownload<2,>=0.0.5 in /usr/local/lib/python3.11/dist-packages (from fastai==2.7.18) (0.0.7)\n",
            "Requirement already satisfied: fastcore<1.8,>=1.5.29 in /usr/local/lib/python3.11/dist-packages (from fastai==2.7.18) (1.7.29)\n",
            "Requirement already satisfied: torchvision>=0.11 in /usr/local/lib/python3.11/dist-packages (from fastai==2.7.18) (0.20.1+cu124)\n",
            "Requirement already satisfied: matplotlib in /usr/local/lib/python3.11/dist-packages (from fastai==2.7.18) (3.10.0)\n",
            "Requirement already satisfied: pandas in /usr/local/lib/python3.11/dist-packages (from fastai==2.7.18) (2.2.2)\n",
            "Requirement already satisfied: requests in /usr/local/lib/python3.11/dist-packages (from fastai==2.7.18) (2.32.3)\n",
            "Requirement already satisfied: pyyaml in /usr/local/lib/python3.11/dist-packages (from fastai==2.7.18) (6.0.2)\n",
            "Requirement already satisfied: fastprogress>=0.2.4 in /usr/local/lib/python3.11/dist-packages (from fastai==2.7.18) (1.0.3)\n",
            "Requirement already satisfied: pillow>=9.0.0 in /usr/local/lib/python3.11/dist-packages (from fastai==2.7.18) (11.1.0)\n",
            "Requirement already satisfied: scikit-learn in /usr/local/lib/python3.11/dist-packages (from fastai==2.7.18) (1.6.1)\n",
            "Requirement already satisfied: scipy in /usr/local/lib/python3.11/dist-packages (from fastai==2.7.18) (1.14.1)\n",
            "Requirement already satisfied: spacy<4 in /usr/local/lib/python3.11/dist-packages (from fastai==2.7.18) (3.7.5)\n",
            "Requirement already satisfied: torch<2.6,>=1.10 in /usr/local/lib/python3.11/dist-packages (from fastai==2.7.18) (2.5.1+cu124)\n",
            "Requirement already satisfied: spacy-legacy<3.1.0,>=3.0.11 in /usr/local/lib/python3.11/dist-packages (from spacy<4->fastai==2.7.18) (3.0.12)\n",
            "Requirement already satisfied: spacy-loggers<2.0.0,>=1.0.0 in /usr/local/lib/python3.11/dist-packages (from spacy<4->fastai==2.7.18) (1.0.5)\n",
            "Requirement already satisfied: murmurhash<1.1.0,>=0.28.0 in /usr/local/lib/python3.11/dist-packages (from spacy<4->fastai==2.7.18) (1.0.12)\n",
            "Requirement already satisfied: cymem<2.1.0,>=2.0.2 in /usr/local/lib/python3.11/dist-packages (from spacy<4->fastai==2.7.18) (2.0.11)\n",
            "Requirement already satisfied: preshed<3.1.0,>=3.0.2 in /usr/local/lib/python3.11/dist-packages (from spacy<4->fastai==2.7.18) (3.0.9)\n",
            "Requirement already satisfied: thinc<8.3.0,>=8.2.2 in /usr/local/lib/python3.11/dist-packages (from spacy<4->fastai==2.7.18) (8.2.5)\n",
            "Requirement already satisfied: wasabi<1.2.0,>=0.9.1 in /usr/local/lib/python3.11/dist-packages (from spacy<4->fastai==2.7.18) (1.1.3)\n",
            "Requirement already satisfied: srsly<3.0.0,>=2.4.3 in /usr/local/lib/python3.11/dist-packages (from spacy<4->fastai==2.7.18) (2.5.1)\n",
            "Requirement already satisfied: catalogue<2.1.0,>=2.0.6 in /usr/local/lib/python3.11/dist-packages (from spacy<4->fastai==2.7.18) (2.0.10)\n",
            "Requirement already satisfied: weasel<0.5.0,>=0.1.0 in /usr/local/lib/python3.11/dist-packages (from spacy<4->fastai==2.7.18) (0.4.1)\n",
            "Requirement already satisfied: typer<1.0.0,>=0.3.0 in /usr/local/lib/python3.11/dist-packages (from spacy<4->fastai==2.7.18) (0.15.2)\n",
            "Requirement already satisfied: tqdm<5.0.0,>=4.38.0 in /usr/local/lib/python3.11/dist-packages (from spacy<4->fastai==2.7.18) (4.67.1)\n",
            "Requirement already satisfied: pydantic!=1.8,!=1.8.1,<3.0.0,>=1.7.4 in /usr/local/lib/python3.11/dist-packages (from spacy<4->fastai==2.7.18) (2.10.6)\n",
            "Requirement already satisfied: jinja2 in /usr/local/lib/python3.11/dist-packages (from spacy<4->fastai==2.7.18) (3.1.6)\n",
            "Requirement already satisfied: setuptools in /usr/local/lib/python3.11/dist-packages (from spacy<4->fastai==2.7.18) (75.1.0)\n",
            "Requirement already satisfied: langcodes<4.0.0,>=3.2.0 in /usr/local/lib/python3.11/dist-packages (from spacy<4->fastai==2.7.18) (3.5.0)\n",
            "Requirement already satisfied: numpy>=1.19.0 in /usr/local/lib/python3.11/dist-packages (from spacy<4->fastai==2.7.18) (1.26.4)\n",
            "Requirement already satisfied: charset-normalizer<4,>=2 in /usr/local/lib/python3.11/dist-packages (from requests->fastai==2.7.18) (3.4.1)\n",
            "Requirement already satisfied: idna<4,>=2.5 in /usr/local/lib/python3.11/dist-packages (from requests->fastai==2.7.18) (3.10)\n",
            "Requirement already satisfied: urllib3<3,>=1.21.1 in /usr/local/lib/python3.11/dist-packages (from requests->fastai==2.7.18) (2.3.0)\n",
            "Requirement already satisfied: certifi>=2017.4.17 in /usr/local/lib/python3.11/dist-packages (from requests->fastai==2.7.18) (2025.1.31)\n",
            "Requirement already satisfied: filelock in /usr/local/lib/python3.11/dist-packages (from torch<2.6,>=1.10->fastai==2.7.18) (3.17.0)\n",
            "Requirement already satisfied: typing-extensions>=4.8.0 in /usr/local/lib/python3.11/dist-packages (from torch<2.6,>=1.10->fastai==2.7.18) (4.12.2)\n",
            "Requirement already satisfied: networkx in /usr/local/lib/python3.11/dist-packages (from torch<2.6,>=1.10->fastai==2.7.18) (3.4.2)\n",
            "Requirement already satisfied: fsspec in /usr/local/lib/python3.11/dist-packages (from torch<2.6,>=1.10->fastai==2.7.18) (2024.10.0)\n",
            "Collecting nvidia-cuda-nvrtc-cu12==12.4.127 (from torch<2.6,>=1.10->fastai==2.7.18)\n",
            "  Downloading nvidia_cuda_nvrtc_cu12-12.4.127-py3-none-manylinux2014_x86_64.whl.metadata (1.5 kB)\n",
            "Collecting nvidia-cuda-runtime-cu12==12.4.127 (from torch<2.6,>=1.10->fastai==2.7.18)\n",
            "  Downloading nvidia_cuda_runtime_cu12-12.4.127-py3-none-manylinux2014_x86_64.whl.metadata (1.5 kB)\n",
            "Collecting nvidia-cuda-cupti-cu12==12.4.127 (from torch<2.6,>=1.10->fastai==2.7.18)\n",
            "  Downloading nvidia_cuda_cupti_cu12-12.4.127-py3-none-manylinux2014_x86_64.whl.metadata (1.6 kB)\n",
            "Collecting nvidia-cudnn-cu12==9.1.0.70 (from torch<2.6,>=1.10->fastai==2.7.18)\n",
            "  Downloading nvidia_cudnn_cu12-9.1.0.70-py3-none-manylinux2014_x86_64.whl.metadata (1.6 kB)\n",
            "Collecting nvidia-cublas-cu12==12.4.5.8 (from torch<2.6,>=1.10->fastai==2.7.18)\n",
            "  Downloading nvidia_cublas_cu12-12.4.5.8-py3-none-manylinux2014_x86_64.whl.metadata (1.5 kB)\n",
            "Collecting nvidia-cufft-cu12==11.2.1.3 (from torch<2.6,>=1.10->fastai==2.7.18)\n",
            "  Downloading nvidia_cufft_cu12-11.2.1.3-py3-none-manylinux2014_x86_64.whl.metadata (1.5 kB)\n",
            "Collecting nvidia-curand-cu12==10.3.5.147 (from torch<2.6,>=1.10->fastai==2.7.18)\n",
            "  Downloading nvidia_curand_cu12-10.3.5.147-py3-none-manylinux2014_x86_64.whl.metadata (1.5 kB)\n",
            "Collecting nvidia-cusolver-cu12==11.6.1.9 (from torch<2.6,>=1.10->fastai==2.7.18)\n",
            "  Downloading nvidia_cusolver_cu12-11.6.1.9-py3-none-manylinux2014_x86_64.whl.metadata (1.6 kB)\n",
            "Collecting nvidia-cusparse-cu12==12.3.1.170 (from torch<2.6,>=1.10->fastai==2.7.18)\n",
            "  Downloading nvidia_cusparse_cu12-12.3.1.170-py3-none-manylinux2014_x86_64.whl.metadata (1.6 kB)\n",
            "Requirement already satisfied: nvidia-nccl-cu12==2.21.5 in /usr/local/lib/python3.11/dist-packages (from torch<2.6,>=1.10->fastai==2.7.18) (2.21.5)\n",
            "Requirement already satisfied: nvidia-nvtx-cu12==12.4.127 in /usr/local/lib/python3.11/dist-packages (from torch<2.6,>=1.10->fastai==2.7.18) (12.4.127)\n",
            "Collecting nvidia-nvjitlink-cu12==12.4.127 (from torch<2.6,>=1.10->fastai==2.7.18)\n",
            "  Downloading nvidia_nvjitlink_cu12-12.4.127-py3-none-manylinux2014_x86_64.whl.metadata (1.5 kB)\n",
            "Requirement already satisfied: triton==3.1.0 in /usr/local/lib/python3.11/dist-packages (from torch<2.6,>=1.10->fastai==2.7.18) (3.1.0)\n",
            "Requirement already satisfied: sympy==1.13.1 in /usr/local/lib/python3.11/dist-packages (from torch<2.6,>=1.10->fastai==2.7.18) (1.13.1)\n",
            "Requirement already satisfied: mpmath<1.4,>=1.1.0 in /usr/local/lib/python3.11/dist-packages (from sympy==1.13.1->torch<2.6,>=1.10->fastai==2.7.18) (1.3.0)\n",
            "Requirement already satisfied: contourpy>=1.0.1 in /usr/local/lib/python3.11/dist-packages (from matplotlib->fastai==2.7.18) (1.3.1)\n",
            "Requirement already satisfied: cycler>=0.10 in /usr/local/lib/python3.11/dist-packages (from matplotlib->fastai==2.7.18) (0.12.1)\n",
            "Requirement already satisfied: fonttools>=4.22.0 in /usr/local/lib/python3.11/dist-packages (from matplotlib->fastai==2.7.18) (4.56.0)\n",
            "Requirement already satisfied: kiwisolver>=1.3.1 in /usr/local/lib/python3.11/dist-packages (from matplotlib->fastai==2.7.18) (1.4.8)\n",
            "Requirement already satisfied: pyparsing>=2.3.1 in /usr/local/lib/python3.11/dist-packages (from matplotlib->fastai==2.7.18) (3.2.1)\n",
            "Requirement already satisfied: python-dateutil>=2.7 in /usr/local/lib/python3.11/dist-packages (from matplotlib->fastai==2.7.18) (2.8.2)\n",
            "Requirement already satisfied: pytz>=2020.1 in /usr/local/lib/python3.11/dist-packages (from pandas->fastai==2.7.18) (2025.1)\n",
            "Requirement already satisfied: tzdata>=2022.7 in /usr/local/lib/python3.11/dist-packages (from pandas->fastai==2.7.18) (2025.1)\n",
            "Requirement already satisfied: joblib>=1.2.0 in /usr/local/lib/python3.11/dist-packages (from scikit-learn->fastai==2.7.18) (1.4.2)\n",
            "Requirement already satisfied: threadpoolctl>=3.1.0 in /usr/local/lib/python3.11/dist-packages (from scikit-learn->fastai==2.7.18) (3.5.0)\n",
            "Requirement already satisfied: language-data>=1.2 in /usr/local/lib/python3.11/dist-packages (from langcodes<4.0.0,>=3.2.0->spacy<4->fastai==2.7.18) (1.3.0)\n",
            "Requirement already satisfied: annotated-types>=0.6.0 in /usr/local/lib/python3.11/dist-packages (from pydantic!=1.8,!=1.8.1,<3.0.0,>=1.7.4->spacy<4->fastai==2.7.18) (0.7.0)\n",
            "Requirement already satisfied: pydantic-core==2.27.2 in /usr/local/lib/python3.11/dist-packages (from pydantic!=1.8,!=1.8.1,<3.0.0,>=1.7.4->spacy<4->fastai==2.7.18) (2.27.2)\n",
            "Requirement already satisfied: six>=1.5 in /usr/local/lib/python3.11/dist-packages (from python-dateutil>=2.7->matplotlib->fastai==2.7.18) (1.17.0)\n",
            "Requirement already satisfied: blis<0.8.0,>=0.7.8 in /usr/local/lib/python3.11/dist-packages (from thinc<8.3.0,>=8.2.2->spacy<4->fastai==2.7.18) (0.7.11)\n",
            "Requirement already satisfied: confection<1.0.0,>=0.0.1 in /usr/local/lib/python3.11/dist-packages (from thinc<8.3.0,>=8.2.2->spacy<4->fastai==2.7.18) (0.1.5)\n",
            "Requirement already satisfied: click>=8.0.0 in /usr/local/lib/python3.11/dist-packages (from typer<1.0.0,>=0.3.0->spacy<4->fastai==2.7.18) (8.1.8)\n",
            "Requirement already satisfied: shellingham>=1.3.0 in /usr/local/lib/python3.11/dist-packages (from typer<1.0.0,>=0.3.0->spacy<4->fastai==2.7.18) (1.5.4)\n",
            "Requirement already satisfied: rich>=10.11.0 in /usr/local/lib/python3.11/dist-packages (from typer<1.0.0,>=0.3.0->spacy<4->fastai==2.7.18) (13.9.4)\n",
            "Requirement already satisfied: cloudpathlib<1.0.0,>=0.7.0 in /usr/local/lib/python3.11/dist-packages (from weasel<0.5.0,>=0.1.0->spacy<4->fastai==2.7.18) (0.21.0)\n",
            "Requirement already satisfied: smart-open<8.0.0,>=5.2.1 in /usr/local/lib/python3.11/dist-packages (from weasel<0.5.0,>=0.1.0->spacy<4->fastai==2.7.18) (7.1.0)\n",
            "Requirement already satisfied: MarkupSafe>=2.0 in /usr/local/lib/python3.11/dist-packages (from jinja2->spacy<4->fastai==2.7.18) (3.0.2)\n",
            "Requirement already satisfied: marisa-trie>=1.1.0 in /usr/local/lib/python3.11/dist-packages (from language-data>=1.2->langcodes<4.0.0,>=3.2.0->spacy<4->fastai==2.7.18) (1.2.1)\n",
            "Requirement already satisfied: markdown-it-py>=2.2.0 in /usr/local/lib/python3.11/dist-packages (from rich>=10.11.0->typer<1.0.0,>=0.3.0->spacy<4->fastai==2.7.18) (3.0.0)\n",
            "Requirement already satisfied: pygments<3.0.0,>=2.13.0 in /usr/local/lib/python3.11/dist-packages (from rich>=10.11.0->typer<1.0.0,>=0.3.0->spacy<4->fastai==2.7.18) (2.18.0)\n",
            "Requirement already satisfied: wrapt in /usr/local/lib/python3.11/dist-packages (from smart-open<8.0.0,>=5.2.1->weasel<0.5.0,>=0.1.0->spacy<4->fastai==2.7.18) (1.17.2)\n",
            "Requirement already satisfied: mdurl~=0.1 in /usr/local/lib/python3.11/dist-packages (from markdown-it-py>=2.2.0->rich>=10.11.0->typer<1.0.0,>=0.3.0->spacy<4->fastai==2.7.18) (0.1.2)\n",
            "Downloading nvidia_cublas_cu12-12.4.5.8-py3-none-manylinux2014_x86_64.whl (363.4 MB)\n",
            "\u001b[2K   \u001b[90m━━━━━━━━━━━━━━━━━━━━━━━━━━━━━━━━━━━━━━━━\u001b[0m \u001b[32m363.4/363.4 MB\u001b[0m \u001b[31m3.6 MB/s\u001b[0m eta \u001b[36m0:00:00\u001b[0m\n",
            "\u001b[?25hDownloading nvidia_cuda_cupti_cu12-12.4.127-py3-none-manylinux2014_x86_64.whl (13.8 MB)\n",
            "\u001b[2K   \u001b[90m━━━━━━━━━━━━━━━━━━━━━━━━━━━━━━━━━━━━━━━━\u001b[0m \u001b[32m13.8/13.8 MB\u001b[0m \u001b[31m35.8 MB/s\u001b[0m eta \u001b[36m0:00:00\u001b[0m\n",
            "\u001b[?25hDownloading nvidia_cuda_nvrtc_cu12-12.4.127-py3-none-manylinux2014_x86_64.whl (24.6 MB)\n",
            "\u001b[2K   \u001b[90m━━━━━━━━━━━━━━━━━━━━━━━━━━━━━━━━━━━━━━━━\u001b[0m \u001b[32m24.6/24.6 MB\u001b[0m \u001b[31m11.7 MB/s\u001b[0m eta \u001b[36m0:00:00\u001b[0m\n",
            "\u001b[?25hDownloading nvidia_cuda_runtime_cu12-12.4.127-py3-none-manylinux2014_x86_64.whl (883 kB)\n",
            "\u001b[2K   \u001b[90m━━━━━━━━━━━━━━━━━━━━━━━━━━━━━━━━━━━━━━━━\u001b[0m \u001b[32m883.7/883.7 kB\u001b[0m \u001b[31m30.0 MB/s\u001b[0m eta \u001b[36m0:00:00\u001b[0m\n",
            "\u001b[?25hDownloading nvidia_cudnn_cu12-9.1.0.70-py3-none-manylinux2014_x86_64.whl (664.8 MB)\n",
            "\u001b[2K   \u001b[90m━━━━━━━━━━━━━━━━━━━━━━━━━━━━━━━━━━━━━━━━\u001b[0m \u001b[32m664.8/664.8 MB\u001b[0m \u001b[31m2.0 MB/s\u001b[0m eta \u001b[36m0:00:00\u001b[0m\n",
            "\u001b[?25hDownloading nvidia_cufft_cu12-11.2.1.3-py3-none-manylinux2014_x86_64.whl (211.5 MB)\n",
            "\u001b[2K   \u001b[90m━━━━━━━━━━━━━━━━━━━━━━━━━━━━━━━━━━━━━━━━\u001b[0m \u001b[32m211.5/211.5 MB\u001b[0m \u001b[31m5.3 MB/s\u001b[0m eta \u001b[36m0:00:00\u001b[0m\n",
            "\u001b[?25hDownloading nvidia_curand_cu12-10.3.5.147-py3-none-manylinux2014_x86_64.whl (56.3 MB)\n",
            "\u001b[2K   \u001b[90m━━━━━━━━━━━━━━━━━━━━━━━━━━━━━━━━━━━━━━━━\u001b[0m \u001b[32m56.3/56.3 MB\u001b[0m \u001b[31m12.5 MB/s\u001b[0m eta \u001b[36m0:00:00\u001b[0m\n",
            "\u001b[?25hDownloading nvidia_cusolver_cu12-11.6.1.9-py3-none-manylinux2014_x86_64.whl (127.9 MB)\n",
            "\u001b[2K   \u001b[90m━━━━━━━━━━━━━━━━━━━━━━━━━━━━━━━━━━━━━━━━\u001b[0m \u001b[32m127.9/127.9 MB\u001b[0m \u001b[31m7.1 MB/s\u001b[0m eta \u001b[36m0:00:00\u001b[0m\n",
            "\u001b[?25hDownloading nvidia_cusparse_cu12-12.3.1.170-py3-none-manylinux2014_x86_64.whl (207.5 MB)\n",
            "\u001b[2K   \u001b[90m━━━━━━━━━━━━━━━━━━━━━━━━━━━━━━━━━━━━━━━━\u001b[0m \u001b[32m207.5/207.5 MB\u001b[0m \u001b[31m5.7 MB/s\u001b[0m eta \u001b[36m0:00:00\u001b[0m\n",
            "\u001b[?25hDownloading nvidia_nvjitlink_cu12-12.4.127-py3-none-manylinux2014_x86_64.whl (21.1 MB)\n",
            "\u001b[2K   \u001b[90m━━━━━━━━━━━━━━━━━━━━━━━━━━━━━━━━━━━━━━━━\u001b[0m \u001b[32m21.1/21.1 MB\u001b[0m \u001b[31m79.0 MB/s\u001b[0m eta \u001b[36m0:00:00\u001b[0m\n",
            "\u001b[?25hInstalling collected packages: nvidia-nvjitlink-cu12, nvidia-curand-cu12, nvidia-cufft-cu12, nvidia-cuda-runtime-cu12, nvidia-cuda-nvrtc-cu12, nvidia-cuda-cupti-cu12, nvidia-cublas-cu12, nvidia-cusparse-cu12, nvidia-cudnn-cu12, nvidia-cusolver-cu12\n",
            "  Attempting uninstall: nvidia-nvjitlink-cu12\n",
            "    Found existing installation: nvidia-nvjitlink-cu12 12.5.82\n",
            "    Uninstalling nvidia-nvjitlink-cu12-12.5.82:\n",
            "      Successfully uninstalled nvidia-nvjitlink-cu12-12.5.82\n",
            "  Attempting uninstall: nvidia-curand-cu12\n",
            "    Found existing installation: nvidia-curand-cu12 10.3.6.82\n",
            "    Uninstalling nvidia-curand-cu12-10.3.6.82:\n",
            "      Successfully uninstalled nvidia-curand-cu12-10.3.6.82\n",
            "  Attempting uninstall: nvidia-cufft-cu12\n",
            "    Found existing installation: nvidia-cufft-cu12 11.2.3.61\n",
            "    Uninstalling nvidia-cufft-cu12-11.2.3.61:\n",
            "      Successfully uninstalled nvidia-cufft-cu12-11.2.3.61\n",
            "  Attempting uninstall: nvidia-cuda-runtime-cu12\n",
            "    Found existing installation: nvidia-cuda-runtime-cu12 12.5.82\n",
            "    Uninstalling nvidia-cuda-runtime-cu12-12.5.82:\n",
            "      Successfully uninstalled nvidia-cuda-runtime-cu12-12.5.82\n",
            "  Attempting uninstall: nvidia-cuda-nvrtc-cu12\n",
            "    Found existing installation: nvidia-cuda-nvrtc-cu12 12.5.82\n",
            "    Uninstalling nvidia-cuda-nvrtc-cu12-12.5.82:\n",
            "      Successfully uninstalled nvidia-cuda-nvrtc-cu12-12.5.82\n",
            "  Attempting uninstall: nvidia-cuda-cupti-cu12\n",
            "    Found existing installation: nvidia-cuda-cupti-cu12 12.5.82\n",
            "    Uninstalling nvidia-cuda-cupti-cu12-12.5.82:\n",
            "      Successfully uninstalled nvidia-cuda-cupti-cu12-12.5.82\n",
            "  Attempting uninstall: nvidia-cublas-cu12\n",
            "    Found existing installation: nvidia-cublas-cu12 12.5.3.2\n",
            "    Uninstalling nvidia-cublas-cu12-12.5.3.2:\n",
            "      Successfully uninstalled nvidia-cublas-cu12-12.5.3.2\n",
            "  Attempting uninstall: nvidia-cusparse-cu12\n",
            "    Found existing installation: nvidia-cusparse-cu12 12.5.1.3\n",
            "    Uninstalling nvidia-cusparse-cu12-12.5.1.3:\n",
            "      Successfully uninstalled nvidia-cusparse-cu12-12.5.1.3\n",
            "  Attempting uninstall: nvidia-cudnn-cu12\n",
            "    Found existing installation: nvidia-cudnn-cu12 9.3.0.75\n",
            "    Uninstalling nvidia-cudnn-cu12-9.3.0.75:\n",
            "      Successfully uninstalled nvidia-cudnn-cu12-9.3.0.75\n",
            "  Attempting uninstall: nvidia-cusolver-cu12\n",
            "    Found existing installation: nvidia-cusolver-cu12 11.6.3.83\n",
            "    Uninstalling nvidia-cusolver-cu12-11.6.3.83:\n",
            "      Successfully uninstalled nvidia-cusolver-cu12-11.6.3.83\n",
            "Successfully installed nvidia-cublas-cu12-12.4.5.8 nvidia-cuda-cupti-cu12-12.4.127 nvidia-cuda-nvrtc-cu12-12.4.127 nvidia-cuda-runtime-cu12-12.4.127 nvidia-cudnn-cu12-9.1.0.70 nvidia-cufft-cu12-11.2.1.3 nvidia-curand-cu12-10.3.5.147 nvidia-cusolver-cu12-11.6.1.9 nvidia-cusparse-cu12-12.3.1.170 nvidia-nvjitlink-cu12-12.4.127\n"
          ]
        }
      ],
      "source": [
        "!pip install fastai==2.7.18"
      ]
    },
    {
      "cell_type": "code",
      "source": [
        "#kutubhonalarni o'rnatamiz\n",
        "import torch\n",
        "import fastai\n",
        "\n",
        "print(torch.__version__)\n",
        "print(fastai.__version__)"
      ],
      "metadata": {
        "colab": {
          "base_uri": "https://localhost:8080/"
        },
        "id": "tTUo95ax2zv-",
        "outputId": "8c820012-7459-4cca-fdbf-d7bd51b7acdd"
      },
      "execution_count": 2,
      "outputs": [
        {
          "output_type": "stream",
          "name": "stdout",
          "text": [
            "2.5.1+cu124\n",
            "2.7.18\n"
          ]
        }
      ]
    },
    {
      "cell_type": "markdown",
      "source": [
        "#MNIST dataseti haqida"
      ],
      "metadata": {
        "id": "rxo9brUi3tt8"
      }
    },
    {
      "cell_type": "markdown",
      "source": [
        "#MNSIT datasetning 3 va 7 raqamlarini yuklab olamiz"
      ],
      "metadata": {
        "id": "WNOJ80fA4iey"
      }
    },
    {
      "cell_type": "code",
      "source": [
        "from fastai.vision.all import *\n",
        "\n",
        "path = untar_data(URLs.MNIST_SAMPLE)\n",
        "\n",
        "#path.ls()\n",
        "#(path/'train').ls()\n",
        "#(path/'train'/'3').ls() # 3 sonining 6131 ta qo'lda yozilgan rasmlarini ko'rsatadi\n",
        "#(path/'train'/'7').ls() # 7 sonining 6265 ta qo'lda yozilgan rasmlarini ko'rsatadi\n",
        "#(path/'valid'/'7').ls() # 7 sonining validation uchun 1028 ta qo'lda yozilgan rasmlarini ko'rsatadi\n",
        "#(path/'valid'/'3').ls() # 3 sonining validation uchun 1010 ta qo'lda yozilgan rasmlarini ko'rsatadi\n",
        "\n",
        "threes = (path/'train'/'3').ls().sorted()\n",
        "sevens = (path/'train'/'7').ls().sorted()"
      ],
      "metadata": {
        "id": "mRUFSvqY3aFj",
        "colab": {
          "base_uri": "https://localhost:8080/",
          "height": 37
        },
        "outputId": "9b254b2e-f0f4-4514-c376-3cca8f3dfee1"
      },
      "execution_count": 3,
      "outputs": [
        {
          "output_type": "display_data",
          "data": {
            "text/plain": [
              "<IPython.core.display.HTML object>"
            ],
            "text/html": [
              "\n",
              "<style>\n",
              "    /* Turns off some styling */\n",
              "    progress {\n",
              "        /* gets rid of default border in Firefox and Opera. */\n",
              "        border: none;\n",
              "        /* Needs to be in here for Safari polyfill so background images work as expected. */\n",
              "        background-size: auto;\n",
              "    }\n",
              "    progress:not([value]), progress:not([value])::-webkit-progress-bar {\n",
              "        background: repeating-linear-gradient(45deg, #7e7e7e, #7e7e7e 10px, #5c5c5c 10px, #5c5c5c 20px);\n",
              "    }\n",
              "    .progress-bar-interrupted, .progress-bar-interrupted::-webkit-progress-bar {\n",
              "        background: #F44336;\n",
              "    }\n",
              "</style>\n"
            ]
          },
          "metadata": {}
        },
        {
          "output_type": "display_data",
          "data": {
            "text/plain": [
              "<IPython.core.display.HTML object>"
            ],
            "text/html": [
              "\n",
              "    <div>\n",
              "      <progress value='3219456' class='' max='3214948' style='width:300px; height:20px; vertical-align: middle;'></progress>\n",
              "      100.14% [3219456/3214948 00:00&lt;00:00]\n",
              "    </div>\n",
              "    "
            ]
          },
          "metadata": {}
        }
      ]
    },
    {
      "cell_type": "code",
      "source": [
        "img3_sample = threes[1]\n",
        "img3 = Image.open(img3_sample)\n",
        "img3"
      ],
      "metadata": {
        "colab": {
          "base_uri": "https://localhost:8080/",
          "height": 45
        },
        "id": "pe64hU5747J5",
        "outputId": "faaa1834-2088-48af-adec-c596684e7722"
      },
      "execution_count": 4,
      "outputs": [
        {
          "output_type": "execute_result",
          "data": {
            "text/plain": [
              "<PIL.PngImagePlugin.PngImageFile image mode=L size=28x28>"
            ],
            "image/png": "[encoded data removed]",
            "image/jpeg": "[encoded data removed]"
          },
          "metadata": {},
          "execution_count": 4
        }
      ]
    },
    {
      "cell_type": "code",
      "source": [
        "img7_sample = sevens[2]\n",
        "img7 = Image.open(img7_sample)\n",
        "img7"
      ],
      "metadata": {
        "colab": {
          "base_uri": "https://localhost:8080/",
          "height": 45
        },
        "id": "vKme5oJ17sZj",
        "outputId": "2c5264a0-c68c-44b8-b37c-30cb428ba250"
      },
      "execution_count": 5,
      "outputs": [
        {
          "output_type": "execute_result",
          "data": {
            "text/plain": [
              "<PIL.PngImagePlugin.PngImageFile image mode=L size=28x28>"
            ],
            "image/png": "[encoded data removed]",
            "image/jpeg": "[encoded data removed]"
          },
          "metadata": {},
          "execution_count": 5
        }
      ]
    },
    {
      "cell_type": "code",
      "source": [
        "array(img3)[4:10, 4:10]"
      ],
      "metadata": {
        "colab": {
          "base_uri": "https://localhost:8080/"
        },
        "id": "3lnEr2k08RCq",
        "outputId": "2256f9cc-79cf-4338-eadd-0b91ecd0fc02"
      },
      "execution_count": 6,
      "outputs": [
        {
          "output_type": "execute_result",
          "data": {
            "text/plain": [
              "array([[  0,   0,   0,   0,   0,   0],\n",
              "       [  0,   0,   0,   0,   0,  29],\n",
              "       [  0,   0,   0,  48, 166, 224],\n",
              "       [  0,  93, 244, 249, 253, 187],\n",
              "       [  0, 107, 253, 253, 230,  48],\n",
              "       [  0,   3,  20,  20,  15,   0]], dtype=uint8)"
            ]
          },
          "metadata": {},
          "execution_count": 6
        }
      ]
    },
    {
      "cell_type": "code",
      "source": [
        "tensor(img3)[4:10, 4:10]"
      ],
      "metadata": {
        "colab": {
          "base_uri": "https://localhost:8080/"
        },
        "id": "3CjOaW5x83Jz",
        "outputId": "2bf2cf1a-ea1c-4d6f-d3f2-3720a3b6b6d9"
      },
      "execution_count": 7,
      "outputs": [
        {
          "output_type": "execute_result",
          "data": {
            "text/plain": [
              "tensor([[  0,   0,   0,   0,   0,   0],\n",
              "        [  0,   0,   0,   0,   0,  29],\n",
              "        [  0,   0,   0,  48, 166, 224],\n",
              "        [  0,  93, 244, 249, 253, 187],\n",
              "        [  0, 107, 253, 253, 230,  48],\n",
              "        [  0,   3,  20,  20,  15,   0]], dtype=torch.uint8)"
            ]
          },
          "metadata": {},
          "execution_count": 7
        }
      ]
    },
    {
      "cell_type": "code",
      "source": [
        "import pandas as pd\n",
        "\n",
        "img3_t = tensor(img3)\n",
        "\n",
        "df = pd.DataFrame(img3_t[4:22, 4:22])\n",
        "df.style.set_properties(**{'font-size':'6pt'}).background_gradient('Greys')"
      ],
      "metadata": {
        "colab": {
          "base_uri": "https://localhost:8080/",
          "height": 614
        },
        "id": "R0RgsK6u9i80",
        "outputId": "a18cabeb-2872-4ad5-a79b-dbd4e4ea026b"
      },
      "execution_count": 8,
      "outputs": [
        {
          "output_type": "execute_result",
          "data": {
            "text/plain": [
              "<pandas.io.formats.style.Styler at 0x7c11b3a79850>"
            ],
            "text/html": [
              "<style type=\"text/css\">\n",
              "#T_bd7fc_row0_col0, #T_bd7fc_row0_col1, #T_bd7fc_row0_col2, #T_bd7fc_row0_col3, #T_bd7fc_row0_col4, #T_bd7fc_row0_col5, #T_bd7fc_row0_col6, #T_bd7fc_row0_col7, #T_bd7fc_row0_col8, #T_bd7fc_row0_col9, #T_bd7fc_row0_col10, #T_bd7fc_row0_col11, #T_bd7fc_row0_col12, #T_bd7fc_row0_col13, #T_bd7fc_row0_col14, #T_bd7fc_row0_col15, #T_bd7fc_row0_col16, #T_bd7fc_row0_col17, #T_bd7fc_row1_col0, #T_bd7fc_row1_col1, #T_bd7fc_row1_col2, #T_bd7fc_row1_col3, #T_bd7fc_row1_col4, #T_bd7fc_row1_col15, #T_bd7fc_row1_col16, #T_bd7fc_row1_col17, #T_bd7fc_row2_col0, #T_bd7fc_row2_col1, #T_bd7fc_row2_col2, #T_bd7fc_row2_col15, #T_bd7fc_row2_col16, #T_bd7fc_row2_col17, #T_bd7fc_row3_col0, #T_bd7fc_row3_col15, #T_bd7fc_row3_col16, #T_bd7fc_row3_col17, #T_bd7fc_row4_col0, #T_bd7fc_row4_col6, #T_bd7fc_row4_col7, #T_bd7fc_row4_col8, #T_bd7fc_row4_col9, #T_bd7fc_row4_col10, #T_bd7fc_row4_col15, #T_bd7fc_row4_col16, #T_bd7fc_row4_col17, #T_bd7fc_row5_col0, #T_bd7fc_row5_col5, #T_bd7fc_row5_col6, #T_bd7fc_row5_col7, #T_bd7fc_row5_col8, #T_bd7fc_row5_col9, #T_bd7fc_row5_col15, #T_bd7fc_row5_col16, #T_bd7fc_row5_col17, #T_bd7fc_row6_col0, #T_bd7fc_row6_col1, #T_bd7fc_row6_col2, #T_bd7fc_row6_col3, #T_bd7fc_row6_col4, #T_bd7fc_row6_col5, #T_bd7fc_row6_col6, #T_bd7fc_row6_col7, #T_bd7fc_row6_col8, #T_bd7fc_row6_col9, #T_bd7fc_row6_col14, #T_bd7fc_row6_col15, #T_bd7fc_row6_col16, #T_bd7fc_row6_col17, #T_bd7fc_row7_col0, #T_bd7fc_row7_col1, #T_bd7fc_row7_col2, #T_bd7fc_row7_col3, #T_bd7fc_row7_col4, #T_bd7fc_row7_col5, #T_bd7fc_row7_col6, #T_bd7fc_row7_col13, #T_bd7fc_row7_col14, #T_bd7fc_row7_col15, #T_bd7fc_row7_col16, #T_bd7fc_row7_col17, #T_bd7fc_row8_col0, #T_bd7fc_row8_col1, #T_bd7fc_row8_col2, #T_bd7fc_row8_col3, #T_bd7fc_row8_col4, #T_bd7fc_row8_col13, #T_bd7fc_row8_col14, #T_bd7fc_row8_col15, #T_bd7fc_row8_col16, #T_bd7fc_row8_col17, #T_bd7fc_row9_col0, #T_bd7fc_row9_col1, #T_bd7fc_row9_col2, #T_bd7fc_row9_col3, #T_bd7fc_row9_col4, #T_bd7fc_row9_col16, #T_bd7fc_row9_col17, #T_bd7fc_row10_col0, #T_bd7fc_row10_col1, #T_bd7fc_row10_col2, #T_bd7fc_row10_col3, #T_bd7fc_row10_col4, #T_bd7fc_row10_col5, #T_bd7fc_row10_col6, #T_bd7fc_row10_col17, #T_bd7fc_row11_col0, #T_bd7fc_row11_col1, #T_bd7fc_row11_col2, #T_bd7fc_row11_col3, #T_bd7fc_row11_col4, #T_bd7fc_row11_col5, #T_bd7fc_row11_col6, #T_bd7fc_row11_col7, #T_bd7fc_row11_col8, #T_bd7fc_row11_col9, #T_bd7fc_row11_col17, #T_bd7fc_row12_col0, #T_bd7fc_row12_col1, #T_bd7fc_row12_col2, #T_bd7fc_row12_col3, #T_bd7fc_row12_col4, #T_bd7fc_row12_col5, #T_bd7fc_row12_col6, #T_bd7fc_row12_col7, #T_bd7fc_row12_col8, #T_bd7fc_row12_col9, #T_bd7fc_row12_col10, #T_bd7fc_row12_col11, #T_bd7fc_row12_col12, #T_bd7fc_row12_col17, #T_bd7fc_row13_col0, #T_bd7fc_row13_col1, #T_bd7fc_row13_col2, #T_bd7fc_row13_col3, #T_bd7fc_row13_col4, #T_bd7fc_row13_col5, #T_bd7fc_row13_col6, #T_bd7fc_row13_col7, #T_bd7fc_row13_col8, #T_bd7fc_row13_col9, #T_bd7fc_row13_col10, #T_bd7fc_row13_col11, #T_bd7fc_row13_col12, #T_bd7fc_row13_col17, #T_bd7fc_row14_col0, #T_bd7fc_row14_col1, #T_bd7fc_row14_col2, #T_bd7fc_row14_col3, #T_bd7fc_row14_col4, #T_bd7fc_row14_col5, #T_bd7fc_row14_col6, #T_bd7fc_row14_col7, #T_bd7fc_row14_col8, #T_bd7fc_row14_col9, #T_bd7fc_row14_col10, #T_bd7fc_row14_col11, #T_bd7fc_row14_col17, #T_bd7fc_row15_col0, #T_bd7fc_row15_col1, #T_bd7fc_row15_col2, #T_bd7fc_row15_col3, #T_bd7fc_row15_col4, #T_bd7fc_row15_col5, #T_bd7fc_row15_col6, #T_bd7fc_row15_col7, #T_bd7fc_row15_col8, #T_bd7fc_row15_col9, #T_bd7fc_row15_col10, #T_bd7fc_row15_col17, #T_bd7fc_row16_col0, #T_bd7fc_row16_col1, #T_bd7fc_row16_col2, #T_bd7fc_row16_col3, #T_bd7fc_row16_col4, #T_bd7fc_row16_col5, #T_bd7fc_row16_col6, #T_bd7fc_row16_col7, #T_bd7fc_row16_col8, #T_bd7fc_row16_col9, #T_bd7fc_row16_col16, #T_bd7fc_row16_col17, #T_bd7fc_row17_col0, #T_bd7fc_row17_col1, #T_bd7fc_row17_col2, #T_bd7fc_row17_col3, #T_bd7fc_row17_col4, #T_bd7fc_row17_col5, #T_bd7fc_row17_col6, #T_bd7fc_row17_col7, #T_bd7fc_row17_col15, #T_bd7fc_row17_col16, #T_bd7fc_row17_col17 {\n",
              "  font-size: 6pt;\n",
              "  background-color: #ffffff;\n",
              "  color: #000000;\n",
              "}\n",
              "#T_bd7fc_row1_col5 {\n",
              "  font-size: 6pt;\n",
              "  background-color: #efefef;\n",
              "  color: #000000;\n",
              "}\n",
              "#T_bd7fc_row1_col6, #T_bd7fc_row1_col13 {\n",
              "  font-size: 6pt;\n",
              "  background-color: #7c7c7c;\n",
              "  color: #f1f1f1;\n",
              "}\n",
              "#T_bd7fc_row1_col7 {\n",
              "  font-size: 6pt;\n",
              "  background-color: #4a4a4a;\n",
              "  color: #f1f1f1;\n",
              "}\n",
              "#T_bd7fc_row1_col8, #T_bd7fc_row1_col9, #T_bd7fc_row1_col10, #T_bd7fc_row2_col5, #T_bd7fc_row2_col6, #T_bd7fc_row2_col7, #T_bd7fc_row2_col11, #T_bd7fc_row2_col12, #T_bd7fc_row2_col13, #T_bd7fc_row3_col4, #T_bd7fc_row3_col12, #T_bd7fc_row3_col13, #T_bd7fc_row4_col1, #T_bd7fc_row4_col2, #T_bd7fc_row4_col3, #T_bd7fc_row4_col12, #T_bd7fc_row4_col13, #T_bd7fc_row5_col12, #T_bd7fc_row6_col11, #T_bd7fc_row9_col11, #T_bd7fc_row10_col11, #T_bd7fc_row10_col12, #T_bd7fc_row10_col13, #T_bd7fc_row10_col14, #T_bd7fc_row11_col13, #T_bd7fc_row11_col14, #T_bd7fc_row11_col15, #T_bd7fc_row12_col14, #T_bd7fc_row12_col15, #T_bd7fc_row12_col16, #T_bd7fc_row13_col14, #T_bd7fc_row13_col15, #T_bd7fc_row14_col14, #T_bd7fc_row14_col15, #T_bd7fc_row15_col13, #T_bd7fc_row15_col14, #T_bd7fc_row16_col12, #T_bd7fc_row16_col13, #T_bd7fc_row17_col11, #T_bd7fc_row17_col12 {\n",
              "  font-size: 6pt;\n",
              "  background-color: #000000;\n",
              "  color: #f1f1f1;\n",
              "}\n",
              "#T_bd7fc_row1_col11 {\n",
              "  font-size: 6pt;\n",
              "  background-color: #606060;\n",
              "  color: #f1f1f1;\n",
              "}\n",
              "#T_bd7fc_row1_col12 {\n",
              "  font-size: 6pt;\n",
              "  background-color: #4d4d4d;\n",
              "  color: #f1f1f1;\n",
              "}\n",
              "#T_bd7fc_row1_col14 {\n",
              "  font-size: 6pt;\n",
              "  background-color: #bbbbbb;\n",
              "  color: #000000;\n",
              "}\n",
              "#T_bd7fc_row2_col3 {\n",
              "  font-size: 6pt;\n",
              "  background-color: #e4e4e4;\n",
              "  color: #000000;\n",
              "}\n",
              "#T_bd7fc_row2_col4, #T_bd7fc_row8_col6 {\n",
              "  font-size: 6pt;\n",
              "  background-color: #6b6b6b;\n",
              "  color: #f1f1f1;\n",
              "}\n",
              "#T_bd7fc_row2_col8, #T_bd7fc_row2_col14, #T_bd7fc_row3_col14, #T_bd7fc_row17_col13 {\n",
              "  font-size: 6pt;\n",
              "  background-color: #171717;\n",
              "  color: #f1f1f1;\n",
              "}\n",
              "#T_bd7fc_row2_col9, #T_bd7fc_row3_col11 {\n",
              "  font-size: 6pt;\n",
              "  background-color: #4b4b4b;\n",
              "  color: #f1f1f1;\n",
              "}\n",
              "#T_bd7fc_row2_col10, #T_bd7fc_row7_col10, #T_bd7fc_row8_col8, #T_bd7fc_row8_col10, #T_bd7fc_row9_col8, #T_bd7fc_row9_col10 {\n",
              "  font-size: 6pt;\n",
              "  background-color: #010101;\n",
              "  color: #f1f1f1;\n",
              "}\n",
              "#T_bd7fc_row3_col1 {\n",
              "  font-size: 6pt;\n",
              "  background-color: #272727;\n",
              "  color: #f1f1f1;\n",
              "}\n",
              "#T_bd7fc_row3_col2 {\n",
              "  font-size: 6pt;\n",
              "  background-color: #0a0a0a;\n",
              "  color: #f1f1f1;\n",
              "}\n",
              "#T_bd7fc_row3_col3, #T_bd7fc_row14_col13 {\n",
              "  font-size: 6pt;\n",
              "  background-color: #050505;\n",
              "  color: #f1f1f1;\n",
              "}\n",
              "#T_bd7fc_row3_col5 {\n",
              "  font-size: 6pt;\n",
              "  background-color: #333333;\n",
              "  color: #f1f1f1;\n",
              "}\n",
              "#T_bd7fc_row3_col6 {\n",
              "  font-size: 6pt;\n",
              "  background-color: #e6e6e6;\n",
              "  color: #000000;\n",
              "}\n",
              "#T_bd7fc_row3_col7, #T_bd7fc_row3_col10 {\n",
              "  font-size: 6pt;\n",
              "  background-color: #fafafa;\n",
              "  color: #000000;\n",
              "}\n",
              "#T_bd7fc_row3_col8, #T_bd7fc_row11_col10, #T_bd7fc_row16_col15 {\n",
              "  font-size: 6pt;\n",
              "  background-color: #fbfbfb;\n",
              "  color: #000000;\n",
              "}\n",
              "#T_bd7fc_row3_col9 {\n",
              "  font-size: 6pt;\n",
              "  background-color: #fdfdfd;\n",
              "  color: #000000;\n",
              "}\n",
              "#T_bd7fc_row4_col4 {\n",
              "  font-size: 6pt;\n",
              "  background-color: #1b1b1b;\n",
              "  color: #f1f1f1;\n",
              "}\n",
              "#T_bd7fc_row4_col5 {\n",
              "  font-size: 6pt;\n",
              "  background-color: #e0e0e0;\n",
              "  color: #000000;\n",
              "}\n",
              "#T_bd7fc_row4_col11 {\n",
              "  font-size: 6pt;\n",
              "  background-color: #4e4e4e;\n",
              "  color: #f1f1f1;\n",
              "}\n",
              "#T_bd7fc_row4_col14 {\n",
              "  font-size: 6pt;\n",
              "  background-color: #767676;\n",
              "  color: #f1f1f1;\n",
              "}\n",
              "#T_bd7fc_row5_col1 {\n",
              "  font-size: 6pt;\n",
              "  background-color: #fcfcfc;\n",
              "  color: #000000;\n",
              "}\n",
              "#T_bd7fc_row5_col2, #T_bd7fc_row5_col3, #T_bd7fc_row15_col16 {\n",
              "  font-size: 6pt;\n",
              "  background-color: #f6f6f6;\n",
              "  color: #000000;\n",
              "}\n",
              "#T_bd7fc_row5_col4, #T_bd7fc_row7_col7 {\n",
              "  font-size: 6pt;\n",
              "  background-color: #f8f8f8;\n",
              "  color: #000000;\n",
              "}\n",
              "#T_bd7fc_row5_col10, #T_bd7fc_row10_col7 {\n",
              "  font-size: 6pt;\n",
              "  background-color: #e8e8e8;\n",
              "  color: #000000;\n",
              "}\n",
              "#T_bd7fc_row5_col11 {\n",
              "  font-size: 6pt;\n",
              "  background-color: #222222;\n",
              "  color: #f1f1f1;\n",
              "}\n",
              "#T_bd7fc_row5_col13, #T_bd7fc_row6_col12 {\n",
              "  font-size: 6pt;\n",
              "  background-color: #090909;\n",
              "  color: #f1f1f1;\n",
              "}\n",
              "#T_bd7fc_row5_col14 {\n",
              "  font-size: 6pt;\n",
              "  background-color: #d0d0d0;\n",
              "  color: #000000;\n",
              "}\n",
              "#T_bd7fc_row6_col10, #T_bd7fc_row7_col11, #T_bd7fc_row9_col6 {\n",
              "  font-size: 6pt;\n",
              "  background-color: #060606;\n",
              "  color: #f1f1f1;\n",
              "}\n",
              "#T_bd7fc_row6_col13 {\n",
              "  font-size: 6pt;\n",
              "  background-color: #979797;\n",
              "  color: #f1f1f1;\n",
              "}\n",
              "#T_bd7fc_row7_col8 {\n",
              "  font-size: 6pt;\n",
              "  background-color: #b6b6b6;\n",
              "  color: #000000;\n",
              "}\n",
              "#T_bd7fc_row7_col9 {\n",
              "  font-size: 6pt;\n",
              "  background-color: #252525;\n",
              "  color: #f1f1f1;\n",
              "}\n",
              "#T_bd7fc_row7_col12 {\n",
              "  font-size: 6pt;\n",
              "  background-color: #999999;\n",
              "  color: #f1f1f1;\n",
              "}\n",
              "#T_bd7fc_row8_col5 {\n",
              "  font-size: 6pt;\n",
              "  background-color: #f9f9f9;\n",
              "  color: #000000;\n",
              "}\n",
              "#T_bd7fc_row8_col7 {\n",
              "  font-size: 6pt;\n",
              "  background-color: #101010;\n",
              "  color: #f1f1f1;\n",
              "}\n",
              "#T_bd7fc_row8_col9, #T_bd7fc_row9_col9, #T_bd7fc_row17_col10 {\n",
              "  font-size: 6pt;\n",
              "  background-color: #020202;\n",
              "  color: #f1f1f1;\n",
              "}\n",
              "#T_bd7fc_row8_col11, #T_bd7fc_row10_col15 {\n",
              "  font-size: 6pt;\n",
              "  background-color: #545454;\n",
              "  color: #f1f1f1;\n",
              "}\n",
              "#T_bd7fc_row8_col12 {\n",
              "  font-size: 6pt;\n",
              "  background-color: #f1f1f1;\n",
              "  color: #000000;\n",
              "}\n",
              "#T_bd7fc_row9_col5 {\n",
              "  font-size: 6pt;\n",
              "  background-color: #f7f7f7;\n",
              "  color: #000000;\n",
              "}\n",
              "#T_bd7fc_row9_col7 {\n",
              "  font-size: 6pt;\n",
              "  background-color: #030303;\n",
              "  color: #f1f1f1;\n",
              "}\n",
              "#T_bd7fc_row9_col12 {\n",
              "  font-size: 6pt;\n",
              "  background-color: #181818;\n",
              "  color: #f1f1f1;\n",
              "}\n",
              "#T_bd7fc_row9_col13 {\n",
              "  font-size: 6pt;\n",
              "  background-color: #303030;\n",
              "  color: #f1f1f1;\n",
              "}\n",
              "#T_bd7fc_row9_col14 {\n",
              "  font-size: 6pt;\n",
              "  background-color: #a9a9a9;\n",
              "  color: #f1f1f1;\n",
              "}\n",
              "#T_bd7fc_row9_col15 {\n",
              "  font-size: 6pt;\n",
              "  background-color: #fefefe;\n",
              "  color: #000000;\n",
              "}\n",
              "#T_bd7fc_row10_col8, #T_bd7fc_row10_col9, #T_bd7fc_row16_col10 {\n",
              "  font-size: 6pt;\n",
              "  background-color: #bababa;\n",
              "  color: #000000;\n",
              "}\n",
              "#T_bd7fc_row10_col10 {\n",
              "  font-size: 6pt;\n",
              "  background-color: #393939;\n",
              "  color: #f1f1f1;\n",
              "}\n",
              "#T_bd7fc_row10_col16 {\n",
              "  font-size: 6pt;\n",
              "  background-color: #eaeaea;\n",
              "  color: #000000;\n",
              "}\n",
              "#T_bd7fc_row11_col11 {\n",
              "  font-size: 6pt;\n",
              "  background-color: #e2e2e2;\n",
              "  color: #000000;\n",
              "}\n",
              "#T_bd7fc_row11_col12 {\n",
              "  font-size: 6pt;\n",
              "  background-color: #9f9f9f;\n",
              "  color: #f1f1f1;\n",
              "}\n",
              "#T_bd7fc_row11_col16 {\n",
              "  font-size: 6pt;\n",
              "  background-color: #898989;\n",
              "  color: #f1f1f1;\n",
              "}\n",
              "#T_bd7fc_row12_col13 {\n",
              "  font-size: 6pt;\n",
              "  background-color: #585858;\n",
              "  color: #f1f1f1;\n",
              "}\n",
              "#T_bd7fc_row13_col13 {\n",
              "  font-size: 6pt;\n",
              "  background-color: #5a5a5a;\n",
              "  color: #f1f1f1;\n",
              "}\n",
              "#T_bd7fc_row13_col16 {\n",
              "  font-size: 6pt;\n",
              "  background-color: #525252;\n",
              "  color: #f1f1f1;\n",
              "}\n",
              "#T_bd7fc_row14_col12 {\n",
              "  font-size: 6pt;\n",
              "  background-color: #c5c5c5;\n",
              "  color: #000000;\n",
              "}\n",
              "#T_bd7fc_row14_col16 {\n",
              "  font-size: 6pt;\n",
              "  background-color: #d7d7d7;\n",
              "  color: #000000;\n",
              "}\n",
              "#T_bd7fc_row15_col11 {\n",
              "  font-size: 6pt;\n",
              "  background-color: #dcdcdc;\n",
              "  color: #000000;\n",
              "}\n",
              "#T_bd7fc_row15_col12 {\n",
              "  font-size: 6pt;\n",
              "  background-color: #2f2f2f;\n",
              "  color: #f1f1f1;\n",
              "}\n",
              "#T_bd7fc_row15_col15 {\n",
              "  font-size: 6pt;\n",
              "  background-color: #636363;\n",
              "  color: #f1f1f1;\n",
              "}\n",
              "#T_bd7fc_row16_col11 {\n",
              "  font-size: 6pt;\n",
              "  background-color: #070707;\n",
              "  color: #f1f1f1;\n",
              "}\n",
              "#T_bd7fc_row16_col14 {\n",
              "  font-size: 6pt;\n",
              "  background-color: #1f1f1f;\n",
              "  color: #f1f1f1;\n",
              "}\n",
              "#T_bd7fc_row17_col8 {\n",
              "  font-size: 6pt;\n",
              "  background-color: #e9e9e9;\n",
              "  color: #000000;\n",
              "}\n",
              "#T_bd7fc_row17_col9 {\n",
              "  font-size: 6pt;\n",
              "  background-color: #7d7d7d;\n",
              "  color: #f1f1f1;\n",
              "}\n",
              "#T_bd7fc_row17_col14 {\n",
              "  font-size: 6pt;\n",
              "  background-color: #e1e1e1;\n",
              "  color: #000000;\n",
              "}\n",
              "</style>\n",
              "<table id=\"T_bd7fc\" class=\"dataframe\">\n",
              "  <thead>\n",
              "    <tr>\n",
              "      <th class=\"blank level0\" >&nbsp;</th>\n",
              "      <th id=\"T_bd7fc_level0_col0\" class=\"col_heading level0 col0\" >0</th>\n",
              "      <th id=\"T_bd7fc_level0_col1\" class=\"col_heading level0 col1\" >1</th>\n",
              "      <th id=\"T_bd7fc_level0_col2\" class=\"col_heading level0 col2\" >2</th>\n",
              "      <th id=\"T_bd7fc_level0_col3\" class=\"col_heading level0 col3\" >3</th>\n",
              "      <th id=\"T_bd7fc_level0_col4\" class=\"col_heading level0 col4\" >4</th>\n",
              "      <th id=\"T_bd7fc_level0_col5\" class=\"col_heading level0 col5\" >5</th>\n",
              "      <th id=\"T_bd7fc_level0_col6\" class=\"col_heading level0 col6\" >6</th>\n",
              "      <th id=\"T_bd7fc_level0_col7\" class=\"col_heading level0 col7\" >7</th>\n",
              "      <th id=\"T_bd7fc_level0_col8\" class=\"col_heading level0 col8\" >8</th>\n",
              "      <th id=\"T_bd7fc_level0_col9\" class=\"col_heading level0 col9\" >9</th>\n",
              "      <th id=\"T_bd7fc_level0_col10\" class=\"col_heading level0 col10\" >10</th>\n",
              "      <th id=\"T_bd7fc_level0_col11\" class=\"col_heading level0 col11\" >11</th>\n",
              "      <th id=\"T_bd7fc_level0_col12\" class=\"col_heading level0 col12\" >12</th>\n",
              "      <th id=\"T_bd7fc_level0_col13\" class=\"col_heading level0 col13\" >13</th>\n",
              "      <th id=\"T_bd7fc_level0_col14\" class=\"col_heading level0 col14\" >14</th>\n",
              "      <th id=\"T_bd7fc_level0_col15\" class=\"col_heading level0 col15\" >15</th>\n",
              "      <th id=\"T_bd7fc_level0_col16\" class=\"col_heading level0 col16\" >16</th>\n",
              "      <th id=\"T_bd7fc_level0_col17\" class=\"col_heading level0 col17\" >17</th>\n",
              "    </tr>\n",
              "  </thead>\n",
              "  <tbody>\n",
              "    <tr>\n",
              "      <th id=\"T_bd7fc_level0_row0\" class=\"row_heading level0 row0\" >0</th>\n",
              "      <td id=\"T_bd7fc_row0_col0\" class=\"data row0 col0\" >0</td>\n",
              "      <td id=\"T_bd7fc_row0_col1\" class=\"data row0 col1\" >0</td>\n",
              "      <td id=\"T_bd7fc_row0_col2\" class=\"data row0 col2\" >0</td>\n",
              "      <td id=\"T_bd7fc_row0_col3\" class=\"data row0 col3\" >0</td>\n",
              "      <td id=\"T_bd7fc_row0_col4\" class=\"data row0 col4\" >0</td>\n",
              "      <td id=\"T_bd7fc_row0_col5\" class=\"data row0 col5\" >0</td>\n",
              "      <td id=\"T_bd7fc_row0_col6\" class=\"data row0 col6\" >0</td>\n",
              "      <td id=\"T_bd7fc_row0_col7\" class=\"data row0 col7\" >0</td>\n",
              "      <td id=\"T_bd7fc_row0_col8\" class=\"data row0 col8\" >0</td>\n",
              "      <td id=\"T_bd7fc_row0_col9\" class=\"data row0 col9\" >0</td>\n",
              "      <td id=\"T_bd7fc_row0_col10\" class=\"data row0 col10\" >0</td>\n",
              "      <td id=\"T_bd7fc_row0_col11\" class=\"data row0 col11\" >0</td>\n",
              "      <td id=\"T_bd7fc_row0_col12\" class=\"data row0 col12\" >0</td>\n",
              "      <td id=\"T_bd7fc_row0_col13\" class=\"data row0 col13\" >0</td>\n",
              "      <td id=\"T_bd7fc_row0_col14\" class=\"data row0 col14\" >0</td>\n",
              "      <td id=\"T_bd7fc_row0_col15\" class=\"data row0 col15\" >0</td>\n",
              "      <td id=\"T_bd7fc_row0_col16\" class=\"data row0 col16\" >0</td>\n",
              "      <td id=\"T_bd7fc_row0_col17\" class=\"data row0 col17\" >0</td>\n",
              "    </tr>\n",
              "    <tr>\n",
              "      <th id=\"T_bd7fc_level0_row1\" class=\"row_heading level0 row1\" >1</th>\n",
              "      <td id=\"T_bd7fc_row1_col0\" class=\"data row1 col0\" >0</td>\n",
              "      <td id=\"T_bd7fc_row1_col1\" class=\"data row1 col1\" >0</td>\n",
              "      <td id=\"T_bd7fc_row1_col2\" class=\"data row1 col2\" >0</td>\n",
              "      <td id=\"T_bd7fc_row1_col3\" class=\"data row1 col3\" >0</td>\n",
              "      <td id=\"T_bd7fc_row1_col4\" class=\"data row1 col4\" >0</td>\n",
              "      <td id=\"T_bd7fc_row1_col5\" class=\"data row1 col5\" >29</td>\n",
              "      <td id=\"T_bd7fc_row1_col6\" class=\"data row1 col6\" >150</td>\n",
              "      <td id=\"T_bd7fc_row1_col7\" class=\"data row1 col7\" >195</td>\n",
              "      <td id=\"T_bd7fc_row1_col8\" class=\"data row1 col8\" >254</td>\n",
              "      <td id=\"T_bd7fc_row1_col9\" class=\"data row1 col9\" >255</td>\n",
              "      <td id=\"T_bd7fc_row1_col10\" class=\"data row1 col10\" >254</td>\n",
              "      <td id=\"T_bd7fc_row1_col11\" class=\"data row1 col11\" >176</td>\n",
              "      <td id=\"T_bd7fc_row1_col12\" class=\"data row1 col12\" >193</td>\n",
              "      <td id=\"T_bd7fc_row1_col13\" class=\"data row1 col13\" >150</td>\n",
              "      <td id=\"T_bd7fc_row1_col14\" class=\"data row1 col14\" >96</td>\n",
              "      <td id=\"T_bd7fc_row1_col15\" class=\"data row1 col15\" >0</td>\n",
              "      <td id=\"T_bd7fc_row1_col16\" class=\"data row1 col16\" >0</td>\n",
              "      <td id=\"T_bd7fc_row1_col17\" class=\"data row1 col17\" >0</td>\n",
              "    </tr>\n",
              "    <tr>\n",
              "      <th id=\"T_bd7fc_level0_row2\" class=\"row_heading level0 row2\" >2</th>\n",
              "      <td id=\"T_bd7fc_row2_col0\" class=\"data row2 col0\" >0</td>\n",
              "      <td id=\"T_bd7fc_row2_col1\" class=\"data row2 col1\" >0</td>\n",
              "      <td id=\"T_bd7fc_row2_col2\" class=\"data row2 col2\" >0</td>\n",
              "      <td id=\"T_bd7fc_row2_col3\" class=\"data row2 col3\" >48</td>\n",
              "      <td id=\"T_bd7fc_row2_col4\" class=\"data row2 col4\" >166</td>\n",
              "      <td id=\"T_bd7fc_row2_col5\" class=\"data row2 col5\" >224</td>\n",
              "      <td id=\"T_bd7fc_row2_col6\" class=\"data row2 col6\" >253</td>\n",
              "      <td id=\"T_bd7fc_row2_col7\" class=\"data row2 col7\" >253</td>\n",
              "      <td id=\"T_bd7fc_row2_col8\" class=\"data row2 col8\" >234</td>\n",
              "      <td id=\"T_bd7fc_row2_col9\" class=\"data row2 col9\" >196</td>\n",
              "      <td id=\"T_bd7fc_row2_col10\" class=\"data row2 col10\" >253</td>\n",
              "      <td id=\"T_bd7fc_row2_col11\" class=\"data row2 col11\" >253</td>\n",
              "      <td id=\"T_bd7fc_row2_col12\" class=\"data row2 col12\" >253</td>\n",
              "      <td id=\"T_bd7fc_row2_col13\" class=\"data row2 col13\" >253</td>\n",
              "      <td id=\"T_bd7fc_row2_col14\" class=\"data row2 col14\" >233</td>\n",
              "      <td id=\"T_bd7fc_row2_col15\" class=\"data row2 col15\" >0</td>\n",
              "      <td id=\"T_bd7fc_row2_col16\" class=\"data row2 col16\" >0</td>\n",
              "      <td id=\"T_bd7fc_row2_col17\" class=\"data row2 col17\" >0</td>\n",
              "    </tr>\n",
              "    <tr>\n",
              "      <th id=\"T_bd7fc_level0_row3\" class=\"row_heading level0 row3\" >3</th>\n",
              "      <td id=\"T_bd7fc_row3_col0\" class=\"data row3 col0\" >0</td>\n",
              "      <td id=\"T_bd7fc_row3_col1\" class=\"data row3 col1\" >93</td>\n",
              "      <td id=\"T_bd7fc_row3_col2\" class=\"data row3 col2\" >244</td>\n",
              "      <td id=\"T_bd7fc_row3_col3\" class=\"data row3 col3\" >249</td>\n",
              "      <td id=\"T_bd7fc_row3_col4\" class=\"data row3 col4\" >253</td>\n",
              "      <td id=\"T_bd7fc_row3_col5\" class=\"data row3 col5\" >187</td>\n",
              "      <td id=\"T_bd7fc_row3_col6\" class=\"data row3 col6\" >46</td>\n",
              "      <td id=\"T_bd7fc_row3_col7\" class=\"data row3 col7\" >10</td>\n",
              "      <td id=\"T_bd7fc_row3_col8\" class=\"data row3 col8\" >8</td>\n",
              "      <td id=\"T_bd7fc_row3_col9\" class=\"data row3 col9\" >4</td>\n",
              "      <td id=\"T_bd7fc_row3_col10\" class=\"data row3 col10\" >10</td>\n",
              "      <td id=\"T_bd7fc_row3_col11\" class=\"data row3 col11\" >194</td>\n",
              "      <td id=\"T_bd7fc_row3_col12\" class=\"data row3 col12\" >253</td>\n",
              "      <td id=\"T_bd7fc_row3_col13\" class=\"data row3 col13\" >253</td>\n",
              "      <td id=\"T_bd7fc_row3_col14\" class=\"data row3 col14\" >233</td>\n",
              "      <td id=\"T_bd7fc_row3_col15\" class=\"data row3 col15\" >0</td>\n",
              "      <td id=\"T_bd7fc_row3_col16\" class=\"data row3 col16\" >0</td>\n",
              "      <td id=\"T_bd7fc_row3_col17\" class=\"data row3 col17\" >0</td>\n",
              "    </tr>\n",
              "    <tr>\n",
              "      <th id=\"T_bd7fc_level0_row4\" class=\"row_heading level0 row4\" >4</th>\n",
              "      <td id=\"T_bd7fc_row4_col0\" class=\"data row4 col0\" >0</td>\n",
              "      <td id=\"T_bd7fc_row4_col1\" class=\"data row4 col1\" >107</td>\n",
              "      <td id=\"T_bd7fc_row4_col2\" class=\"data row4 col2\" >253</td>\n",
              "      <td id=\"T_bd7fc_row4_col3\" class=\"data row4 col3\" >253</td>\n",
              "      <td id=\"T_bd7fc_row4_col4\" class=\"data row4 col4\" >230</td>\n",
              "      <td id=\"T_bd7fc_row4_col5\" class=\"data row4 col5\" >48</td>\n",
              "      <td id=\"T_bd7fc_row4_col6\" class=\"data row4 col6\" >0</td>\n",
              "      <td id=\"T_bd7fc_row4_col7\" class=\"data row4 col7\" >0</td>\n",
              "      <td id=\"T_bd7fc_row4_col8\" class=\"data row4 col8\" >0</td>\n",
              "      <td id=\"T_bd7fc_row4_col9\" class=\"data row4 col9\" >0</td>\n",
              "      <td id=\"T_bd7fc_row4_col10\" class=\"data row4 col10\" >0</td>\n",
              "      <td id=\"T_bd7fc_row4_col11\" class=\"data row4 col11\" >192</td>\n",
              "      <td id=\"T_bd7fc_row4_col12\" class=\"data row4 col12\" >253</td>\n",
              "      <td id=\"T_bd7fc_row4_col13\" class=\"data row4 col13\" >253</td>\n",
              "      <td id=\"T_bd7fc_row4_col14\" class=\"data row4 col14\" >156</td>\n",
              "      <td id=\"T_bd7fc_row4_col15\" class=\"data row4 col15\" >0</td>\n",
              "      <td id=\"T_bd7fc_row4_col16\" class=\"data row4 col16\" >0</td>\n",
              "      <td id=\"T_bd7fc_row4_col17\" class=\"data row4 col17\" >0</td>\n",
              "    </tr>\n",
              "    <tr>\n",
              "      <th id=\"T_bd7fc_level0_row5\" class=\"row_heading level0 row5\" >5</th>\n",
              "      <td id=\"T_bd7fc_row5_col0\" class=\"data row5 col0\" >0</td>\n",
              "      <td id=\"T_bd7fc_row5_col1\" class=\"data row5 col1\" >3</td>\n",
              "      <td id=\"T_bd7fc_row5_col2\" class=\"data row5 col2\" >20</td>\n",
              "      <td id=\"T_bd7fc_row5_col3\" class=\"data row5 col3\" >20</td>\n",
              "      <td id=\"T_bd7fc_row5_col4\" class=\"data row5 col4\" >15</td>\n",
              "      <td id=\"T_bd7fc_row5_col5\" class=\"data row5 col5\" >0</td>\n",
              "      <td id=\"T_bd7fc_row5_col6\" class=\"data row5 col6\" >0</td>\n",
              "      <td id=\"T_bd7fc_row5_col7\" class=\"data row5 col7\" >0</td>\n",
              "      <td id=\"T_bd7fc_row5_col8\" class=\"data row5 col8\" >0</td>\n",
              "      <td id=\"T_bd7fc_row5_col9\" class=\"data row5 col9\" >0</td>\n",
              "      <td id=\"T_bd7fc_row5_col10\" class=\"data row5 col10\" >43</td>\n",
              "      <td id=\"T_bd7fc_row5_col11\" class=\"data row5 col11\" >224</td>\n",
              "      <td id=\"T_bd7fc_row5_col12\" class=\"data row5 col12\" >253</td>\n",
              "      <td id=\"T_bd7fc_row5_col13\" class=\"data row5 col13\" >245</td>\n",
              "      <td id=\"T_bd7fc_row5_col14\" class=\"data row5 col14\" >74</td>\n",
              "      <td id=\"T_bd7fc_row5_col15\" class=\"data row5 col15\" >0</td>\n",
              "      <td id=\"T_bd7fc_row5_col16\" class=\"data row5 col16\" >0</td>\n",
              "      <td id=\"T_bd7fc_row5_col17\" class=\"data row5 col17\" >0</td>\n",
              "    </tr>\n",
              "    <tr>\n",
              "      <th id=\"T_bd7fc_level0_row6\" class=\"row_heading level0 row6\" >6</th>\n",
              "      <td id=\"T_bd7fc_row6_col0\" class=\"data row6 col0\" >0</td>\n",
              "      <td id=\"T_bd7fc_row6_col1\" class=\"data row6 col1\" >0</td>\n",
              "      <td id=\"T_bd7fc_row6_col2\" class=\"data row6 col2\" >0</td>\n",
              "      <td id=\"T_bd7fc_row6_col3\" class=\"data row6 col3\" >0</td>\n",
              "      <td id=\"T_bd7fc_row6_col4\" class=\"data row6 col4\" >0</td>\n",
              "      <td id=\"T_bd7fc_row6_col5\" class=\"data row6 col5\" >0</td>\n",
              "      <td id=\"T_bd7fc_row6_col6\" class=\"data row6 col6\" >0</td>\n",
              "      <td id=\"T_bd7fc_row6_col7\" class=\"data row6 col7\" >0</td>\n",
              "      <td id=\"T_bd7fc_row6_col8\" class=\"data row6 col8\" >0</td>\n",
              "      <td id=\"T_bd7fc_row6_col9\" class=\"data row6 col9\" >0</td>\n",
              "      <td id=\"T_bd7fc_row6_col10\" class=\"data row6 col10\" >249</td>\n",
              "      <td id=\"T_bd7fc_row6_col11\" class=\"data row6 col11\" >253</td>\n",
              "      <td id=\"T_bd7fc_row6_col12\" class=\"data row6 col12\" >245</td>\n",
              "      <td id=\"T_bd7fc_row6_col13\" class=\"data row6 col13\" >126</td>\n",
              "      <td id=\"T_bd7fc_row6_col14\" class=\"data row6 col14\" >0</td>\n",
              "      <td id=\"T_bd7fc_row6_col15\" class=\"data row6 col15\" >0</td>\n",
              "      <td id=\"T_bd7fc_row6_col16\" class=\"data row6 col16\" >0</td>\n",
              "      <td id=\"T_bd7fc_row6_col17\" class=\"data row6 col17\" >0</td>\n",
              "    </tr>\n",
              "    <tr>\n",
              "      <th id=\"T_bd7fc_level0_row7\" class=\"row_heading level0 row7\" >7</th>\n",
              "      <td id=\"T_bd7fc_row7_col0\" class=\"data row7 col0\" >0</td>\n",
              "      <td id=\"T_bd7fc_row7_col1\" class=\"data row7 col1\" >0</td>\n",
              "      <td id=\"T_bd7fc_row7_col2\" class=\"data row7 col2\" >0</td>\n",
              "      <td id=\"T_bd7fc_row7_col3\" class=\"data row7 col3\" >0</td>\n",
              "      <td id=\"T_bd7fc_row7_col4\" class=\"data row7 col4\" >0</td>\n",
              "      <td id=\"T_bd7fc_row7_col5\" class=\"data row7 col5\" >0</td>\n",
              "      <td id=\"T_bd7fc_row7_col6\" class=\"data row7 col6\" >0</td>\n",
              "      <td id=\"T_bd7fc_row7_col7\" class=\"data row7 col7\" >14</td>\n",
              "      <td id=\"T_bd7fc_row7_col8\" class=\"data row7 col8\" >101</td>\n",
              "      <td id=\"T_bd7fc_row7_col9\" class=\"data row7 col9\" >223</td>\n",
              "      <td id=\"T_bd7fc_row7_col10\" class=\"data row7 col10\" >253</td>\n",
              "      <td id=\"T_bd7fc_row7_col11\" class=\"data row7 col11\" >248</td>\n",
              "      <td id=\"T_bd7fc_row7_col12\" class=\"data row7 col12\" >124</td>\n",
              "      <td id=\"T_bd7fc_row7_col13\" class=\"data row7 col13\" >0</td>\n",
              "      <td id=\"T_bd7fc_row7_col14\" class=\"data row7 col14\" >0</td>\n",
              "      <td id=\"T_bd7fc_row7_col15\" class=\"data row7 col15\" >0</td>\n",
              "      <td id=\"T_bd7fc_row7_col16\" class=\"data row7 col16\" >0</td>\n",
              "      <td id=\"T_bd7fc_row7_col17\" class=\"data row7 col17\" >0</td>\n",
              "    </tr>\n",
              "    <tr>\n",
              "      <th id=\"T_bd7fc_level0_row8\" class=\"row_heading level0 row8\" >8</th>\n",
              "      <td id=\"T_bd7fc_row8_col0\" class=\"data row8 col0\" >0</td>\n",
              "      <td id=\"T_bd7fc_row8_col1\" class=\"data row8 col1\" >0</td>\n",
              "      <td id=\"T_bd7fc_row8_col2\" class=\"data row8 col2\" >0</td>\n",
              "      <td id=\"T_bd7fc_row8_col3\" class=\"data row8 col3\" >0</td>\n",
              "      <td id=\"T_bd7fc_row8_col4\" class=\"data row8 col4\" >0</td>\n",
              "      <td id=\"T_bd7fc_row8_col5\" class=\"data row8 col5\" >11</td>\n",
              "      <td id=\"T_bd7fc_row8_col6\" class=\"data row8 col6\" >166</td>\n",
              "      <td id=\"T_bd7fc_row8_col7\" class=\"data row8 col7\" >239</td>\n",
              "      <td id=\"T_bd7fc_row8_col8\" class=\"data row8 col8\" >253</td>\n",
              "      <td id=\"T_bd7fc_row8_col9\" class=\"data row8 col9\" >253</td>\n",
              "      <td id=\"T_bd7fc_row8_col10\" class=\"data row8 col10\" >253</td>\n",
              "      <td id=\"T_bd7fc_row8_col11\" class=\"data row8 col11\" >187</td>\n",
              "      <td id=\"T_bd7fc_row8_col12\" class=\"data row8 col12\" >30</td>\n",
              "      <td id=\"T_bd7fc_row8_col13\" class=\"data row8 col13\" >0</td>\n",
              "      <td id=\"T_bd7fc_row8_col14\" class=\"data row8 col14\" >0</td>\n",
              "      <td id=\"T_bd7fc_row8_col15\" class=\"data row8 col15\" >0</td>\n",
              "      <td id=\"T_bd7fc_row8_col16\" class=\"data row8 col16\" >0</td>\n",
              "      <td id=\"T_bd7fc_row8_col17\" class=\"data row8 col17\" >0</td>\n",
              "    </tr>\n",
              "    <tr>\n",
              "      <th id=\"T_bd7fc_level0_row9\" class=\"row_heading level0 row9\" >9</th>\n",
              "      <td id=\"T_bd7fc_row9_col0\" class=\"data row9 col0\" >0</td>\n",
              "      <td id=\"T_bd7fc_row9_col1\" class=\"data row9 col1\" >0</td>\n",
              "      <td id=\"T_bd7fc_row9_col2\" class=\"data row9 col2\" >0</td>\n",
              "      <td id=\"T_bd7fc_row9_col3\" class=\"data row9 col3\" >0</td>\n",
              "      <td id=\"T_bd7fc_row9_col4\" class=\"data row9 col4\" >0</td>\n",
              "      <td id=\"T_bd7fc_row9_col5\" class=\"data row9 col5\" >16</td>\n",
              "      <td id=\"T_bd7fc_row9_col6\" class=\"data row9 col6\" >248</td>\n",
              "      <td id=\"T_bd7fc_row9_col7\" class=\"data row9 col7\" >250</td>\n",
              "      <td id=\"T_bd7fc_row9_col8\" class=\"data row9 col8\" >253</td>\n",
              "      <td id=\"T_bd7fc_row9_col9\" class=\"data row9 col9\" >253</td>\n",
              "      <td id=\"T_bd7fc_row9_col10\" class=\"data row9 col10\" >253</td>\n",
              "      <td id=\"T_bd7fc_row9_col11\" class=\"data row9 col11\" >253</td>\n",
              "      <td id=\"T_bd7fc_row9_col12\" class=\"data row9 col12\" >232</td>\n",
              "      <td id=\"T_bd7fc_row9_col13\" class=\"data row9 col13\" >213</td>\n",
              "      <td id=\"T_bd7fc_row9_col14\" class=\"data row9 col14\" >111</td>\n",
              "      <td id=\"T_bd7fc_row9_col15\" class=\"data row9 col15\" >2</td>\n",
              "      <td id=\"T_bd7fc_row9_col16\" class=\"data row9 col16\" >0</td>\n",
              "      <td id=\"T_bd7fc_row9_col17\" class=\"data row9 col17\" >0</td>\n",
              "    </tr>\n",
              "    <tr>\n",
              "      <th id=\"T_bd7fc_level0_row10\" class=\"row_heading level0 row10\" >10</th>\n",
              "      <td id=\"T_bd7fc_row10_col0\" class=\"data row10 col0\" >0</td>\n",
              "      <td id=\"T_bd7fc_row10_col1\" class=\"data row10 col1\" >0</td>\n",
              "      <td id=\"T_bd7fc_row10_col2\" class=\"data row10 col2\" >0</td>\n",
              "      <td id=\"T_bd7fc_row10_col3\" class=\"data row10 col3\" >0</td>\n",
              "      <td id=\"T_bd7fc_row10_col4\" class=\"data row10 col4\" >0</td>\n",
              "      <td id=\"T_bd7fc_row10_col5\" class=\"data row10 col5\" >0</td>\n",
              "      <td id=\"T_bd7fc_row10_col6\" class=\"data row10 col6\" >0</td>\n",
              "      <td id=\"T_bd7fc_row10_col7\" class=\"data row10 col7\" >43</td>\n",
              "      <td id=\"T_bd7fc_row10_col8\" class=\"data row10 col8\" >98</td>\n",
              "      <td id=\"T_bd7fc_row10_col9\" class=\"data row10 col9\" >98</td>\n",
              "      <td id=\"T_bd7fc_row10_col10\" class=\"data row10 col10\" >208</td>\n",
              "      <td id=\"T_bd7fc_row10_col11\" class=\"data row10 col11\" >253</td>\n",
              "      <td id=\"T_bd7fc_row10_col12\" class=\"data row10 col12\" >253</td>\n",
              "      <td id=\"T_bd7fc_row10_col13\" class=\"data row10 col13\" >253</td>\n",
              "      <td id=\"T_bd7fc_row10_col14\" class=\"data row10 col14\" >253</td>\n",
              "      <td id=\"T_bd7fc_row10_col15\" class=\"data row10 col15\" >187</td>\n",
              "      <td id=\"T_bd7fc_row10_col16\" class=\"data row10 col16\" >22</td>\n",
              "      <td id=\"T_bd7fc_row10_col17\" class=\"data row10 col17\" >0</td>\n",
              "    </tr>\n",
              "    <tr>\n",
              "      <th id=\"T_bd7fc_level0_row11\" class=\"row_heading level0 row11\" >11</th>\n",
              "      <td id=\"T_bd7fc_row11_col0\" class=\"data row11 col0\" >0</td>\n",
              "      <td id=\"T_bd7fc_row11_col1\" class=\"data row11 col1\" >0</td>\n",
              "      <td id=\"T_bd7fc_row11_col2\" class=\"data row11 col2\" >0</td>\n",
              "      <td id=\"T_bd7fc_row11_col3\" class=\"data row11 col3\" >0</td>\n",
              "      <td id=\"T_bd7fc_row11_col4\" class=\"data row11 col4\" >0</td>\n",
              "      <td id=\"T_bd7fc_row11_col5\" class=\"data row11 col5\" >0</td>\n",
              "      <td id=\"T_bd7fc_row11_col6\" class=\"data row11 col6\" >0</td>\n",
              "      <td id=\"T_bd7fc_row11_col7\" class=\"data row11 col7\" >0</td>\n",
              "      <td id=\"T_bd7fc_row11_col8\" class=\"data row11 col8\" >0</td>\n",
              "      <td id=\"T_bd7fc_row11_col9\" class=\"data row11 col9\" >0</td>\n",
              "      <td id=\"T_bd7fc_row11_col10\" class=\"data row11 col10\" >9</td>\n",
              "      <td id=\"T_bd7fc_row11_col11\" class=\"data row11 col11\" >51</td>\n",
              "      <td id=\"T_bd7fc_row11_col12\" class=\"data row11 col12\" >119</td>\n",
              "      <td id=\"T_bd7fc_row11_col13\" class=\"data row11 col13\" >253</td>\n",
              "      <td id=\"T_bd7fc_row11_col14\" class=\"data row11 col14\" >253</td>\n",
              "      <td id=\"T_bd7fc_row11_col15\" class=\"data row11 col15\" >253</td>\n",
              "      <td id=\"T_bd7fc_row11_col16\" class=\"data row11 col16\" >76</td>\n",
              "      <td id=\"T_bd7fc_row11_col17\" class=\"data row11 col17\" >0</td>\n",
              "    </tr>\n",
              "    <tr>\n",
              "      <th id=\"T_bd7fc_level0_row12\" class=\"row_heading level0 row12\" >12</th>\n",
              "      <td id=\"T_bd7fc_row12_col0\" class=\"data row12 col0\" >0</td>\n",
              "      <td id=\"T_bd7fc_row12_col1\" class=\"data row12 col1\" >0</td>\n",
              "      <td id=\"T_bd7fc_row12_col2\" class=\"data row12 col2\" >0</td>\n",
              "      <td id=\"T_bd7fc_row12_col3\" class=\"data row12 col3\" >0</td>\n",
              "      <td id=\"T_bd7fc_row12_col4\" class=\"data row12 col4\" >0</td>\n",
              "      <td id=\"T_bd7fc_row12_col5\" class=\"data row12 col5\" >0</td>\n",
              "      <td id=\"T_bd7fc_row12_col6\" class=\"data row12 col6\" >0</td>\n",
              "      <td id=\"T_bd7fc_row12_col7\" class=\"data row12 col7\" >0</td>\n",
              "      <td id=\"T_bd7fc_row12_col8\" class=\"data row12 col8\" >0</td>\n",
              "      <td id=\"T_bd7fc_row12_col9\" class=\"data row12 col9\" >0</td>\n",
              "      <td id=\"T_bd7fc_row12_col10\" class=\"data row12 col10\" >0</td>\n",
              "      <td id=\"T_bd7fc_row12_col11\" class=\"data row12 col11\" >0</td>\n",
              "      <td id=\"T_bd7fc_row12_col12\" class=\"data row12 col12\" >1</td>\n",
              "      <td id=\"T_bd7fc_row12_col13\" class=\"data row12 col13\" >183</td>\n",
              "      <td id=\"T_bd7fc_row12_col14\" class=\"data row12 col14\" >253</td>\n",
              "      <td id=\"T_bd7fc_row12_col15\" class=\"data row12 col15\" >253</td>\n",
              "      <td id=\"T_bd7fc_row12_col16\" class=\"data row12 col16\" >139</td>\n",
              "      <td id=\"T_bd7fc_row12_col17\" class=\"data row12 col17\" >0</td>\n",
              "    </tr>\n",
              "    <tr>\n",
              "      <th id=\"T_bd7fc_level0_row13\" class=\"row_heading level0 row13\" >13</th>\n",
              "      <td id=\"T_bd7fc_row13_col0\" class=\"data row13 col0\" >0</td>\n",
              "      <td id=\"T_bd7fc_row13_col1\" class=\"data row13 col1\" >0</td>\n",
              "      <td id=\"T_bd7fc_row13_col2\" class=\"data row13 col2\" >0</td>\n",
              "      <td id=\"T_bd7fc_row13_col3\" class=\"data row13 col3\" >0</td>\n",
              "      <td id=\"T_bd7fc_row13_col4\" class=\"data row13 col4\" >0</td>\n",
              "      <td id=\"T_bd7fc_row13_col5\" class=\"data row13 col5\" >0</td>\n",
              "      <td id=\"T_bd7fc_row13_col6\" class=\"data row13 col6\" >0</td>\n",
              "      <td id=\"T_bd7fc_row13_col7\" class=\"data row13 col7\" >0</td>\n",
              "      <td id=\"T_bd7fc_row13_col8\" class=\"data row13 col8\" >0</td>\n",
              "      <td id=\"T_bd7fc_row13_col9\" class=\"data row13 col9\" >0</td>\n",
              "      <td id=\"T_bd7fc_row13_col10\" class=\"data row13 col10\" >0</td>\n",
              "      <td id=\"T_bd7fc_row13_col11\" class=\"data row13 col11\" >0</td>\n",
              "      <td id=\"T_bd7fc_row13_col12\" class=\"data row13 col12\" >0</td>\n",
              "      <td id=\"T_bd7fc_row13_col13\" class=\"data row13 col13\" >182</td>\n",
              "      <td id=\"T_bd7fc_row13_col14\" class=\"data row13 col14\" >253</td>\n",
              "      <td id=\"T_bd7fc_row13_col15\" class=\"data row13 col15\" >253</td>\n",
              "      <td id=\"T_bd7fc_row13_col16\" class=\"data row13 col16\" >104</td>\n",
              "      <td id=\"T_bd7fc_row13_col17\" class=\"data row13 col17\" >0</td>\n",
              "    </tr>\n",
              "    <tr>\n",
              "      <th id=\"T_bd7fc_level0_row14\" class=\"row_heading level0 row14\" >14</th>\n",
              "      <td id=\"T_bd7fc_row14_col0\" class=\"data row14 col0\" >0</td>\n",
              "      <td id=\"T_bd7fc_row14_col1\" class=\"data row14 col1\" >0</td>\n",
              "      <td id=\"T_bd7fc_row14_col2\" class=\"data row14 col2\" >0</td>\n",
              "      <td id=\"T_bd7fc_row14_col3\" class=\"data row14 col3\" >0</td>\n",
              "      <td id=\"T_bd7fc_row14_col4\" class=\"data row14 col4\" >0</td>\n",
              "      <td id=\"T_bd7fc_row14_col5\" class=\"data row14 col5\" >0</td>\n",
              "      <td id=\"T_bd7fc_row14_col6\" class=\"data row14 col6\" >0</td>\n",
              "      <td id=\"T_bd7fc_row14_col7\" class=\"data row14 col7\" >0</td>\n",
              "      <td id=\"T_bd7fc_row14_col8\" class=\"data row14 col8\" >0</td>\n",
              "      <td id=\"T_bd7fc_row14_col9\" class=\"data row14 col9\" >0</td>\n",
              "      <td id=\"T_bd7fc_row14_col10\" class=\"data row14 col10\" >0</td>\n",
              "      <td id=\"T_bd7fc_row14_col11\" class=\"data row14 col11\" >0</td>\n",
              "      <td id=\"T_bd7fc_row14_col12\" class=\"data row14 col12\" >85</td>\n",
              "      <td id=\"T_bd7fc_row14_col13\" class=\"data row14 col13\" >249</td>\n",
              "      <td id=\"T_bd7fc_row14_col14\" class=\"data row14 col14\" >253</td>\n",
              "      <td id=\"T_bd7fc_row14_col15\" class=\"data row14 col15\" >253</td>\n",
              "      <td id=\"T_bd7fc_row14_col16\" class=\"data row14 col16\" >36</td>\n",
              "      <td id=\"T_bd7fc_row14_col17\" class=\"data row14 col17\" >0</td>\n",
              "    </tr>\n",
              "    <tr>\n",
              "      <th id=\"T_bd7fc_level0_row15\" class=\"row_heading level0 row15\" >15</th>\n",
              "      <td id=\"T_bd7fc_row15_col0\" class=\"data row15 col0\" >0</td>\n",
              "      <td id=\"T_bd7fc_row15_col1\" class=\"data row15 col1\" >0</td>\n",
              "      <td id=\"T_bd7fc_row15_col2\" class=\"data row15 col2\" >0</td>\n",
              "      <td id=\"T_bd7fc_row15_col3\" class=\"data row15 col3\" >0</td>\n",
              "      <td id=\"T_bd7fc_row15_col4\" class=\"data row15 col4\" >0</td>\n",
              "      <td id=\"T_bd7fc_row15_col5\" class=\"data row15 col5\" >0</td>\n",
              "      <td id=\"T_bd7fc_row15_col6\" class=\"data row15 col6\" >0</td>\n",
              "      <td id=\"T_bd7fc_row15_col7\" class=\"data row15 col7\" >0</td>\n",
              "      <td id=\"T_bd7fc_row15_col8\" class=\"data row15 col8\" >0</td>\n",
              "      <td id=\"T_bd7fc_row15_col9\" class=\"data row15 col9\" >0</td>\n",
              "      <td id=\"T_bd7fc_row15_col10\" class=\"data row15 col10\" >0</td>\n",
              "      <td id=\"T_bd7fc_row15_col11\" class=\"data row15 col11\" >60</td>\n",
              "      <td id=\"T_bd7fc_row15_col12\" class=\"data row15 col12\" >214</td>\n",
              "      <td id=\"T_bd7fc_row15_col13\" class=\"data row15 col13\" >253</td>\n",
              "      <td id=\"T_bd7fc_row15_col14\" class=\"data row15 col14\" >253</td>\n",
              "      <td id=\"T_bd7fc_row15_col15\" class=\"data row15 col15\" >173</td>\n",
              "      <td id=\"T_bd7fc_row15_col16\" class=\"data row15 col16\" >11</td>\n",
              "      <td id=\"T_bd7fc_row15_col17\" class=\"data row15 col17\" >0</td>\n",
              "    </tr>\n",
              "    <tr>\n",
              "      <th id=\"T_bd7fc_level0_row16\" class=\"row_heading level0 row16\" >16</th>\n",
              "      <td id=\"T_bd7fc_row16_col0\" class=\"data row16 col0\" >0</td>\n",
              "      <td id=\"T_bd7fc_row16_col1\" class=\"data row16 col1\" >0</td>\n",
              "      <td id=\"T_bd7fc_row16_col2\" class=\"data row16 col2\" >0</td>\n",
              "      <td id=\"T_bd7fc_row16_col3\" class=\"data row16 col3\" >0</td>\n",
              "      <td id=\"T_bd7fc_row16_col4\" class=\"data row16 col4\" >0</td>\n",
              "      <td id=\"T_bd7fc_row16_col5\" class=\"data row16 col5\" >0</td>\n",
              "      <td id=\"T_bd7fc_row16_col6\" class=\"data row16 col6\" >0</td>\n",
              "      <td id=\"T_bd7fc_row16_col7\" class=\"data row16 col7\" >0</td>\n",
              "      <td id=\"T_bd7fc_row16_col8\" class=\"data row16 col8\" >0</td>\n",
              "      <td id=\"T_bd7fc_row16_col9\" class=\"data row16 col9\" >0</td>\n",
              "      <td id=\"T_bd7fc_row16_col10\" class=\"data row16 col10\" >98</td>\n",
              "      <td id=\"T_bd7fc_row16_col11\" class=\"data row16 col11\" >247</td>\n",
              "      <td id=\"T_bd7fc_row16_col12\" class=\"data row16 col12\" >253</td>\n",
              "      <td id=\"T_bd7fc_row16_col13\" class=\"data row16 col13\" >253</td>\n",
              "      <td id=\"T_bd7fc_row16_col14\" class=\"data row16 col14\" >226</td>\n",
              "      <td id=\"T_bd7fc_row16_col15\" class=\"data row16 col15\" >9</td>\n",
              "      <td id=\"T_bd7fc_row16_col16\" class=\"data row16 col16\" >0</td>\n",
              "      <td id=\"T_bd7fc_row16_col17\" class=\"data row16 col17\" >0</td>\n",
              "    </tr>\n",
              "    <tr>\n",
              "      <th id=\"T_bd7fc_level0_row17\" class=\"row_heading level0 row17\" >17</th>\n",
              "      <td id=\"T_bd7fc_row17_col0\" class=\"data row17 col0\" >0</td>\n",
              "      <td id=\"T_bd7fc_row17_col1\" class=\"data row17 col1\" >0</td>\n",
              "      <td id=\"T_bd7fc_row17_col2\" class=\"data row17 col2\" >0</td>\n",
              "      <td id=\"T_bd7fc_row17_col3\" class=\"data row17 col3\" >0</td>\n",
              "      <td id=\"T_bd7fc_row17_col4\" class=\"data row17 col4\" >0</td>\n",
              "      <td id=\"T_bd7fc_row17_col5\" class=\"data row17 col5\" >0</td>\n",
              "      <td id=\"T_bd7fc_row17_col6\" class=\"data row17 col6\" >0</td>\n",
              "      <td id=\"T_bd7fc_row17_col7\" class=\"data row17 col7\" >0</td>\n",
              "      <td id=\"T_bd7fc_row17_col8\" class=\"data row17 col8\" >42</td>\n",
              "      <td id=\"T_bd7fc_row17_col9\" class=\"data row17 col9\" >150</td>\n",
              "      <td id=\"T_bd7fc_row17_col10\" class=\"data row17 col10\" >252</td>\n",
              "      <td id=\"T_bd7fc_row17_col11\" class=\"data row17 col11\" >253</td>\n",
              "      <td id=\"T_bd7fc_row17_col12\" class=\"data row17 col12\" >253</td>\n",
              "      <td id=\"T_bd7fc_row17_col13\" class=\"data row17 col13\" >233</td>\n",
              "      <td id=\"T_bd7fc_row17_col14\" class=\"data row17 col14\" >53</td>\n",
              "      <td id=\"T_bd7fc_row17_col15\" class=\"data row17 col15\" >0</td>\n",
              "      <td id=\"T_bd7fc_row17_col16\" class=\"data row17 col16\" >0</td>\n",
              "      <td id=\"T_bd7fc_row17_col17\" class=\"data row17 col17\" >0</td>\n",
              "    </tr>\n",
              "  </tbody>\n",
              "</table>\n"
            ]
          },
          "metadata": {},
          "execution_count": 8
        }
      ]
    },
    {
      "cell_type": "markdown",
      "source": [
        "#Piksellar o'xshashligidan foydalanib o'rtacha qaysi holat va uni idel 3 deb olamiz"
      ],
      "metadata": {
        "id": "OZih_FhL_0t8"
      }
    },
    {
      "cell_type": "code",
      "source": [
        "#tensor ko'rinishiga keltirib olamiz\n",
        "three_tensors = [tensor(Image.open(i)) for i in threes]\n",
        "seven_tensors = [tensor(Image.open(i)) for i in sevens]\n",
        "\n",
        "len(three_tensors), len(seven_tensors)"
      ],
      "metadata": {
        "colab": {
          "base_uri": "https://localhost:8080/"
        },
        "id": "jZZVo0IX_Wag",
        "outputId": "e26578b5-cbad-47a1-c4c6-1577d47fe0d5"
      },
      "execution_count": 9,
      "outputs": [
        {
          "output_type": "execute_result",
          "data": {
            "text/plain": [
              "(6131, 6265)"
            ]
          },
          "metadata": {},
          "execution_count": 9
        }
      ]
    },
    {
      "cell_type": "code",
      "source": [
        "show_image(three_tensors[2])"
      ],
      "metadata": {
        "colab": {
          "base_uri": "https://localhost:8080/",
          "height": 131
        },
        "id": "pVZFw9vABjQE",
        "outputId": "a91d224d-6db1-4cd4-e371-254ef3b712d9"
      },
      "execution_count": 10,
      "outputs": [
        {
          "output_type": "execute_result",
          "data": {
            "text/plain": [
              "<Axes: >"
            ]
          },
          "metadata": {},
          "execution_count": 10
        },
        {
          "output_type": "display_data",
          "data": {
            "text/plain": [
              "<Figure size 100x100 with 1 Axes>"
            ],
            "image/png": "[encoded data removed]"
          },
          "metadata": {}
        }
      ]
    },
    {
      "cell_type": "code",
      "source": [
        "#Stacking\n",
        "stacked_threes = torch.stack(three_tensors).float()/255\n",
        "stacked_sevens = torch.stack(seven_tensors).float()/255\n",
        "#stacked_threes.shape\n",
        "stacked_sevens.shape"
      ],
      "metadata": {
        "colab": {
          "base_uri": "https://localhost:8080/"
        },
        "id": "AZ6maqm1B0iV",
        "outputId": "269101ed-92fb-4c6c-cb8e-5edb970ff9f5"
      },
      "execution_count": 11,
      "outputs": [
        {
          "output_type": "execute_result",
          "data": {
            "text/plain": [
              "torch.Size([6265, 28, 28])"
            ]
          },
          "metadata": {},
          "execution_count": 11
        }
      ]
    },
    {
      "cell_type": "code",
      "source": [
        "#ideal 3 ni topish\n",
        "mean3 = stacked_threes.mean(0)\n",
        "show_image(mean3)"
      ],
      "metadata": {
        "colab": {
          "base_uri": "https://localhost:8080/",
          "height": 131
        },
        "id": "Z3JFyxlsDxfe",
        "outputId": "87a895ed-a836-4ce4-aedb-220f584b9b52"
      },
      "execution_count": 12,
      "outputs": [
        {
          "output_type": "execute_result",
          "data": {
            "text/plain": [
              "<Axes: >"
            ]
          },
          "metadata": {},
          "execution_count": 12
        },
        {
          "output_type": "display_data",
          "data": {
            "text/plain": [
              "<Figure size 100x100 with 1 Axes>"
            ],
            "image/png": "[encoded data removed]"
          },
          "metadata": {}
        }
      ]
    },
    {
      "cell_type": "code",
      "source": [
        "mean7 = stacked_sevens.mean(0)\n",
        "show_image(mean7)"
      ],
      "metadata": {
        "colab": {
          "base_uri": "https://localhost:8080/",
          "height": 131
        },
        "id": "pU1tgNtwEqA8",
        "outputId": "bd8f05e7-2335-4cef-bb8d-e5e0077c4d54"
      },
      "execution_count": 13,
      "outputs": [
        {
          "output_type": "execute_result",
          "data": {
            "text/plain": [
              "<Axes: >"
            ]
          },
          "metadata": {},
          "execution_count": 13
        },
        {
          "output_type": "display_data",
          "data": {
            "text/plain": [
              "<Figure size 100x100 with 1 Axes>"
            ],
            "image/png": "[encoded data removed]"
          },
          "metadata": {}
        }
      ]
    },
    {
      "cell_type": "markdown",
      "source": [
        "#Xatoliklarni olchash\n",
        "\n",
        "Mean absolute defference (error) = MAE yoki L1 norm\n",
        "\n",
        "Root Mean Squarred Error RMSE = L2 norm"
      ],
      "metadata": {
        "id": "VRpCrbBcFLmI"
      }
    },
    {
      "cell_type": "code",
      "source": [
        "s_3 = stacked_threes[1]\n",
        "show_image(s_3)"
      ],
      "metadata": {
        "colab": {
          "base_uri": "https://localhost:8080/",
          "height": 131
        },
        "id": "aCpfHa74Exae",
        "outputId": "a26c2225-d552-418d-d504-6f9cdf8c2d98"
      },
      "execution_count": 14,
      "outputs": [
        {
          "output_type": "execute_result",
          "data": {
            "text/plain": [
              "<Axes: >"
            ]
          },
          "metadata": {},
          "execution_count": 14
        },
        {
          "output_type": "display_data",
          "data": {
            "text/plain": [
              "<Figure size 100x100 with 1 Axes>"
            ],
            "image/png": "[encoded data removed]"
          },
          "metadata": {}
        }
      ]
    },
    {
      "cell_type": "code",
      "source": [
        "#MAE\n",
        "mae = (s_3 - mean3).abs().mean()\n",
        "\n",
        "#RMSE\n",
        "rmse = ((s_3 - mean3)**2).mean().sqrt()\n",
        "\n",
        "mae, rmse"
      ],
      "metadata": {
        "colab": {
          "base_uri": "https://localhost:8080/"
        },
        "id": "_4VDdB4ZGAcD",
        "outputId": "3975eb86-c289-4283-d854-63b6baca56c3"
      },
      "execution_count": 15,
      "outputs": [
        {
          "output_type": "execute_result",
          "data": {
            "text/plain": [
              "(tensor(0.1114), tensor(0.2021))"
            ]
          },
          "metadata": {},
          "execution_count": 15
        }
      ]
    },
    {
      "cell_type": "code",
      "source": [
        "#MAE\n",
        "mae = (s_3 - mean7).abs().mean()\n",
        "\n",
        "#RMSE\n",
        "rmse = ((s_3 - mean7)**2).mean().sqrt()\n",
        "\n",
        "mae, rmse"
      ],
      "metadata": {
        "colab": {
          "base_uri": "https://localhost:8080/"
        },
        "id": "t6OHWg2bG2DQ",
        "outputId": "8286c734-ba9b-4043-b31b-0d51f5305ba1"
      },
      "execution_count": 16,
      "outputs": [
        {
          "output_type": "execute_result",
          "data": {
            "text/plain": [
              "(tensor(0.1586), tensor(0.3021))"
            ]
          },
          "metadata": {},
          "execution_count": 16
        }
      ]
    },
    {
      "cell_type": "markdown",
      "source": [
        "#NP array va Torch tensor lardan foydalanish\n"
      ],
      "metadata": {
        "id": "Pv-roXgGNW9O"
      }
    },
    {
      "cell_type": "code",
      "source": [
        "from fastai.vision.all import *\n",
        "\n",
        "data = [[1,2,3],[4,5,6]] #nested list\n",
        "arr = array(data) #numpy array\n",
        "tns = tensor(data) #torch tensor\n"
      ],
      "metadata": {
        "id": "Rbq5_VS5HH9f"
      },
      "execution_count": 17,
      "outputs": []
    },
    {
      "cell_type": "code",
      "source": [
        "data"
      ],
      "metadata": {
        "colab": {
          "base_uri": "https://localhost:8080/"
        },
        "id": "EsxlfNq9Ob7V",
        "outputId": "de1de375-2c7d-4f8d-b11b-23c291a101f5"
      },
      "execution_count": 18,
      "outputs": [
        {
          "output_type": "execute_result",
          "data": {
            "text/plain": [
              "[[1, 2, 3], [4, 5, 6]]"
            ]
          },
          "metadata": {},
          "execution_count": 18
        }
      ]
    },
    {
      "cell_type": "code",
      "source": [
        "arr"
      ],
      "metadata": {
        "colab": {
          "base_uri": "https://localhost:8080/"
        },
        "id": "SrN5JzzMOduc",
        "outputId": "70a6410b-40f0-495e-88bf-5fba51dfd560"
      },
      "execution_count": 19,
      "outputs": [
        {
          "output_type": "execute_result",
          "data": {
            "text/plain": [
              "array([[1, 2, 3],\n",
              "       [4, 5, 6]])"
            ]
          },
          "metadata": {},
          "execution_count": 19
        }
      ]
    },
    {
      "cell_type": "code",
      "source": [
        "tns"
      ],
      "metadata": {
        "colab": {
          "base_uri": "https://localhost:8080/"
        },
        "id": "p0xBMUWEOeyp",
        "outputId": "bee64e06-a3bc-4fc8-fff3-74ae251fe3b4"
      },
      "execution_count": 20,
      "outputs": [
        {
          "output_type": "execute_result",
          "data": {
            "text/plain": [
              "tensor([[1, 2, 3],\n",
              "        [4, 5, 6]])"
            ]
          },
          "metadata": {},
          "execution_count": 20
        }
      ]
    },
    {
      "cell_type": "markdown",
      "source": [
        "#modelni aniqligini broadcasting orqali aniqlash\n",
        "\n"
      ],
      "metadata": {
        "id": "fOAmdq1PO3iU"
      }
    },
    {
      "cell_type": "code",
      "source": [
        "valid_3_tens = torch.stack([tensor(Image.open(i)) for i in (path/'valid'/'3').ls()])\n",
        "valid_3_tens = valid_3_tens.float()/255\n",
        "\n",
        "valid_7_tens = torch.stack([tensor(Image.open(i)) for i in (path/'valid'/'7').ls()])\n",
        "valid_7_tens = valid_7_tens.float()/255\n",
        "\n",
        "valid_3_tens.shape, valid_7_tens.shape"
      ],
      "metadata": {
        "colab": {
          "base_uri": "https://localhost:8080/"
        },
        "id": "s5Twz0QiSVkR",
        "outputId": "837d9e47-0b42-434b-e5b7-309ab84e55f7"
      },
      "execution_count": 21,
      "outputs": [
        {
          "output_type": "execute_result",
          "data": {
            "text/plain": [
              "(torch.Size([1010, 28, 28]), torch.Size([1028, 28, 28]))"
            ]
          },
          "metadata": {},
          "execution_count": 21
        }
      ]
    },
    {
      "cell_type": "markdown",
      "source": [
        "# MAEni funkstsiyaga aylantiramiz"
      ],
      "metadata": {
        "id": "anxxbDKAUIiH"
      }
    },
    {
      "cell_type": "code",
      "source": [
        "#mae xatolik funktsiyasi\n",
        "def mae(a, b):\n",
        "  return (a-b).abs().mean((-1, -2))\n",
        "\n",
        "#tekshirish\n",
        "mae(s_3, mean3)\n",
        "\n",
        "valid_3_errors = mae(valid_3_tens, mean3)\n",
        "valid_7_errors = mae(valid_7_tens, mean7)\n",
        "\n",
        "valid_3_errors, valid_3_errors.shape\n"
      ],
      "metadata": {
        "colab": {
          "base_uri": "https://localhost:8080/"
        },
        "id": "7DbvDYPkSXPb",
        "outputId": "fce16cc6-0293-4027-8a1f-42c3eaaf63a9"
      },
      "execution_count": 22,
      "outputs": [
        {
          "output_type": "execute_result",
          "data": {
            "text/plain": [
              "(tensor([0.1439, 0.1409, 0.1225,  ..., 0.1327, 0.1315, 0.1239]),\n",
              " torch.Size([1010]))"
            ]
          },
          "metadata": {},
          "execution_count": 22
        }
      ]
    },
    {
      "cell_type": "markdown",
      "source": [
        "#Natijalovchi funktsiya"
      ],
      "metadata": {
        "id": "_RCAOImfZ3Rw"
      }
    },
    {
      "cell_type": "code",
      "source": [
        "def is_3(x):\n",
        "  return mae(x, mean3) < mae(x, mean7)\n",
        "\n",
        "def is_7(x):\n",
        "  return mae(x, mean7) < mae(x, mean3)\n",
        "\n",
        "is_3(s_3), is_3(s_3).float()"
      ],
      "metadata": {
        "colab": {
          "base_uri": "https://localhost:8080/"
        },
        "id": "NJFnQYjcVBkA",
        "outputId": "b88a1e6f-1fd4-42d7-d845-a31357ed23c9"
      },
      "execution_count": 23,
      "outputs": [
        {
          "output_type": "execute_result",
          "data": {
            "text/plain": [
              "(tensor(True), tensor(1.))"
            ]
          },
          "metadata": {},
          "execution_count": 23
        }
      ]
    },
    {
      "cell_type": "code",
      "source": [
        "accuracy_3s = is_3(valid_3_tens).float().mean()\n",
        "accuracy_7s = is_7(valid_7_tens).float().mean()\n",
        "\n",
        "accuracy_3s, accuracy_7s, (accuracy_3s+accuracy_7s)/2"
      ],
      "metadata": {
        "colab": {
          "base_uri": "https://localhost:8080/"
        },
        "id": "LH-Gc8Dqamjf",
        "outputId": "f9f907f1-26b7-488a-89cc-f0c2ced2928f"
      },
      "execution_count": 24,
      "outputs": [
        {
          "output_type": "execute_result",
          "data": {
            "text/plain": [
              "(tensor(0.9168), tensor(0.9854), tensor(0.9511))"
            ]
          },
          "metadata": {},
          "execution_count": 24
        }
      ]
    },
    {
      "cell_type": "markdown",
      "source": [
        "# Endi bu dasturni machine learningda aniqlash\n",
        "Klassifikatorga o'tkazib ko'rish, ya'ni machine o'zini o'zi o'qitib yechim topishi uchun"
      ],
      "metadata": {
        "id": "M892FLlaUxVZ"
      }
    },
    {
      "cell_type": "code",
      "source": [
        "#Boshlang'ich weightsni yaratib olamiz randomly tarzda (y=wx+b)\n",
        "\n",
        "#lossni hisoblash Loss bu xatolikni o'lchash mezoni\n",
        "\n",
        "#step bu gradientning natijasiga ko'ra weightsni o'shirish yoki kamaytirishni ko'rsatadi\n",
        "\n",
        "#stop bu natijamizga ko'ra jarayonni to'xtatish\n",
        "\n"
      ],
      "metadata": {
        "id": "CIuYzMt3cI0K"
      },
      "execution_count": 25,
      "outputs": []
    },
    {
      "cell_type": "code",
      "source": [
        "def loss(w):\n",
        "  return w**2\n",
        ""
      ],
      "metadata": {
        "id": "ThA16GlFXyzZ"
      },
      "execution_count": 26,
      "outputs": []
    },
    {
      "cell_type": "code",
      "source": [
        "# prompt: create plotting function code\n",
        "\n",
        "import matplotlib.pyplot as plt\n",
        "\n",
        "def plot_function(func, start, end, num_points=100):\n",
        "    x_vals = torch.linspace(start, end, num_points)\n",
        "    y_vals = func(x_vals)\n",
        "    plt.plot(x_vals.numpy(), y_vals.numpy())\n",
        "    plt.xlabel('x')\n",
        "    plt.ylabel('f(x)')\n",
        "    plt.title('Plot of the Function')\n",
        "    plt.grid(True)\n",
        "    plt.show()"
      ],
      "metadata": {
        "id": "jku2bS7Jc1GE"
      },
      "execution_count": 27,
      "outputs": []
    },
    {
      "cell_type": "code",
      "source": [
        " #gradientni aniqlash\n",
        " w_t = torch.tensor(3., requires_grad=True)\n",
        " w_t"
      ],
      "metadata": {
        "colab": {
          "base_uri": "https://localhost:8080/"
        },
        "id": "nmAYxqKTdooQ",
        "outputId": "cfa71783-c89d-44c9-b279-4603e2ad11bd"
      },
      "execution_count": 28,
      "outputs": [
        {
          "output_type": "execute_result",
          "data": {
            "text/plain": [
              "tensor(3., requires_grad=True)"
            ]
          },
          "metadata": {},
          "execution_count": 28
        }
      ]
    },
    {
      "cell_type": "code",
      "source": [
        "loss_v = loss(w_t)\n",
        "loss_v"
      ],
      "metadata": {
        "colab": {
          "base_uri": "https://localhost:8080/"
        },
        "id": "fB6MRDueeN0L",
        "outputId": "3d1e8acd-0b2b-4ebb-923c-e762ae5f023f"
      },
      "execution_count": 29,
      "outputs": [
        {
          "output_type": "execute_result",
          "data": {
            "text/plain": [
              "tensor(9., grad_fn=<PowBackward0>)"
            ]
          },
          "metadata": {},
          "execution_count": 29
        }
      ]
    },
    {
      "cell_type": "code",
      "source": [
        "loss_v.backward()"
      ],
      "metadata": {
        "id": "3eVjGaZpeYG3"
      },
      "execution_count": 30,
      "outputs": []
    },
    {
      "cell_type": "code",
      "source": [
        "w_t.grad"
      ],
      "metadata": {
        "colab": {
          "base_uri": "https://localhost:8080/"
        },
        "id": "vgjiToUde3zy",
        "outputId": "8007c136-f11c-40cd-9ddf-d7a87ce7d03a"
      },
      "execution_count": 31,
      "outputs": [
        {
          "output_type": "execute_result",
          "data": {
            "text/plain": [
              "tensor(6.)"
            ]
          },
          "metadata": {},
          "execution_count": 31
        }
      ]
    },
    {
      "cell_type": "markdown",
      "source": [
        "#Step with learning rate\n",
        "\n",
        "w = w+lr.grad yoki w = w-lr.grad\n",
        "\n",
        "python tilida w + = lr * w.grad yoki w - = lr * w.grad"
      ],
      "metadata": {
        "id": "82f5RSxufbGV"
      }
    },
    {
      "cell_type": "markdown",
      "source": [
        "# Stokastic Gradient uchun to'liq misol"
      ],
      "metadata": {
        "id": "Kpy995AW2hlE"
      }
    },
    {
      "cell_type": "code",
      "source": [
        "time = torch.arange(0,20).float()\n",
        "time"
      ],
      "metadata": {
        "colab": {
          "base_uri": "https://localhost:8080/"
        },
        "id": "mWZCbWy7e6f6",
        "outputId": "0051f040-be60-4475-9576-42b3d3893b4a"
      },
      "execution_count": 32,
      "outputs": [
        {
          "output_type": "execute_result",
          "data": {
            "text/plain": [
              "tensor([ 0.,  1.,  2.,  3.,  4.,  5.,  6.,  7.,  8.,  9., 10., 11., 12., 13.,\n",
              "        14., 15., 16., 17., 18., 19.])"
            ]
          },
          "metadata": {},
          "execution_count": 32
        }
      ]
    },
    {
      "cell_type": "code",
      "source": [
        "speed = torch.randn(20)*3+0.75*(time-9.5)**2+1\n",
        "\n",
        "#plotting\n",
        "plt.scatter(time, speed)\n",
        "plt.xlabel('time')\n",
        "plt.ylabel('speed')\n",
        "plt.title('ROLLERNING TEZLIGI')\n",
        "plt.show()"
      ],
      "metadata": {
        "colab": {
          "base_uri": "https://localhost:8080/",
          "height": 472
        },
        "id": "CKNj2TwI3TOR",
        "outputId": "b9db844a-c0b5-4c34-aea8-cf3a850742b8"
      },
      "execution_count": 33,
      "outputs": [
        {
          "output_type": "display_data",
          "data": {
            "text/plain": [
              "<Figure size 640x480 with 1 Axes>"
            ],
            "image/png": "[encoded data removed]"
          },
          "metadata": {}
        }
      ]
    },
    {
      "cell_type": "code",
      "source": [
        "#Kvadratik funktsiya yaratuvchi\n",
        "def f(t, paramas):\n",
        "  a, b, c = paramas\n",
        "  return a*(time**2)+(b*time)+c"
      ],
      "metadata": {
        "id": "naAXJ0hW4Fyc"
      },
      "execution_count": 34,
      "outputs": []
    },
    {
      "cell_type": "code",
      "source": [
        "# MSE mean squarred error\n",
        "#loss function\n",
        "def mse(preds, targets):\n",
        "  return ((preds-targets)**2).mean()"
      ],
      "metadata": {
        "id": "kSW2rKsX6G8A"
      },
      "execution_count": 35,
      "outputs": []
    },
    {
      "cell_type": "code",
      "source": [
        "# 1-qadam init\n",
        "params = torch.randn(3).requires_grad_()\n",
        "params\n"
      ],
      "metadata": {
        "colab": {
          "base_uri": "https://localhost:8080/"
        },
        "id": "oC9xsQAi6ot8",
        "outputId": "bcf8f583-f884-46c9-a129-1250e126edbd"
      },
      "execution_count": 37,
      "outputs": [
        {
          "output_type": "execute_result",
          "data": {
            "text/plain": [
              "tensor([ 0.3383, -1.0530, -1.2885], requires_grad=True)"
            ]
          },
          "metadata": {},
          "execution_count": 37
        }
      ]
    },
    {
      "cell_type": "code",
      "source": [
        "# 2-qadam predict\n",
        "preds = f(time, params)\n",
        "preds"
      ],
      "metadata": {
        "colab": {
          "base_uri": "https://localhost:8080/"
        },
        "id": "2k-3z9pc7ZJy",
        "outputId": "1c6e1b2d-1c0b-4931-eee8-526e25b76f7d"
      },
      "execution_count": 47,
      "outputs": [
        {
          "output_type": "execute_result",
          "data": {
            "text/plain": [
              "tensor([-1.2885, -2.0794, -2.3370, -2.0615, -1.2529,  0.0889,  1.9638,  4.3719,\n",
              "         7.3132, 10.7876, 14.7951, 19.3359, 24.4097, 30.0167, 36.1569, 42.8302,\n",
              "        50.0367, 57.7764, 66.0491, 74.8551], grad_fn=<AddBackward0>)"
            ]
          },
          "metadata": {},
          "execution_count": 47
        }
      ]
    },
    {
      "cell_type": "code",
      "source": [
        "# 3-qadam lossni hisoblash\n",
        "loss = mse(preds, speed)\n",
        "loss"
      ],
      "metadata": {
        "colab": {
          "base_uri": "https://localhost:8080/"
        },
        "id": "XTZqCtus7yA7",
        "outputId": "fd58f752-838e-4416-c793-10b94d9d8c39"
      },
      "execution_count": 48,
      "outputs": [
        {
          "output_type": "execute_result",
          "data": {
            "text/plain": [
              "tensor(758.0123, grad_fn=<MeanBackward0>)"
            ]
          },
          "metadata": {},
          "execution_count": 48
        }
      ]
    },
    {
      "cell_type": "code",
      "source": [
        "# 4-qadam Gradientni hisoblash\n",
        "loss.backward()\n",
        "params.grad"
      ],
      "metadata": {
        "colab": {
          "base_uri": "https://localhost:8080/"
        },
        "id": "I726kEC9-I1t",
        "outputId": "0646cdb1-bd9b-4391-e2f5-812ad418e7b4"
      },
      "execution_count": 49,
      "outputs": [
        {
          "output_type": "execute_result",
          "data": {
            "text/plain": [
              "tensor([3120.9099,  183.0871,   -8.6404])"
            ]
          },
          "metadata": {},
          "execution_count": 49
        }
      ]
    },
    {
      "cell_type": "code",
      "source": [
        "# 5-qadam Step\n",
        "lr = 1e-5\n",
        "params.data-=lr*params.grad.data\n",
        "params.grad = None"
      ],
      "metadata": {
        "id": "WGdH1vhH-Uv_"
      },
      "execution_count": 50,
      "outputs": []
    },
    {
      "cell_type": "code",
      "source": [
        "# 6-qadam 2-qadamga qaytib takroran predict qilish\n",
        "preds = f(time, params)\n",
        "# yangi qiymat uchun xatolikni hisoblash\n",
        "mse(preds, speed)"
      ],
      "metadata": {
        "colab": {
          "base_uri": "https://localhost:8080/"
        },
        "id": "cUosnMzc-1Ga",
        "outputId": "00a848cb-1a17-48b8-e009-02509eb98dc6"
      },
      "execution_count": 51,
      "outputs": [
        {
          "output_type": "execute_result",
          "data": {
            "text/plain": [
              "tensor(687.8837, grad_fn=<MeanBackward0>)"
            ]
          },
          "metadata": {},
          "execution_count": 51
        }
      ]
    },
    {
      "cell_type": "code",
      "source": [
        "def apply_step(params, prnn=True):\n",
        "  preds = f(time, params)\n",
        "  loss = mse(preds, speed)\n",
        "  loss.backward()\n",
        "  params.data -= lr * params.grad.data\n",
        "  params.grad = None\n",
        "  if prnn: print(loss.item())\n",
        "  return preds\n"
      ],
      "metadata": {
        "id": "qwQFl921AZGu"
      },
      "execution_count": 53,
      "outputs": []
    },
    {
      "cell_type": "code",
      "source": [
        "# 7-qadam istalgan epochgacha qadamni o'qitish\n",
        "for epoch in range(10):\n",
        "  apply_step(params)"
      ],
      "metadata": {
        "colab": {
          "base_uri": "https://localhost:8080/"
        },
        "id": "iHgwHKboB6Xc",
        "outputId": "ef9efcc4-c9b0-4f43-eb5c-13ba1855f686"
      },
      "execution_count": 54,
      "outputs": [
        {
          "output_type": "stream",
          "name": "stdout",
          "text": [
            "687.8836669921875\n",
            "674.6068115234375\n",
            "672.087890625\n",
            "671.6048583984375\n",
            "671.5070190429688\n",
            "671.4820556640625\n",
            "671.4708862304688\n",
            "671.46240234375\n",
            "671.454345703125\n",
            "671.4464111328125\n"
          ]
        }
      ]
    },
    {
      "cell_type": "code",
      "source": [
        "# Import necessary libraries\n",
        "import matplotlib.pyplot as plt\n",
        "import torch\n",
        "\n",
        "# ... (Your existing code) ...\n",
        "\n",
        "def show_preds(preds, ax=None):\n",
        "    \"\"\"Plots predictions against actual values.\"\"\"\n",
        "    if ax is None: ax=plt.subplots()[1]\n",
        "    ax.scatter(time, speed)\n",
        "    ax.scatter(time, to_np(preds), color='red')\n",
        "    ax.set_xlabel('time')\n",
        "    ax.set_ylabel('speed')\n",
        "    ax.set_title('ROLLERNING TEZLIGI')\n",
        "\n",
        "# ... (Rest of your code, including the loop with `apply_step` and visualization) ..."
      ],
      "metadata": {
        "id": "LQwo8u7-Lfxt"
      },
      "execution_count": 56,
      "outputs": []
    },
    {
      "cell_type": "code",
      "source": [
        "# 7-qadam istalgan epochgacha qadamni o'qitish\n",
        "for epoch in range(10):\n",
        "  apply_step(params)\n",
        "\n",
        "# ... (Rest of your existing code) ...\n",
        "\n",
        "# Change `prn` to `prnn` in the `apply_step` call within the loop\n",
        "_ , axs = plt.subplots(1, 4, figsize=(14, 3) )\n",
        "for ax in axs: # Change axs to ax here to avoid shadowing outer variable\n",
        "  show_preds(apply_step(params, prnn=False), ax) # Changed 'prn' to 'prnn' here\n",
        "  plt.tight_layout()"
      ],
      "metadata": {
        "colab": {
          "base_uri": "https://localhost:8080/",
          "height": 322
        },
        "id": "3tSEnXSsLqBm",
        "outputId": "307b21a5-7569-406f-c92d-fdafeb277495"
      },
      "execution_count": 58,
      "outputs": [
        {
          "output_type": "stream",
          "name": "stdout",
          "text": [
            "671.4384155273438\n",
            "671.4305419921875\n",
            "671.422607421875\n",
            "671.4146728515625\n",
            "671.4066772460938\n",
            "671.3988037109375\n",
            "671.3909301757812\n",
            "671.3829345703125\n",
            "671.3751220703125\n",
            "671.3671875\n"
          ]
        },
        {
          "output_type": "display_data",
          "data": {
            "text/plain": [
              "<Figure size 1400x300 with 4 Axes>"
            ],
            "image/png": "[encoded data removed]"
          },
          "metadata": {}
        }
      ]
    },
    {
      "cell_type": "code",
      "source": [],
      "metadata": {
        "id": "BM9M0fs3LVPT"
      },
      "execution_count": null,
      "outputs": []
    }
  ]
}