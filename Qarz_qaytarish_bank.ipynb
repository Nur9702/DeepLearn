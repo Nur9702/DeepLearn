{
  "metadata": {
    "kernelspec": {
      "language": "python",
      "display_name": "Python 3",
      "name": "python3"
    },
    "language_info": {
      "name": "python",
      "version": "3.10.12",
      "mimetype": "text/x-python",
      "codemirror_mode": {
        "name": "ipython",
        "version": 3
      },
      "pygments_lexer": "ipython3",
      "nbconvert_exporter": "python",
      "file_extension": ".py"
    },
    "kaggle": {
      "accelerator": "none",
      "dataSources": [
        {
          "sourceId": 85304,
          "databundleVersionId": 9625621,
          "sourceType": "competition"
        }
      ],
      "dockerImageVersionId": 30918,
      "isInternetEnabled": false,
      "language": "python",
      "sourceType": "notebook",
      "isGpuEnabled": false
    },
    "colab": {
      "name": "Prognozofbank",
      "provenance": [],
      "include_colab_link": true
    }
  },
  "nbformat_minor": 0,
  "nbformat": 4,
  "cells": [
    {
      "cell_type": "markdown",
      "metadata": {
        "id": "view-in-github",
        "colab_type": "text"
      },
      "source": [
        "<a href=\"https://colab.research.google.com/github/Nur9702/DeepLearn/blob/main/Qarz_qaytarish_bank.ipynb\" target=\"_parent\"><img src=\"https://colab.research.google.com/assets/colab-badge.svg\" alt=\"Open In Colab\"/></a>"
      ]
    },
    {
      "source": [
        "# IMPORTANT: SOME KAGGLE DATA SOURCES ARE PRIVATE\n",
        "# RUN THIS CELL IN ORDER TO IMPORT YOUR KAGGLE DATA SOURCES.\n",
        "import kagglehub\n",
        "kagglehub.login()\n"
      ],
      "metadata": {
        "id": "PABS5SZz6Hkp"
      },
      "cell_type": "code",
      "outputs": [],
      "execution_count": null
    },
    {
      "source": [
        "# IMPORTANT: RUN THIS CELL IN ORDER TO IMPORT YOUR KAGGLE DATA SOURCES,\n",
        "# THEN FEEL FREE TO DELETE THIS CELL.\n",
        "# NOTE: THIS NOTEBOOK ENVIRONMENT DIFFERS FROM KAGGLE'S PYTHON\n",
        "# ENVIRONMENT SO THERE MAY BE MISSING LIBRARIES USED BY YOUR\n",
        "# NOTEBOOK.\n",
        "\n",
        "binaryclassificationwithabankchurndataset_path = kagglehub.competition_download('binaryclassificationwithabankchurndataset')\n",
        "\n",
        "print('Data source import complete.')\n"
      ],
      "metadata": {
        "id": "wFluA2Qv6Hkr"
      },
      "cell_type": "code",
      "outputs": [],
      "execution_count": null
    },
    {
      "cell_type": "code",
      "source": [
        "# This Python 3 environment comes with many helpful analytics libraries installed\n",
        "# It is defined by the kaggle/python Docker image: https://github.com/kaggle/docker-python\n",
        "# For example, here's several helpful packages to load\n",
        "\n",
        "import numpy as np # linear algebra\n",
        "import pandas as pd # data processing, CSV file I/O (e.g. pd.read_csv)\n",
        "\n",
        "# Input data files are available in the read-only \"../input/\" directory\n",
        "# For example, running this (by clicking run or pressing Shift+Enter) will list all files under the input directory\n",
        "\n",
        "import os\n",
        "for dirname, _, filenames in os.walk('/kaggle/input'):\n",
        "    for filename in filenames:\n",
        "        print(os.path.join(dirname, filename))\n",
        "\n",
        "# You can write up to 20GB to the current directory (/kaggle/working/) that gets preserved as output when you create a version using \"Save & Run All\"\n",
        "# You can also write temporary files to /kaggle/temp/, but they won't be saved outside of the current session"
      ],
      "metadata": {
        "_uuid": "8f2839f25d086af736a60e9eeb907d3b93b6e0e5",
        "_cell_guid": "b1076dfc-b9ad-4769-8c92-a6c4dae69d19",
        "trusted": true,
        "execution": {
          "iopub.status.busy": "2025-03-17T09:52:27.107897Z",
          "iopub.execute_input": "2025-03-17T09:52:27.108182Z",
          "iopub.status.idle": "2025-03-17T09:52:28.303409Z",
          "shell.execute_reply.started": "2025-03-17T09:52:27.108154Z",
          "shell.execute_reply": "2025-03-17T09:52:28.302375Z"
        },
        "id": "zCVgQXQy6Hks",
        "outputId": "694660a9-faa7-46cb-c962-51bb48addb0e"
      },
      "outputs": [
        {
          "name": "stdout",
          "text": "/kaggle/input/binaryclassificationwithabankchurndataset/sample_submission.csv\n/kaggle/input/binaryclassificationwithabankchurndataset/train.csv\n/kaggle/input/binaryclassificationwithabankchurndataset/test.csv\n",
          "output_type": "stream"
        }
      ],
      "execution_count": null
    },
    {
      "cell_type": "code",
      "source": [
        "!/kaggle/input/binaryclassificationwithabankchurndataset"
      ],
      "metadata": {
        "trusted": true,
        "execution": {
          "iopub.status.busy": "2025-03-17T09:52:28.304468Z",
          "iopub.execute_input": "2025-03-17T09:52:28.305096Z",
          "iopub.status.idle": "2025-03-17T09:52:28.429938Z",
          "shell.execute_reply.started": "2025-03-17T09:52:28.305056Z",
          "shell.execute_reply": "2025-03-17T09:52:28.428632Z"
        },
        "id": "vNqkt9L06Hkt",
        "outputId": "3cd9078f-73bf-41cb-9653-e48a95e1686f"
      },
      "outputs": [
        {
          "name": "stdout",
          "text": "/bin/bash: line 1: /kaggle/input/binaryclassificationwithabankchurndataset: Is a directory\n",
          "output_type": "stream"
        }
      ],
      "execution_count": null
    },
    {
      "cell_type": "code",
      "source": [
        "!/kaggle/input/binaryclassificationwithabankchurndataset/train.csv"
      ],
      "metadata": {
        "trusted": true,
        "execution": {
          "iopub.status.busy": "2025-03-17T09:52:28.560182Z",
          "iopub.execute_input": "2025-03-17T09:52:28.561577Z",
          "iopub.status.idle": "2025-03-17T09:52:28.699877Z",
          "shell.execute_reply.started": "2025-03-17T09:52:28.560489Z",
          "shell.execute_reply": "2025-03-17T09:52:28.698369Z"
        },
        "id": "qgEiWXT16Hkt",
        "outputId": "b3b498dd-efa6-4090-bd59-f44e323d4a57"
      },
      "outputs": [
        {
          "name": "stdout",
          "text": "/bin/bash: line 1: /kaggle/input/binaryclassificationwithabankchurndataset/train.csv: Permission denied\n",
          "output_type": "stream"
        }
      ],
      "execution_count": null
    },
    {
      "cell_type": "code",
      "source": [
        "import numpy as np\n",
        "import pandas as pd\n",
        "import seaborn as sns\n",
        "from sklearn.model_selection import train_test_split\n",
        "from sklearn import svm\n",
        "from sklearn.metrics import accuracy_score"
      ],
      "metadata": {
        "trusted": true,
        "execution": {
          "iopub.status.busy": "2025-03-17T09:52:28.701722Z",
          "iopub.execute_input": "2025-03-17T09:52:28.702073Z",
          "iopub.status.idle": "2025-03-17T09:52:30.445946Z",
          "shell.execute_reply.started": "2025-03-17T09:52:28.70204Z",
          "shell.execute_reply": "2025-03-17T09:52:30.444851Z"
        },
        "id": "nyD99TTx6Hku"
      },
      "outputs": [],
      "execution_count": null
    },
    {
      "cell_type": "code",
      "source": [
        "train = pd.read_csv('/kaggle/input/binaryclassificationwithabankchurndataset/train.csv', index_col='id')\n",
        "\n",
        "test = pd.read_csv('/kaggle/input/binaryclassificationwithabankchurndataset/test.csv', index_col='id')\n",
        "\n",
        "submission = pd.read_csv('/kaggle/input/binaryclassificationwithabankchurndataset/sample_submission.csv')\n",
        "\n",
        "train.head()"
      ],
      "metadata": {
        "trusted": true,
        "execution": {
          "iopub.status.busy": "2025-03-17T10:10:20.708443Z",
          "iopub.execute_input": "2025-03-17T10:10:20.7089Z",
          "iopub.status.idle": "2025-03-17T10:10:20.795564Z",
          "shell.execute_reply.started": "2025-03-17T10:10:20.708868Z",
          "shell.execute_reply": "2025-03-17T10:10:20.79468Z"
        },
        "id": "qVy4pEdZ6Hku",
        "outputId": "11ee2ce1-6ca2-4405-a192-97a009bfef7f"
      },
      "outputs": [
        {
          "execution_count": 13,
          "output_type": "execute_result",
          "data": {
            "text/plain": "    CustomerId         Surname  CreditScore Geography  Gender   Age  Tenure  \\\nid                                                                            \n0   15702656.0           Nwora        567.0    France    Male  33.0     9.0   \n1   15647965.0     Yevdokimova        628.0    France  Female  38.0     3.0   \n2   15798834.0           Ch'iu        635.0    France  Female  29.0     3.0   \n3   15672056.0            Hsia        681.0    France    Male  28.0     6.0   \n4   15759537.0  Okwudilichukwu        587.0    France  Female  27.0     5.0   \n\n    Balance  NumOfProducts  HasCrCard  IsActiveMember  EstimatedSalary  Exited  \nid                                                                              \n0       0.0            2.0        1.0             0.0        156792.89     0.0  \n1       0.0            1.0        1.0             1.0         51987.99     1.0  \n2       0.0            2.0        1.0             1.0        113079.19     0.0  \n3       0.0            2.0        1.0             0.0         14081.64     0.0  \n4       0.0            2.0        1.0             0.0        158958.90     0.0  ",
            "text/html": "<div>\n<style scoped>\n    .dataframe tbody tr th:only-of-type {\n        vertical-align: middle;\n    }\n\n    .dataframe tbody tr th {\n        vertical-align: top;\n    }\n\n    .dataframe thead th {\n        text-align: right;\n    }\n</style>\n<table border=\"1\" class=\"dataframe\">\n  <thead>\n    <tr style=\"text-align: right;\">\n      <th></th>\n      <th>CustomerId</th>\n      <th>Surname</th>\n      <th>CreditScore</th>\n      <th>Geography</th>\n      <th>Gender</th>\n      <th>Age</th>\n      <th>Tenure</th>\n      <th>Balance</th>\n      <th>NumOfProducts</th>\n      <th>HasCrCard</th>\n      <th>IsActiveMember</th>\n      <th>EstimatedSalary</th>\n      <th>Exited</th>\n    </tr>\n    <tr>\n      <th>id</th>\n      <th></th>\n      <th></th>\n      <th></th>\n      <th></th>\n      <th></th>\n      <th></th>\n      <th></th>\n      <th></th>\n      <th></th>\n      <th></th>\n      <th></th>\n      <th></th>\n      <th></th>\n    </tr>\n  </thead>\n  <tbody>\n    <tr>\n      <th>0</th>\n      <td>15702656.0</td>\n      <td>Nwora</td>\n      <td>567.0</td>\n      <td>France</td>\n      <td>Male</td>\n      <td>33.0</td>\n      <td>9.0</td>\n      <td>0.0</td>\n      <td>2.0</td>\n      <td>1.0</td>\n      <td>0.0</td>\n      <td>156792.89</td>\n      <td>0.0</td>\n    </tr>\n    <tr>\n      <th>1</th>\n      <td>15647965.0</td>\n      <td>Yevdokimova</td>\n      <td>628.0</td>\n      <td>France</td>\n      <td>Female</td>\n      <td>38.0</td>\n      <td>3.0</td>\n      <td>0.0</td>\n      <td>1.0</td>\n      <td>1.0</td>\n      <td>1.0</td>\n      <td>51987.99</td>\n      <td>1.0</td>\n    </tr>\n    <tr>\n      <th>2</th>\n      <td>15798834.0</td>\n      <td>Ch'iu</td>\n      <td>635.0</td>\n      <td>France</td>\n      <td>Female</td>\n      <td>29.0</td>\n      <td>3.0</td>\n      <td>0.0</td>\n      <td>2.0</td>\n      <td>1.0</td>\n      <td>1.0</td>\n      <td>113079.19</td>\n      <td>0.0</td>\n    </tr>\n    <tr>\n      <th>3</th>\n      <td>15672056.0</td>\n      <td>Hsia</td>\n      <td>681.0</td>\n      <td>France</td>\n      <td>Male</td>\n      <td>28.0</td>\n      <td>6.0</td>\n      <td>0.0</td>\n      <td>2.0</td>\n      <td>1.0</td>\n      <td>0.0</td>\n      <td>14081.64</td>\n      <td>0.0</td>\n    </tr>\n    <tr>\n      <th>4</th>\n      <td>15759537.0</td>\n      <td>Okwudilichukwu</td>\n      <td>587.0</td>\n      <td>France</td>\n      <td>Female</td>\n      <td>27.0</td>\n      <td>5.0</td>\n      <td>0.0</td>\n      <td>2.0</td>\n      <td>1.0</td>\n      <td>0.0</td>\n      <td>158958.90</td>\n      <td>0.0</td>\n    </tr>\n  </tbody>\n</table>\n</div>"
          },
          "metadata": {}
        }
      ],
      "execution_count": null
    },
    {
      "cell_type": "code",
      "source": [
        "train.isnull().sum()"
      ],
      "metadata": {
        "trusted": true,
        "execution": {
          "iopub.status.busy": "2025-03-17T10:13:27.946276Z",
          "iopub.execute_input": "2025-03-17T10:13:27.94671Z",
          "iopub.status.idle": "2025-03-17T10:13:27.958484Z",
          "shell.execute_reply.started": "2025-03-17T10:13:27.946673Z",
          "shell.execute_reply": "2025-03-17T10:13:27.957425Z"
        },
        "id": "6dq2IqC46Hkv",
        "outputId": "e20b6f8c-8f05-40b8-f782-2b9774d1b09c"
      },
      "outputs": [
        {
          "execution_count": 17,
          "output_type": "execute_result",
          "data": {
            "text/plain": "CustomerId         0\nSurname            0\nCreditScore        0\nGeography          0\nGender             0\nAge                0\nTenure             0\nBalance            0\nNumOfProducts      0\nHasCrCard          0\nIsActiveMember     0\nEstimatedSalary    0\nExited             0\ndtype: int64"
          },
          "metadata": {}
        }
      ],
      "execution_count": null
    },
    {
      "cell_type": "code",
      "source": [
        "train.duplicated().sum() #duplikatlarni tekshiriladi"
      ],
      "metadata": {
        "trusted": true,
        "execution": {
          "iopub.status.busy": "2025-03-17T10:19:47.624128Z",
          "iopub.execute_input": "2025-03-17T10:19:47.624526Z",
          "iopub.status.idle": "2025-03-17T10:19:47.641016Z",
          "shell.execute_reply.started": "2025-03-17T10:19:47.624478Z",
          "shell.execute_reply": "2025-03-17T10:19:47.639757Z"
        },
        "id": "JKPTPuoW6Hkw",
        "outputId": "78ec6793-4da9-4744-f35a-498843431707"
      },
      "outputs": [
        {
          "execution_count": 19,
          "output_type": "execute_result",
          "data": {
            "text/plain": "0"
          },
          "metadata": {}
        }
      ],
      "execution_count": null
    },
    {
      "cell_type": "code",
      "source": [
        "train.Geography.value_counts(), #ustunlar sonini va kachestvasini tekshirish\n",
        "#train.Gender.value_counts(),\n",
        "#train.Exited.value_counts()"
      ],
      "metadata": {
        "trusted": true,
        "execution": {
          "iopub.status.busy": "2025-03-17T10:22:55.793973Z",
          "iopub.execute_input": "2025-03-17T10:22:55.794296Z",
          "iopub.status.idle": "2025-03-17T10:22:55.80221Z",
          "shell.execute_reply.started": "2025-03-17T10:22:55.794271Z",
          "shell.execute_reply": "2025-03-17T10:22:55.801297Z"
        },
        "id": "_p7RTU7l6Hkw",
        "outputId": "87b4f122-203c-4321-9635-61cba2d43334"
      },
      "outputs": [
        {
          "execution_count": 22,
          "output_type": "execute_result",
          "data": {
            "text/plain": "(Geography\n France     9040\n Spain      3280\n Germany    2680\n Name: count, dtype: int64,)"
          },
          "metadata": {}
        }
      ],
      "execution_count": null
    },
    {
      "cell_type": "code",
      "source": [
        "train.Gender.value_counts(),"
      ],
      "metadata": {
        "trusted": true,
        "execution": {
          "iopub.status.busy": "2025-03-17T10:31:03.079153Z",
          "iopub.execute_input": "2025-03-17T10:31:03.079578Z",
          "iopub.status.idle": "2025-03-17T10:31:03.088191Z",
          "shell.execute_reply.started": "2025-03-17T10:31:03.079473Z",
          "shell.execute_reply": "2025-03-17T10:31:03.087287Z"
        },
        "id": "WRUbyz1p6Hkx",
        "outputId": "14f3e169-dfa9-439e-bc6c-c8c6d48fdc12"
      },
      "outputs": [
        {
          "execution_count": 26,
          "output_type": "execute_result",
          "data": {
            "text/plain": "(Gender\n Male      8478\n Female    6522\n Name: count, dtype: int64,)"
          },
          "metadata": {}
        }
      ],
      "execution_count": null
    },
    {
      "cell_type": "code",
      "source": [
        "test.drop(['CustomerId', 'Surname'], axis=1, inplace=True)\n",
        "train.drop(['CustomerId', 'Surname'], axis=1, inplace=True) #keraksiz ustunlar o'chirildi"
      ],
      "metadata": {
        "trusted": true,
        "execution": {
          "iopub.status.busy": "2025-03-17T10:31:06.783975Z",
          "iopub.execute_input": "2025-03-17T10:31:06.784417Z",
          "iopub.status.idle": "2025-03-17T10:31:06.80632Z",
          "shell.execute_reply.started": "2025-03-17T10:31:06.784381Z",
          "shell.execute_reply": "2025-03-17T10:31:06.804671Z"
        },
        "id": "6vLxl7Xa6Hkx",
        "outputId": "110599c1-596b-45e1-c7b7-4aac34b76e9d"
      },
      "outputs": [
        {
          "traceback": [
            "\u001b[0;31m---------------------------------------------------------------------------\u001b[0m",
            "\u001b[0;31mKeyError\u001b[0m                                  Traceback (most recent call last)",
            "\u001b[0;32m<ipython-input-27-d2e237e0b88c>\u001b[0m in \u001b[0;36m<cell line: 1>\u001b[0;34m()\u001b[0m\n\u001b[0;32m----> 1\u001b[0;31m \u001b[0mtest\u001b[0m\u001b[0;34m.\u001b[0m\u001b[0mdrop\u001b[0m\u001b[0;34m(\u001b[0m\u001b[0;34m[\u001b[0m\u001b[0;34m'CustomerId'\u001b[0m\u001b[0;34m,\u001b[0m \u001b[0;34m'Surname'\u001b[0m\u001b[0;34m]\u001b[0m\u001b[0;34m,\u001b[0m \u001b[0maxis\u001b[0m\u001b[0;34m=\u001b[0m\u001b[0;36m1\u001b[0m\u001b[0;34m,\u001b[0m \u001b[0minplace\u001b[0m\u001b[0;34m=\u001b[0m\u001b[0;32mTrue\u001b[0m\u001b[0;34m)\u001b[0m\u001b[0;34m\u001b[0m\u001b[0;34m\u001b[0m\u001b[0m\n\u001b[0m\u001b[1;32m      2\u001b[0m \u001b[0mtrain\u001b[0m\u001b[0;34m.\u001b[0m\u001b[0mdrop\u001b[0m\u001b[0;34m(\u001b[0m\u001b[0;34m[\u001b[0m\u001b[0;34m'CustomerId'\u001b[0m\u001b[0;34m,\u001b[0m \u001b[0;34m'Surname'\u001b[0m\u001b[0;34m]\u001b[0m\u001b[0;34m,\u001b[0m \u001b[0maxis\u001b[0m\u001b[0;34m=\u001b[0m\u001b[0;36m1\u001b[0m\u001b[0;34m,\u001b[0m \u001b[0minplace\u001b[0m\u001b[0;34m=\u001b[0m\u001b[0;32mTrue\u001b[0m\u001b[0;34m)\u001b[0m \u001b[0;31m#keraksiz ustunlar o'chirildi\u001b[0m\u001b[0;34m\u001b[0m\u001b[0;34m\u001b[0m\u001b[0m\n",
            "\u001b[0;32m/usr/local/lib/python3.10/dist-packages/pandas/core/frame.py\u001b[0m in \u001b[0;36mdrop\u001b[0;34m(self, labels, axis, index, columns, level, inplace, errors)\u001b[0m\n\u001b[1;32m   5579\u001b[0m                 \u001b[0mweight\u001b[0m  \u001b[0;36m1.0\u001b[0m     \u001b[0;36m0.8\u001b[0m\u001b[0;34m\u001b[0m\u001b[0;34m\u001b[0m\u001b[0m\n\u001b[1;32m   5580\u001b[0m         \"\"\"\n\u001b[0;32m-> 5581\u001b[0;31m         return super().drop(\n\u001b[0m\u001b[1;32m   5582\u001b[0m             \u001b[0mlabels\u001b[0m\u001b[0;34m=\u001b[0m\u001b[0mlabels\u001b[0m\u001b[0;34m,\u001b[0m\u001b[0;34m\u001b[0m\u001b[0;34m\u001b[0m\u001b[0m\n\u001b[1;32m   5583\u001b[0m             \u001b[0maxis\u001b[0m\u001b[0;34m=\u001b[0m\u001b[0maxis\u001b[0m\u001b[0;34m,\u001b[0m\u001b[0;34m\u001b[0m\u001b[0;34m\u001b[0m\u001b[0m\n",
            "\u001b[0;32m/usr/local/lib/python3.10/dist-packages/pandas/core/generic.py\u001b[0m in \u001b[0;36mdrop\u001b[0;34m(self, labels, axis, index, columns, level, inplace, errors)\u001b[0m\n\u001b[1;32m   4786\u001b[0m         \u001b[0;32mfor\u001b[0m \u001b[0maxis\u001b[0m\u001b[0;34m,\u001b[0m \u001b[0mlabels\u001b[0m \u001b[0;32min\u001b[0m \u001b[0maxes\u001b[0m\u001b[0;34m.\u001b[0m\u001b[0mitems\u001b[0m\u001b[0;34m(\u001b[0m\u001b[0;34m)\u001b[0m\u001b[0;34m:\u001b[0m\u001b[0;34m\u001b[0m\u001b[0;34m\u001b[0m\u001b[0m\n\u001b[1;32m   4787\u001b[0m             \u001b[0;32mif\u001b[0m \u001b[0mlabels\u001b[0m \u001b[0;32mis\u001b[0m \u001b[0;32mnot\u001b[0m \u001b[0;32mNone\u001b[0m\u001b[0;34m:\u001b[0m\u001b[0;34m\u001b[0m\u001b[0;34m\u001b[0m\u001b[0m\n\u001b[0;32m-> 4788\u001b[0;31m                 \u001b[0mobj\u001b[0m \u001b[0;34m=\u001b[0m \u001b[0mobj\u001b[0m\u001b[0;34m.\u001b[0m\u001b[0m_drop_axis\u001b[0m\u001b[0;34m(\u001b[0m\u001b[0mlabels\u001b[0m\u001b[0;34m,\u001b[0m \u001b[0maxis\u001b[0m\u001b[0;34m,\u001b[0m \u001b[0mlevel\u001b[0m\u001b[0;34m=\u001b[0m\u001b[0mlevel\u001b[0m\u001b[0;34m,\u001b[0m \u001b[0merrors\u001b[0m\u001b[0;34m=\u001b[0m\u001b[0merrors\u001b[0m\u001b[0;34m)\u001b[0m\u001b[0;34m\u001b[0m\u001b[0;34m\u001b[0m\u001b[0m\n\u001b[0m\u001b[1;32m   4789\u001b[0m \u001b[0;34m\u001b[0m\u001b[0m\n\u001b[1;32m   4790\u001b[0m         \u001b[0;32mif\u001b[0m \u001b[0minplace\u001b[0m\u001b[0;34m:\u001b[0m\u001b[0;34m\u001b[0m\u001b[0;34m\u001b[0m\u001b[0m\n",
            "\u001b[0;32m/usr/local/lib/python3.10/dist-packages/pandas/core/generic.py\u001b[0m in \u001b[0;36m_drop_axis\u001b[0;34m(self, labels, axis, level, errors, only_slice)\u001b[0m\n\u001b[1;32m   4828\u001b[0m                 \u001b[0mnew_axis\u001b[0m \u001b[0;34m=\u001b[0m \u001b[0maxis\u001b[0m\u001b[0;34m.\u001b[0m\u001b[0mdrop\u001b[0m\u001b[0;34m(\u001b[0m\u001b[0mlabels\u001b[0m\u001b[0;34m,\u001b[0m \u001b[0mlevel\u001b[0m\u001b[0;34m=\u001b[0m\u001b[0mlevel\u001b[0m\u001b[0;34m,\u001b[0m \u001b[0merrors\u001b[0m\u001b[0;34m=\u001b[0m\u001b[0merrors\u001b[0m\u001b[0;34m)\u001b[0m\u001b[0;34m\u001b[0m\u001b[0;34m\u001b[0m\u001b[0m\n\u001b[1;32m   4829\u001b[0m             \u001b[0;32melse\u001b[0m\u001b[0;34m:\u001b[0m\u001b[0;34m\u001b[0m\u001b[0;34m\u001b[0m\u001b[0m\n\u001b[0;32m-> 4830\u001b[0;31m                 \u001b[0mnew_axis\u001b[0m \u001b[0;34m=\u001b[0m \u001b[0maxis\u001b[0m\u001b[0;34m.\u001b[0m\u001b[0mdrop\u001b[0m\u001b[0;34m(\u001b[0m\u001b[0mlabels\u001b[0m\u001b[0;34m,\u001b[0m \u001b[0merrors\u001b[0m\u001b[0;34m=\u001b[0m\u001b[0merrors\u001b[0m\u001b[0;34m)\u001b[0m\u001b[0;34m\u001b[0m\u001b[0;34m\u001b[0m\u001b[0m\n\u001b[0m\u001b[1;32m   4831\u001b[0m             \u001b[0mindexer\u001b[0m \u001b[0;34m=\u001b[0m \u001b[0maxis\u001b[0m\u001b[0;34m.\u001b[0m\u001b[0mget_indexer\u001b[0m\u001b[0;34m(\u001b[0m\u001b[0mnew_axis\u001b[0m\u001b[0;34m)\u001b[0m\u001b[0;34m\u001b[0m\u001b[0;34m\u001b[0m\u001b[0m\n\u001b[1;32m   4832\u001b[0m \u001b[0;34m\u001b[0m\u001b[0m\n",
            "\u001b[0;32m/usr/local/lib/python3.10/dist-packages/pandas/core/indexes/base.py\u001b[0m in \u001b[0;36mdrop\u001b[0;34m(self, labels, errors)\u001b[0m\n\u001b[1;32m   7068\u001b[0m         \u001b[0;32mif\u001b[0m \u001b[0mmask\u001b[0m\u001b[0;34m.\u001b[0m\u001b[0many\u001b[0m\u001b[0;34m(\u001b[0m\u001b[0;34m)\u001b[0m\u001b[0;34m:\u001b[0m\u001b[0;34m\u001b[0m\u001b[0;34m\u001b[0m\u001b[0m\n\u001b[1;32m   7069\u001b[0m             \u001b[0;32mif\u001b[0m \u001b[0merrors\u001b[0m \u001b[0;34m!=\u001b[0m \u001b[0;34m\"ignore\"\u001b[0m\u001b[0;34m:\u001b[0m\u001b[0;34m\u001b[0m\u001b[0;34m\u001b[0m\u001b[0m\n\u001b[0;32m-> 7070\u001b[0;31m                 \u001b[0;32mraise\u001b[0m \u001b[0mKeyError\u001b[0m\u001b[0;34m(\u001b[0m\u001b[0;34mf\"{labels[mask].tolist()} not found in axis\"\u001b[0m\u001b[0;34m)\u001b[0m\u001b[0;34m\u001b[0m\u001b[0;34m\u001b[0m\u001b[0m\n\u001b[0m\u001b[1;32m   7071\u001b[0m             \u001b[0mindexer\u001b[0m \u001b[0;34m=\u001b[0m \u001b[0mindexer\u001b[0m\u001b[0;34m[\u001b[0m\u001b[0;34m~\u001b[0m\u001b[0mmask\u001b[0m\u001b[0;34m]\u001b[0m\u001b[0;34m\u001b[0m\u001b[0;34m\u001b[0m\u001b[0m\n\u001b[1;32m   7072\u001b[0m         \u001b[0;32mreturn\u001b[0m \u001b[0mself\u001b[0m\u001b[0;34m.\u001b[0m\u001b[0mdelete\u001b[0m\u001b[0;34m(\u001b[0m\u001b[0mindexer\u001b[0m\u001b[0;34m)\u001b[0m\u001b[0;34m\u001b[0m\u001b[0;34m\u001b[0m\u001b[0m\n",
            "\u001b[0;31mKeyError\u001b[0m: \"['CustomerId', 'Surname'] not found in axis\""
          ],
          "ename": "KeyError",
          "evalue": "\"['CustomerId', 'Surname'] not found in axis\"",
          "output_type": "error"
        }
      ],
      "execution_count": null
    },
    {
      "cell_type": "code",
      "source": [
        "train.info()"
      ],
      "metadata": {
        "trusted": true,
        "execution": {
          "iopub.status.busy": "2025-03-17T10:31:40.269765Z",
          "iopub.execute_input": "2025-03-17T10:31:40.270108Z",
          "iopub.status.idle": "2025-03-17T10:31:40.291521Z",
          "shell.execute_reply.started": "2025-03-17T10:31:40.270082Z",
          "shell.execute_reply": "2025-03-17T10:31:40.290306Z"
        },
        "id": "fiYSBs226Hkx",
        "outputId": "eade262b-58db-4a01-8b64-5e8078595540"
      },
      "outputs": [
        {
          "name": "stdout",
          "text": "<class 'pandas.core.frame.DataFrame'>\nIndex: 15000 entries, 0 to 14999\nData columns (total 11 columns):\n #   Column           Non-Null Count  Dtype  \n---  ------           --------------  -----  \n 0   CreditScore      15000 non-null  float64\n 1   Geography        15000 non-null  object \n 2   Gender           15000 non-null  object \n 3   Age              15000 non-null  float64\n 4   Tenure           15000 non-null  float64\n 5   Balance          15000 non-null  float64\n 6   NumOfProducts    15000 non-null  float64\n 7   HasCrCard        15000 non-null  float64\n 8   IsActiveMember   15000 non-null  float64\n 9   EstimatedSalary  15000 non-null  float64\n 10  Exited           15000 non-null  float64\ndtypes: float64(9), object(2)\nmemory usage: 1.4+ MB\n",
          "output_type": "stream"
        }
      ],
      "execution_count": null
    },
    {
      "cell_type": "code",
      "source": [
        "train.describe()"
      ],
      "metadata": {
        "trusted": true,
        "execution": {
          "iopub.status.busy": "2025-03-17T10:32:48.389261Z",
          "iopub.execute_input": "2025-03-17T10:32:48.389715Z",
          "iopub.status.idle": "2025-03-17T10:32:48.430405Z",
          "shell.execute_reply.started": "2025-03-17T10:32:48.389678Z",
          "shell.execute_reply": "2025-03-17T10:32:48.429445Z"
        },
        "id": "8braqcvN6Hky",
        "outputId": "d1bc748d-c149-40fa-f26b-baee17d8aa20"
      },
      "outputs": [
        {
          "execution_count": 29,
          "output_type": "execute_result",
          "data": {
            "text/plain": "        CreditScore           Age        Tenure        Balance  NumOfProducts  \\\ncount  15000.000000  15000.000000  15000.000000   15000.000000   15000.000000   \nmean     657.856800     37.710133      5.018667   42338.107539       1.590533   \nstd       72.678739      8.144880      2.787407   59703.047751       0.525822   \nmin      431.000000     18.000000      0.000000       0.000000       1.000000   \n25%      602.000000     32.000000      3.000000       0.000000       1.000000   \n50%      661.000000     37.000000      5.000000       0.000000       2.000000   \n75%      707.000000     42.000000      7.000000  109636.342500       2.000000   \nmax      850.000000     72.000000     10.000000  187911.550000       5.000000   \n\n          HasCrCard  IsActiveMember  EstimatedSalary        Exited  \ncount  15000.000000    15000.000000     15000.000000  15000.000000  \nmean       0.779133        0.496000    116944.059867      0.198467  \nstd        0.414845        0.500001     46047.485455      0.398859  \nmin        0.000000        0.000000        11.580000      0.000000  \n25%        1.000000        0.000000     82644.332500      0.000000  \n50%        1.000000        0.000000    122449.420000      0.000000  \n75%        1.000000        1.000000    155703.022500      0.000000  \nmax        1.000000        1.000000    885120.790000      1.000000  ",
            "text/html": "<div>\n<style scoped>\n    .dataframe tbody tr th:only-of-type {\n        vertical-align: middle;\n    }\n\n    .dataframe tbody tr th {\n        vertical-align: top;\n    }\n\n    .dataframe thead th {\n        text-align: right;\n    }\n</style>\n<table border=\"1\" class=\"dataframe\">\n  <thead>\n    <tr style=\"text-align: right;\">\n      <th></th>\n      <th>CreditScore</th>\n      <th>Age</th>\n      <th>Tenure</th>\n      <th>Balance</th>\n      <th>NumOfProducts</th>\n      <th>HasCrCard</th>\n      <th>IsActiveMember</th>\n      <th>EstimatedSalary</th>\n      <th>Exited</th>\n    </tr>\n  </thead>\n  <tbody>\n    <tr>\n      <th>count</th>\n      <td>15000.000000</td>\n      <td>15000.000000</td>\n      <td>15000.000000</td>\n      <td>15000.000000</td>\n      <td>15000.000000</td>\n      <td>15000.000000</td>\n      <td>15000.000000</td>\n      <td>15000.000000</td>\n      <td>15000.000000</td>\n    </tr>\n    <tr>\n      <th>mean</th>\n      <td>657.856800</td>\n      <td>37.710133</td>\n      <td>5.018667</td>\n      <td>42338.107539</td>\n      <td>1.590533</td>\n      <td>0.779133</td>\n      <td>0.496000</td>\n      <td>116944.059867</td>\n      <td>0.198467</td>\n    </tr>\n    <tr>\n      <th>std</th>\n      <td>72.678739</td>\n      <td>8.144880</td>\n      <td>2.787407</td>\n      <td>59703.047751</td>\n      <td>0.525822</td>\n      <td>0.414845</td>\n      <td>0.500001</td>\n      <td>46047.485455</td>\n      <td>0.398859</td>\n    </tr>\n    <tr>\n      <th>min</th>\n      <td>431.000000</td>\n      <td>18.000000</td>\n      <td>0.000000</td>\n      <td>0.000000</td>\n      <td>1.000000</td>\n      <td>0.000000</td>\n      <td>0.000000</td>\n      <td>11.580000</td>\n      <td>0.000000</td>\n    </tr>\n    <tr>\n      <th>25%</th>\n      <td>602.000000</td>\n      <td>32.000000</td>\n      <td>3.000000</td>\n      <td>0.000000</td>\n      <td>1.000000</td>\n      <td>1.000000</td>\n      <td>0.000000</td>\n      <td>82644.332500</td>\n      <td>0.000000</td>\n    </tr>\n    <tr>\n      <th>50%</th>\n      <td>661.000000</td>\n      <td>37.000000</td>\n      <td>5.000000</td>\n      <td>0.000000</td>\n      <td>2.000000</td>\n      <td>1.000000</td>\n      <td>0.000000</td>\n      <td>122449.420000</td>\n      <td>0.000000</td>\n    </tr>\n    <tr>\n      <th>75%</th>\n      <td>707.000000</td>\n      <td>42.000000</td>\n      <td>7.000000</td>\n      <td>109636.342500</td>\n      <td>2.000000</td>\n      <td>1.000000</td>\n      <td>1.000000</td>\n      <td>155703.022500</td>\n      <td>0.000000</td>\n    </tr>\n    <tr>\n      <th>max</th>\n      <td>850.000000</td>\n      <td>72.000000</td>\n      <td>10.000000</td>\n      <td>187911.550000</td>\n      <td>5.000000</td>\n      <td>1.000000</td>\n      <td>1.000000</td>\n      <td>885120.790000</td>\n      <td>1.000000</td>\n    </tr>\n  </tbody>\n</table>\n</div>"
          },
          "metadata": {}
        }
      ],
      "execution_count": null
    },
    {
      "cell_type": "code",
      "source": [
        "from sklearn.preprocessing import OneHotEncoder, StandardScaler\n",
        "from sklearn.compose import ColumnTransformer"
      ],
      "metadata": {
        "trusted": true,
        "execution": {
          "iopub.status.busy": "2025-03-17T10:34:07.321902Z",
          "iopub.execute_input": "2025-03-17T10:34:07.322309Z",
          "iopub.status.idle": "2025-03-17T10:34:07.378677Z",
          "shell.execute_reply.started": "2025-03-17T10:34:07.322279Z",
          "shell.execute_reply": "2025-03-17T10:34:07.377672Z"
        },
        "id": "FBthlKsp6Hky"
      },
      "outputs": [],
      "execution_count": null
    },
    {
      "cell_type": "code",
      "source": [
        "train\n"
      ],
      "metadata": {
        "trusted": true,
        "execution": {
          "iopub.status.busy": "2025-03-17T10:39:41.225664Z",
          "iopub.execute_input": "2025-03-17T10:39:41.22628Z",
          "iopub.status.idle": "2025-03-17T10:39:41.258119Z",
          "shell.execute_reply.started": "2025-03-17T10:39:41.22623Z",
          "shell.execute_reply": "2025-03-17T10:39:41.256986Z"
        },
        "id": "mXAt2UBS6Hky",
        "outputId": "eff74722-71f6-41d2-c11b-564cd5c49820"
      },
      "outputs": [
        {
          "execution_count": 31,
          "output_type": "execute_result",
          "data": {
            "text/plain": "       CreditScore Geography  Gender   Age  Tenure    Balance  NumOfProducts  \\\nid                                                                             \n0            567.0    France    Male  33.0     9.0       0.00            2.0   \n1            628.0    France  Female  38.0     3.0       0.00            1.0   \n2            635.0    France  Female  29.0     3.0       0.00            2.0   \n3            681.0    France    Male  28.0     6.0       0.00            2.0   \n4            587.0    France  Female  27.0     5.0       0.00            2.0   \n...            ...       ...     ...   ...     ...        ...            ...   \n14995        581.0    France    Male  35.0     1.0       0.00            2.0   \n14996        806.0   Germany    Male  42.0     1.0  129120.64            2.0   \n14997        620.0    France  Female  29.0     7.0       0.00            2.0   \n14998        622.0   Germany    Male  51.0     6.0  106070.89            3.0   \n14999        543.0    France    Male  36.0     8.0       0.00            1.0   \n\n       HasCrCard  IsActiveMember  EstimatedSalary  Exited  \nid                                                         \n0            1.0             0.0        156792.89     0.0  \n1            1.0             1.0         51987.99     1.0  \n2            1.0             1.0        113079.19     0.0  \n3            1.0             0.0         14081.64     0.0  \n4            1.0             0.0        158958.90     0.0  \n...          ...             ...              ...     ...  \n14995        1.0             0.0        161653.50     0.0  \n14996        1.0             1.0        161642.08     0.0  \n14997        1.0             1.0        161579.85     0.0  \n14998        1.0             0.0        136869.31     1.0  \n14999        1.0             1.0        163568.33     0.0  \n\n[15000 rows x 11 columns]",
            "text/html": "<div>\n<style scoped>\n    .dataframe tbody tr th:only-of-type {\n        vertical-align: middle;\n    }\n\n    .dataframe tbody tr th {\n        vertical-align: top;\n    }\n\n    .dataframe thead th {\n        text-align: right;\n    }\n</style>\n<table border=\"1\" class=\"dataframe\">\n  <thead>\n    <tr style=\"text-align: right;\">\n      <th></th>\n      <th>CreditScore</th>\n      <th>Geography</th>\n      <th>Gender</th>\n      <th>Age</th>\n      <th>Tenure</th>\n      <th>Balance</th>\n      <th>NumOfProducts</th>\n      <th>HasCrCard</th>\n      <th>IsActiveMember</th>\n      <th>EstimatedSalary</th>\n      <th>Exited</th>\n    </tr>\n    <tr>\n      <th>id</th>\n      <th></th>\n      <th></th>\n      <th></th>\n      <th></th>\n      <th></th>\n      <th></th>\n      <th></th>\n      <th></th>\n      <th></th>\n      <th></th>\n      <th></th>\n    </tr>\n  </thead>\n  <tbody>\n    <tr>\n      <th>0</th>\n      <td>567.0</td>\n      <td>France</td>\n      <td>Male</td>\n      <td>33.0</td>\n      <td>9.0</td>\n      <td>0.00</td>\n      <td>2.0</td>\n      <td>1.0</td>\n      <td>0.0</td>\n      <td>156792.89</td>\n      <td>0.0</td>\n    </tr>\n    <tr>\n      <th>1</th>\n      <td>628.0</td>\n      <td>France</td>\n      <td>Female</td>\n      <td>38.0</td>\n      <td>3.0</td>\n      <td>0.00</td>\n      <td>1.0</td>\n      <td>1.0</td>\n      <td>1.0</td>\n      <td>51987.99</td>\n      <td>1.0</td>\n    </tr>\n    <tr>\n      <th>2</th>\n      <td>635.0</td>\n      <td>France</td>\n      <td>Female</td>\n      <td>29.0</td>\n      <td>3.0</td>\n      <td>0.00</td>\n      <td>2.0</td>\n      <td>1.0</td>\n      <td>1.0</td>\n      <td>113079.19</td>\n      <td>0.0</td>\n    </tr>\n    <tr>\n      <th>3</th>\n      <td>681.0</td>\n      <td>France</td>\n      <td>Male</td>\n      <td>28.0</td>\n      <td>6.0</td>\n      <td>0.00</td>\n      <td>2.0</td>\n      <td>1.0</td>\n      <td>0.0</td>\n      <td>14081.64</td>\n      <td>0.0</td>\n    </tr>\n    <tr>\n      <th>4</th>\n      <td>587.0</td>\n      <td>France</td>\n      <td>Female</td>\n      <td>27.0</td>\n      <td>5.0</td>\n      <td>0.00</td>\n      <td>2.0</td>\n      <td>1.0</td>\n      <td>0.0</td>\n      <td>158958.90</td>\n      <td>0.0</td>\n    </tr>\n    <tr>\n      <th>...</th>\n      <td>...</td>\n      <td>...</td>\n      <td>...</td>\n      <td>...</td>\n      <td>...</td>\n      <td>...</td>\n      <td>...</td>\n      <td>...</td>\n      <td>...</td>\n      <td>...</td>\n      <td>...</td>\n    </tr>\n    <tr>\n      <th>14995</th>\n      <td>581.0</td>\n      <td>France</td>\n      <td>Male</td>\n      <td>35.0</td>\n      <td>1.0</td>\n      <td>0.00</td>\n      <td>2.0</td>\n      <td>1.0</td>\n      <td>0.0</td>\n      <td>161653.50</td>\n      <td>0.0</td>\n    </tr>\n    <tr>\n      <th>14996</th>\n      <td>806.0</td>\n      <td>Germany</td>\n      <td>Male</td>\n      <td>42.0</td>\n      <td>1.0</td>\n      <td>129120.64</td>\n      <td>2.0</td>\n      <td>1.0</td>\n      <td>1.0</td>\n      <td>161642.08</td>\n      <td>0.0</td>\n    </tr>\n    <tr>\n      <th>14997</th>\n      <td>620.0</td>\n      <td>France</td>\n      <td>Female</td>\n      <td>29.0</td>\n      <td>7.0</td>\n      <td>0.00</td>\n      <td>2.0</td>\n      <td>1.0</td>\n      <td>1.0</td>\n      <td>161579.85</td>\n      <td>0.0</td>\n    </tr>\n    <tr>\n      <th>14998</th>\n      <td>622.0</td>\n      <td>Germany</td>\n      <td>Male</td>\n      <td>51.0</td>\n      <td>6.0</td>\n      <td>106070.89</td>\n      <td>3.0</td>\n      <td>1.0</td>\n      <td>0.0</td>\n      <td>136869.31</td>\n      <td>1.0</td>\n    </tr>\n    <tr>\n      <th>14999</th>\n      <td>543.0</td>\n      <td>France</td>\n      <td>Male</td>\n      <td>36.0</td>\n      <td>8.0</td>\n      <td>0.00</td>\n      <td>1.0</td>\n      <td>1.0</td>\n      <td>1.0</td>\n      <td>163568.33</td>\n      <td>0.0</td>\n    </tr>\n  </tbody>\n</table>\n<p>15000 rows × 11 columns</p>\n</div>"
          },
          "metadata": {}
        }
      ],
      "execution_count": null
    },
    {
      "cell_type": "code",
      "source": [
        "one_hot = OneHotEncoder(dtype=np.int8, sparse_output=False ) #drop = 'first' ma'lumot kamligi uchun shart emas\n",
        "stan_scal = StandardScaler()\n",
        "col_trans = ColumnTransformer([\n",
        "    ('one_hot', one_hot, ['Geography', 'Gender'])\n",
        "], remainder='passthrough').set_output(transform='pandas')"
      ],
      "metadata": {
        "trusted": true,
        "execution": {
          "iopub.status.busy": "2025-03-17T10:43:22.111048Z",
          "iopub.execute_input": "2025-03-17T10:43:22.11145Z",
          "iopub.status.idle": "2025-03-17T10:43:22.117444Z",
          "shell.execute_reply.started": "2025-03-17T10:43:22.111412Z",
          "shell.execute_reply": "2025-03-17T10:43:22.116323Z"
        },
        "id": "s4Vj2C-p6Hky"
      },
      "outputs": [],
      "execution_count": null
    },
    {
      "cell_type": "code",
      "source": [
        "col_trans"
      ],
      "metadata": {
        "trusted": true,
        "execution": {
          "iopub.status.busy": "2025-03-17T10:44:33.106182Z",
          "iopub.execute_input": "2025-03-17T10:44:33.106581Z",
          "iopub.status.idle": "2025-03-17T10:44:33.123861Z",
          "shell.execute_reply.started": "2025-03-17T10:44:33.106541Z",
          "shell.execute_reply": "2025-03-17T10:44:33.122653Z"
        },
        "id": "AHGTZJVX6Hky",
        "outputId": "4984624a-92d4-446f-fdf0-9813696d665d"
      },
      "outputs": [
        {
          "execution_count": 35,
          "output_type": "execute_result",
          "data": {
            "text/plain": "ColumnTransformer(remainder='passthrough',\n                  transformers=[('one_hot',\n                                 OneHotEncoder(dtype=<class 'numpy.int8'>,\n                                               sparse_output=False),\n                                 ['Geography', 'Gender'])])",
            "text/html": "<style>#sk-container-id-1 {color: black;background-color: white;}#sk-container-id-1 pre{padding: 0;}#sk-container-id-1 div.sk-toggleable {background-color: white;}#sk-container-id-1 label.sk-toggleable__label {cursor: pointer;display: block;width: 100%;margin-bottom: 0;padding: 0.3em;box-sizing: border-box;text-align: center;}#sk-container-id-1 label.sk-toggleable__label-arrow:before {content: \"▸\";float: left;margin-right: 0.25em;color: #696969;}#sk-container-id-1 label.sk-toggleable__label-arrow:hover:before {color: black;}#sk-container-id-1 div.sk-estimator:hover label.sk-toggleable__label-arrow:before {color: black;}#sk-container-id-1 div.sk-toggleable__content {max-height: 0;max-width: 0;overflow: hidden;text-align: left;background-color: #f0f8ff;}#sk-container-id-1 div.sk-toggleable__content pre {margin: 0.2em;color: black;border-radius: 0.25em;background-color: #f0f8ff;}#sk-container-id-1 input.sk-toggleable__control:checked~div.sk-toggleable__content {max-height: 200px;max-width: 100%;overflow: auto;}#sk-container-id-1 input.sk-toggleable__control:checked~label.sk-toggleable__label-arrow:before {content: \"▾\";}#sk-container-id-1 div.sk-estimator input.sk-toggleable__control:checked~label.sk-toggleable__label {background-color: #d4ebff;}#sk-container-id-1 div.sk-label input.sk-toggleable__control:checked~label.sk-toggleable__label {background-color: #d4ebff;}#sk-container-id-1 input.sk-hidden--visually {border: 0;clip: rect(1px 1px 1px 1px);clip: rect(1px, 1px, 1px, 1px);height: 1px;margin: -1px;overflow: hidden;padding: 0;position: absolute;width: 1px;}#sk-container-id-1 div.sk-estimator {font-family: monospace;background-color: #f0f8ff;border: 1px dotted black;border-radius: 0.25em;box-sizing: border-box;margin-bottom: 0.5em;}#sk-container-id-1 div.sk-estimator:hover {background-color: #d4ebff;}#sk-container-id-1 div.sk-parallel-item::after {content: \"\";width: 100%;border-bottom: 1px solid gray;flex-grow: 1;}#sk-container-id-1 div.sk-label:hover label.sk-toggleable__label {background-color: #d4ebff;}#sk-container-id-1 div.sk-serial::before {content: \"\";position: absolute;border-left: 1px solid gray;box-sizing: border-box;top: 0;bottom: 0;left: 50%;z-index: 0;}#sk-container-id-1 div.sk-serial {display: flex;flex-direction: column;align-items: center;background-color: white;padding-right: 0.2em;padding-left: 0.2em;position: relative;}#sk-container-id-1 div.sk-item {position: relative;z-index: 1;}#sk-container-id-1 div.sk-parallel {display: flex;align-items: stretch;justify-content: center;background-color: white;position: relative;}#sk-container-id-1 div.sk-item::before, #sk-container-id-1 div.sk-parallel-item::before {content: \"\";position: absolute;border-left: 1px solid gray;box-sizing: border-box;top: 0;bottom: 0;left: 50%;z-index: -1;}#sk-container-id-1 div.sk-parallel-item {display: flex;flex-direction: column;z-index: 1;position: relative;background-color: white;}#sk-container-id-1 div.sk-parallel-item:first-child::after {align-self: flex-end;width: 50%;}#sk-container-id-1 div.sk-parallel-item:last-child::after {align-self: flex-start;width: 50%;}#sk-container-id-1 div.sk-parallel-item:only-child::after {width: 0;}#sk-container-id-1 div.sk-dashed-wrapped {border: 1px dashed gray;margin: 0 0.4em 0.5em 0.4em;box-sizing: border-box;padding-bottom: 0.4em;background-color: white;}#sk-container-id-1 div.sk-label label {font-family: monospace;font-weight: bold;display: inline-block;line-height: 1.2em;}#sk-container-id-1 div.sk-label-container {text-align: center;}#sk-container-id-1 div.sk-container {/* jupyter's `normalize.less` sets `[hidden] { display: none; }` but bootstrap.min.css set `[hidden] { display: none !important; }` so we also need the `!important` here to be able to override the default hidden behavior on the sphinx rendered scikit-learn.org. See: https://github.com/scikit-learn/scikit-learn/issues/21755 */display: inline-block !important;position: relative;}#sk-container-id-1 div.sk-text-repr-fallback {display: none;}</style><div id=\"sk-container-id-1\" class=\"sk-top-container\"><div class=\"sk-text-repr-fallback\"><pre>ColumnTransformer(remainder=&#x27;passthrough&#x27;,\n                  transformers=[(&#x27;one_hot&#x27;,\n                                 OneHotEncoder(dtype=&lt;class &#x27;numpy.int8&#x27;&gt;,\n                                               sparse_output=False),\n                                 [&#x27;Geography&#x27;, &#x27;Gender&#x27;])])</pre><b>In a Jupyter environment, please rerun this cell to show the HTML representation or trust the notebook. <br />On GitHub, the HTML representation is unable to render, please try loading this page with nbviewer.org.</b></div><div class=\"sk-container\" hidden><div class=\"sk-item sk-dashed-wrapped\"><div class=\"sk-label-container\"><div class=\"sk-label sk-toggleable\"><input class=\"sk-toggleable__control sk-hidden--visually\" id=\"sk-estimator-id-1\" type=\"checkbox\" ><label for=\"sk-estimator-id-1\" class=\"sk-toggleable__label sk-toggleable__label-arrow\">ColumnTransformer</label><div class=\"sk-toggleable__content\"><pre>ColumnTransformer(remainder=&#x27;passthrough&#x27;,\n                  transformers=[(&#x27;one_hot&#x27;,\n                                 OneHotEncoder(dtype=&lt;class &#x27;numpy.int8&#x27;&gt;,\n                                               sparse_output=False),\n                                 [&#x27;Geography&#x27;, &#x27;Gender&#x27;])])</pre></div></div></div><div class=\"sk-parallel\"><div class=\"sk-parallel-item\"><div class=\"sk-item\"><div class=\"sk-label-container\"><div class=\"sk-label sk-toggleable\"><input class=\"sk-toggleable__control sk-hidden--visually\" id=\"sk-estimator-id-2\" type=\"checkbox\" ><label for=\"sk-estimator-id-2\" class=\"sk-toggleable__label sk-toggleable__label-arrow\">one_hot</label><div class=\"sk-toggleable__content\"><pre>[&#x27;Geography&#x27;, &#x27;Gender&#x27;]</pre></div></div></div><div class=\"sk-serial\"><div class=\"sk-item\"><div class=\"sk-estimator sk-toggleable\"><input class=\"sk-toggleable__control sk-hidden--visually\" id=\"sk-estimator-id-3\" type=\"checkbox\" ><label for=\"sk-estimator-id-3\" class=\"sk-toggleable__label sk-toggleable__label-arrow\">OneHotEncoder</label><div class=\"sk-toggleable__content\"><pre>OneHotEncoder(dtype=&lt;class &#x27;numpy.int8&#x27;&gt;, sparse_output=False)</pre></div></div></div></div></div></div><div class=\"sk-parallel-item\"><div class=\"sk-item\"><div class=\"sk-label-container\"><div class=\"sk-label sk-toggleable\"><input class=\"sk-toggleable__control sk-hidden--visually\" id=\"sk-estimator-id-4\" type=\"checkbox\" ><label for=\"sk-estimator-id-4\" class=\"sk-toggleable__label sk-toggleable__label-arrow\">remainder</label><div class=\"sk-toggleable__content\"><pre></pre></div></div></div><div class=\"sk-serial\"><div class=\"sk-item\"><div class=\"sk-estimator sk-toggleable\"><input class=\"sk-toggleable__control sk-hidden--visually\" id=\"sk-estimator-id-5\" type=\"checkbox\" ><label for=\"sk-estimator-id-5\" class=\"sk-toggleable__label sk-toggleable__label-arrow\">passthrough</label><div class=\"sk-toggleable__content\"><pre>passthrough</pre></div></div></div></div></div></div></div></div></div></div>"
          },
          "metadata": {}
        }
      ],
      "execution_count": null
    },
    {
      "cell_type": "code",
      "source": [
        "trans_df = col_trans.fit_transform(train)\n",
        "test_df = col_trans.fit_transform(test)\n",
        "trans_df"
      ],
      "metadata": {
        "trusted": true,
        "execution": {
          "iopub.status.busy": "2025-03-17T10:45:42.272353Z",
          "iopub.execute_input": "2025-03-17T10:45:42.272797Z",
          "iopub.status.idle": "2025-03-17T10:45:42.327701Z",
          "shell.execute_reply.started": "2025-03-17T10:45:42.27276Z",
          "shell.execute_reply": "2025-03-17T10:45:42.32662Z"
        },
        "id": "WpRXAL3f6Hkz",
        "outputId": "52a77ad2-b03a-436f-ec3d-52665683b0a0"
      },
      "outputs": [
        {
          "execution_count": 36,
          "output_type": "execute_result",
          "data": {
            "text/plain": "       one_hot__Geography_France  one_hot__Geography_Germany  \\\nid                                                             \n0                              1                           0   \n1                              1                           0   \n2                              1                           0   \n3                              1                           0   \n4                              1                           0   \n...                          ...                         ...   \n14995                          1                           0   \n14996                          0                           1   \n14997                          1                           0   \n14998                          0                           1   \n14999                          1                           0   \n\n       one_hot__Geography_Spain  one_hot__Gender_Female  one_hot__Gender_Male  \\\nid                                                                              \n0                             0                       0                     1   \n1                             0                       1                     0   \n2                             0                       1                     0   \n3                             0                       0                     1   \n4                             0                       1                     0   \n...                         ...                     ...                   ...   \n14995                         0                       0                     1   \n14996                         0                       0                     1   \n14997                         0                       1                     0   \n14998                         0                       0                     1   \n14999                         0                       0                     1   \n\n       remainder__CreditScore  remainder__Age  remainder__Tenure  \\\nid                                                                 \n0                       567.0            33.0                9.0   \n1                       628.0            38.0                3.0   \n2                       635.0            29.0                3.0   \n3                       681.0            28.0                6.0   \n4                       587.0            27.0                5.0   \n...                       ...             ...                ...   \n14995                   581.0            35.0                1.0   \n14996                   806.0            42.0                1.0   \n14997                   620.0            29.0                7.0   \n14998                   622.0            51.0                6.0   \n14999                   543.0            36.0                8.0   \n\n       remainder__Balance  remainder__NumOfProducts  remainder__HasCrCard  \\\nid                                                                          \n0                    0.00                       2.0                   1.0   \n1                    0.00                       1.0                   1.0   \n2                    0.00                       2.0                   1.0   \n3                    0.00                       2.0                   1.0   \n4                    0.00                       2.0                   1.0   \n...                   ...                       ...                   ...   \n14995                0.00                       2.0                   1.0   \n14996           129120.64                       2.0                   1.0   \n14997                0.00                       2.0                   1.0   \n14998           106070.89                       3.0                   1.0   \n14999                0.00                       1.0                   1.0   \n\n       remainder__IsActiveMember  remainder__EstimatedSalary  \\\nid                                                             \n0                            0.0                   156792.89   \n1                            1.0                    51987.99   \n2                            1.0                   113079.19   \n3                            0.0                    14081.64   \n4                            0.0                   158958.90   \n...                          ...                         ...   \n14995                        0.0                   161653.50   \n14996                        1.0                   161642.08   \n14997                        1.0                   161579.85   \n14998                        0.0                   136869.31   \n14999                        1.0                   163568.33   \n\n       remainder__Exited  \nid                        \n0                    0.0  \n1                    1.0  \n2                    0.0  \n3                    0.0  \n4                    0.0  \n...                  ...  \n14995                0.0  \n14996                0.0  \n14997                0.0  \n14998                1.0  \n14999                0.0  \n\n[15000 rows x 14 columns]",
            "text/html": "<div>\n<style scoped>\n    .dataframe tbody tr th:only-of-type {\n        vertical-align: middle;\n    }\n\n    .dataframe tbody tr th {\n        vertical-align: top;\n    }\n\n    .dataframe thead th {\n        text-align: right;\n    }\n</style>\n<table border=\"1\" class=\"dataframe\">\n  <thead>\n    <tr style=\"text-align: right;\">\n      <th></th>\n      <th>one_hot__Geography_France</th>\n      <th>one_hot__Geography_Germany</th>\n      <th>one_hot__Geography_Spain</th>\n      <th>one_hot__Gender_Female</th>\n      <th>one_hot__Gender_Male</th>\n      <th>remainder__CreditScore</th>\n      <th>remainder__Age</th>\n      <th>remainder__Tenure</th>\n      <th>remainder__Balance</th>\n      <th>remainder__NumOfProducts</th>\n      <th>remainder__HasCrCard</th>\n      <th>remainder__IsActiveMember</th>\n      <th>remainder__EstimatedSalary</th>\n      <th>remainder__Exited</th>\n    </tr>\n    <tr>\n      <th>id</th>\n      <th></th>\n      <th></th>\n      <th></th>\n      <th></th>\n      <th></th>\n      <th></th>\n      <th></th>\n      <th></th>\n      <th></th>\n      <th></th>\n      <th></th>\n      <th></th>\n      <th></th>\n      <th></th>\n    </tr>\n  </thead>\n  <tbody>\n    <tr>\n      <th>0</th>\n      <td>1</td>\n      <td>0</td>\n      <td>0</td>\n      <td>0</td>\n      <td>1</td>\n      <td>567.0</td>\n      <td>33.0</td>\n      <td>9.0</td>\n      <td>0.00</td>\n      <td>2.0</td>\n      <td>1.0</td>\n      <td>0.0</td>\n      <td>156792.89</td>\n      <td>0.0</td>\n    </tr>\n    <tr>\n      <th>1</th>\n      <td>1</td>\n      <td>0</td>\n      <td>0</td>\n      <td>1</td>\n      <td>0</td>\n      <td>628.0</td>\n      <td>38.0</td>\n      <td>3.0</td>\n      <td>0.00</td>\n      <td>1.0</td>\n      <td>1.0</td>\n      <td>1.0</td>\n      <td>51987.99</td>\n      <td>1.0</td>\n    </tr>\n    <tr>\n      <th>2</th>\n      <td>1</td>\n      <td>0</td>\n      <td>0</td>\n      <td>1</td>\n      <td>0</td>\n      <td>635.0</td>\n      <td>29.0</td>\n      <td>3.0</td>\n      <td>0.00</td>\n      <td>2.0</td>\n      <td>1.0</td>\n      <td>1.0</td>\n      <td>113079.19</td>\n      <td>0.0</td>\n    </tr>\n    <tr>\n      <th>3</th>\n      <td>1</td>\n      <td>0</td>\n      <td>0</td>\n      <td>0</td>\n      <td>1</td>\n      <td>681.0</td>\n      <td>28.0</td>\n      <td>6.0</td>\n      <td>0.00</td>\n      <td>2.0</td>\n      <td>1.0</td>\n      <td>0.0</td>\n      <td>14081.64</td>\n      <td>0.0</td>\n    </tr>\n    <tr>\n      <th>4</th>\n      <td>1</td>\n      <td>0</td>\n      <td>0</td>\n      <td>1</td>\n      <td>0</td>\n      <td>587.0</td>\n      <td>27.0</td>\n      <td>5.0</td>\n      <td>0.00</td>\n      <td>2.0</td>\n      <td>1.0</td>\n      <td>0.0</td>\n      <td>158958.90</td>\n      <td>0.0</td>\n    </tr>\n    <tr>\n      <th>...</th>\n      <td>...</td>\n      <td>...</td>\n      <td>...</td>\n      <td>...</td>\n      <td>...</td>\n      <td>...</td>\n      <td>...</td>\n      <td>...</td>\n      <td>...</td>\n      <td>...</td>\n      <td>...</td>\n      <td>...</td>\n      <td>...</td>\n      <td>...</td>\n    </tr>\n    <tr>\n      <th>14995</th>\n      <td>1</td>\n      <td>0</td>\n      <td>0</td>\n      <td>0</td>\n      <td>1</td>\n      <td>581.0</td>\n      <td>35.0</td>\n      <td>1.0</td>\n      <td>0.00</td>\n      <td>2.0</td>\n      <td>1.0</td>\n      <td>0.0</td>\n      <td>161653.50</td>\n      <td>0.0</td>\n    </tr>\n    <tr>\n      <th>14996</th>\n      <td>0</td>\n      <td>1</td>\n      <td>0</td>\n      <td>0</td>\n      <td>1</td>\n      <td>806.0</td>\n      <td>42.0</td>\n      <td>1.0</td>\n      <td>129120.64</td>\n      <td>2.0</td>\n      <td>1.0</td>\n      <td>1.0</td>\n      <td>161642.08</td>\n      <td>0.0</td>\n    </tr>\n    <tr>\n      <th>14997</th>\n      <td>1</td>\n      <td>0</td>\n      <td>0</td>\n      <td>1</td>\n      <td>0</td>\n      <td>620.0</td>\n      <td>29.0</td>\n      <td>7.0</td>\n      <td>0.00</td>\n      <td>2.0</td>\n      <td>1.0</td>\n      <td>1.0</td>\n      <td>161579.85</td>\n      <td>0.0</td>\n    </tr>\n    <tr>\n      <th>14998</th>\n      <td>0</td>\n      <td>1</td>\n      <td>0</td>\n      <td>0</td>\n      <td>1</td>\n      <td>622.0</td>\n      <td>51.0</td>\n      <td>6.0</td>\n      <td>106070.89</td>\n      <td>3.0</td>\n      <td>1.0</td>\n      <td>0.0</td>\n      <td>136869.31</td>\n      <td>1.0</td>\n    </tr>\n    <tr>\n      <th>14999</th>\n      <td>1</td>\n      <td>0</td>\n      <td>0</td>\n      <td>0</td>\n      <td>1</td>\n      <td>543.0</td>\n      <td>36.0</td>\n      <td>8.0</td>\n      <td>0.00</td>\n      <td>1.0</td>\n      <td>1.0</td>\n      <td>1.0</td>\n      <td>163568.33</td>\n      <td>0.0</td>\n    </tr>\n  </tbody>\n</table>\n<p>15000 rows × 14 columns</p>\n</div>"
          },
          "metadata": {}
        }
      ],
      "execution_count": null
    },
    {
      "cell_type": "code",
      "source": [
        "trans_df.describe()\n"
      ],
      "metadata": {
        "trusted": true,
        "execution": {
          "iopub.status.busy": "2025-03-17T10:48:42.3521Z",
          "iopub.execute_input": "2025-03-17T10:48:42.352766Z",
          "iopub.status.idle": "2025-03-17T10:48:42.415577Z",
          "shell.execute_reply.started": "2025-03-17T10:48:42.352678Z",
          "shell.execute_reply": "2025-03-17T10:48:42.414132Z"
        },
        "id": "wMDHnXTZ6Hkz",
        "outputId": "cadbf510-3a91-4e1b-c69c-421a47a347c6"
      },
      "outputs": [
        {
          "execution_count": 37,
          "output_type": "execute_result",
          "data": {
            "text/plain": "       one_hot__Geography_France  one_hot__Geography_Germany  \\\ncount               15000.000000                15000.000000   \nmean                    0.602667                    0.178667   \nstd                     0.489362                    0.383086   \nmin                     0.000000                    0.000000   \n25%                     0.000000                    0.000000   \n50%                     1.000000                    0.000000   \n75%                     1.000000                    0.000000   \nmax                     1.000000                    1.000000   \n\n       one_hot__Geography_Spain  one_hot__Gender_Female  one_hot__Gender_Male  \\\ncount              15000.000000            15000.000000          15000.000000   \nmean                   0.218667                0.434800              0.565200   \nstd                    0.413356                0.495747              0.495747   \nmin                    0.000000                0.000000              0.000000   \n25%                    0.000000                0.000000              0.000000   \n50%                    0.000000                0.000000              1.000000   \n75%                    0.000000                1.000000              1.000000   \nmax                    1.000000                1.000000              1.000000   \n\n       remainder__CreditScore  remainder__Age  remainder__Tenure  \\\ncount            15000.000000    15000.000000       15000.000000   \nmean               657.856800       37.710133           5.018667   \nstd                 72.678739        8.144880           2.787407   \nmin                431.000000       18.000000           0.000000   \n25%                602.000000       32.000000           3.000000   \n50%                661.000000       37.000000           5.000000   \n75%                707.000000       42.000000           7.000000   \nmax                850.000000       72.000000          10.000000   \n\n       remainder__Balance  remainder__NumOfProducts  remainder__HasCrCard  \\\ncount        15000.000000              15000.000000          15000.000000   \nmean         42338.107539                  1.590533              0.779133   \nstd          59703.047751                  0.525822              0.414845   \nmin              0.000000                  1.000000              0.000000   \n25%              0.000000                  1.000000              1.000000   \n50%              0.000000                  2.000000              1.000000   \n75%         109636.342500                  2.000000              1.000000   \nmax         187911.550000                  5.000000              1.000000   \n\n       remainder__IsActiveMember  remainder__EstimatedSalary  \\\ncount               15000.000000                15000.000000   \nmean                    0.496000               116944.059867   \nstd                     0.500001                46047.485455   \nmin                     0.000000                   11.580000   \n25%                     0.000000                82644.332500   \n50%                     0.000000               122449.420000   \n75%                     1.000000               155703.022500   \nmax                     1.000000               885120.790000   \n\n       remainder__Exited  \ncount       15000.000000  \nmean            0.198467  \nstd             0.398859  \nmin             0.000000  \n25%             0.000000  \n50%             0.000000  \n75%             0.000000  \nmax             1.000000  ",
            "text/html": "<div>\n<style scoped>\n    .dataframe tbody tr th:only-of-type {\n        vertical-align: middle;\n    }\n\n    .dataframe tbody tr th {\n        vertical-align: top;\n    }\n\n    .dataframe thead th {\n        text-align: right;\n    }\n</style>\n<table border=\"1\" class=\"dataframe\">\n  <thead>\n    <tr style=\"text-align: right;\">\n      <th></th>\n      <th>one_hot__Geography_France</th>\n      <th>one_hot__Geography_Germany</th>\n      <th>one_hot__Geography_Spain</th>\n      <th>one_hot__Gender_Female</th>\n      <th>one_hot__Gender_Male</th>\n      <th>remainder__CreditScore</th>\n      <th>remainder__Age</th>\n      <th>remainder__Tenure</th>\n      <th>remainder__Balance</th>\n      <th>remainder__NumOfProducts</th>\n      <th>remainder__HasCrCard</th>\n      <th>remainder__IsActiveMember</th>\n      <th>remainder__EstimatedSalary</th>\n      <th>remainder__Exited</th>\n    </tr>\n  </thead>\n  <tbody>\n    <tr>\n      <th>count</th>\n      <td>15000.000000</td>\n      <td>15000.000000</td>\n      <td>15000.000000</td>\n      <td>15000.000000</td>\n      <td>15000.000000</td>\n      <td>15000.000000</td>\n      <td>15000.000000</td>\n      <td>15000.000000</td>\n      <td>15000.000000</td>\n      <td>15000.000000</td>\n      <td>15000.000000</td>\n      <td>15000.000000</td>\n      <td>15000.000000</td>\n      <td>15000.000000</td>\n    </tr>\n    <tr>\n      <th>mean</th>\n      <td>0.602667</td>\n      <td>0.178667</td>\n      <td>0.218667</td>\n      <td>0.434800</td>\n      <td>0.565200</td>\n      <td>657.856800</td>\n      <td>37.710133</td>\n      <td>5.018667</td>\n      <td>42338.107539</td>\n      <td>1.590533</td>\n      <td>0.779133</td>\n      <td>0.496000</td>\n      <td>116944.059867</td>\n      <td>0.198467</td>\n    </tr>\n    <tr>\n      <th>std</th>\n      <td>0.489362</td>\n      <td>0.383086</td>\n      <td>0.413356</td>\n      <td>0.495747</td>\n      <td>0.495747</td>\n      <td>72.678739</td>\n      <td>8.144880</td>\n      <td>2.787407</td>\n      <td>59703.047751</td>\n      <td>0.525822</td>\n      <td>0.414845</td>\n      <td>0.500001</td>\n      <td>46047.485455</td>\n      <td>0.398859</td>\n    </tr>\n    <tr>\n      <th>min</th>\n      <td>0.000000</td>\n      <td>0.000000</td>\n      <td>0.000000</td>\n      <td>0.000000</td>\n      <td>0.000000</td>\n      <td>431.000000</td>\n      <td>18.000000</td>\n      <td>0.000000</td>\n      <td>0.000000</td>\n      <td>1.000000</td>\n      <td>0.000000</td>\n      <td>0.000000</td>\n      <td>11.580000</td>\n      <td>0.000000</td>\n    </tr>\n    <tr>\n      <th>25%</th>\n      <td>0.000000</td>\n      <td>0.000000</td>\n      <td>0.000000</td>\n      <td>0.000000</td>\n      <td>0.000000</td>\n      <td>602.000000</td>\n      <td>32.000000</td>\n      <td>3.000000</td>\n      <td>0.000000</td>\n      <td>1.000000</td>\n      <td>1.000000</td>\n      <td>0.000000</td>\n      <td>82644.332500</td>\n      <td>0.000000</td>\n    </tr>\n    <tr>\n      <th>50%</th>\n      <td>1.000000</td>\n      <td>0.000000</td>\n      <td>0.000000</td>\n      <td>0.000000</td>\n      <td>1.000000</td>\n      <td>661.000000</td>\n      <td>37.000000</td>\n      <td>5.000000</td>\n      <td>0.000000</td>\n      <td>2.000000</td>\n      <td>1.000000</td>\n      <td>0.000000</td>\n      <td>122449.420000</td>\n      <td>0.000000</td>\n    </tr>\n    <tr>\n      <th>75%</th>\n      <td>1.000000</td>\n      <td>0.000000</td>\n      <td>0.000000</td>\n      <td>1.000000</td>\n      <td>1.000000</td>\n      <td>707.000000</td>\n      <td>42.000000</td>\n      <td>7.000000</td>\n      <td>109636.342500</td>\n      <td>2.000000</td>\n      <td>1.000000</td>\n      <td>1.000000</td>\n      <td>155703.022500</td>\n      <td>0.000000</td>\n    </tr>\n    <tr>\n      <th>max</th>\n      <td>1.000000</td>\n      <td>1.000000</td>\n      <td>1.000000</td>\n      <td>1.000000</td>\n      <td>1.000000</td>\n      <td>850.000000</td>\n      <td>72.000000</td>\n      <td>10.000000</td>\n      <td>187911.550000</td>\n      <td>5.000000</td>\n      <td>1.000000</td>\n      <td>1.000000</td>\n      <td>885120.790000</td>\n      <td>1.000000</td>\n    </tr>\n  </tbody>\n</table>\n</div>"
          },
          "metadata": {}
        }
      ],
      "execution_count": null
    },
    {
      "cell_type": "code",
      "source": [
        "from sklearn.model_selection import train_test_split\n",
        "from sklearn.ensemble import StackingClassifier, RandomForestClassifier, GradientBoostingClassifier\n",
        "from sklearn.linear_model import LogisticRegression\n",
        "from sklearn.neighbors import KNeighborsClassifier\n",
        "from sklearn.svm import SVC\n",
        "from sklearn.metrics import classification_report, accuracy_score, roc_auc_score"
      ],
      "metadata": {
        "trusted": true,
        "execution": {
          "iopub.status.busy": "2025-03-17T10:51:34.170061Z",
          "iopub.execute_input": "2025-03-17T10:51:34.170404Z",
          "iopub.status.idle": "2025-03-17T10:51:34.175731Z",
          "shell.execute_reply.started": "2025-03-17T10:51:34.170377Z",
          "shell.execute_reply": "2025-03-17T10:51:34.17452Z"
        },
        "id": "9mt494gM6Hkz"
      },
      "outputs": [],
      "execution_count": null
    },
    {
      "cell_type": "code",
      "source": [
        "model_RF = RandomForestClassifier(n_estimators=100, max_depth=5, random_state=42)\n",
        "model_GB = GradientBoostingClassifier(n_estimators=100, learning_rate=0.1, max_depth=3, random_state=42)\n",
        "model_KNN = KNeighborsClassifier(n_neighbors=5)\n",
        "model_SVC = SVC(probability=True, kernel='rbf', C=1.0)\n",
        "model_LR = LogisticRegression()\n",
        "\n",
        "models = [model_LR, model_SVC, model_KNN, model_GB, model_RF]"
      ],
      "metadata": {
        "trusted": true,
        "execution": {
          "iopub.status.busy": "2025-03-17T10:52:20.372925Z",
          "iopub.execute_input": "2025-03-17T10:52:20.373269Z",
          "iopub.status.idle": "2025-03-17T10:52:20.379105Z",
          "shell.execute_reply.started": "2025-03-17T10:52:20.373242Z",
          "shell.execute_reply": "2025-03-17T10:52:20.377836Z"
        },
        "id": "RvR3IAez6Hkz"
      },
      "outputs": [],
      "execution_count": null
    },
    {
      "cell_type": "code",
      "source": [
        "X_train = trans_df.drop(['remainder__Exited'], axis=1).copy()\n",
        "y_train = trans_df['remainder__Exited'].copy()\n",
        "X_test = test_df"
      ],
      "metadata": {
        "trusted": true,
        "execution": {
          "iopub.status.busy": "2025-03-17T10:53:27.54873Z",
          "iopub.execute_input": "2025-03-17T10:53:27.549077Z",
          "iopub.status.idle": "2025-03-17T10:53:27.557075Z",
          "shell.execute_reply.started": "2025-03-17T10:53:27.549051Z",
          "shell.execute_reply": "2025-03-17T10:53:27.556029Z"
        },
        "id": "1VtEeiat6Hkz"
      },
      "outputs": [],
      "execution_count": null
    },
    {
      "cell_type": "code",
      "source": [
        "for model in models:\n",
        "  model.fit(X_train, y_train)\n",
        "  y_pred = model.predict(X_train)\n",
        "\n",
        "  print(f\"Model: {model} \\n\")\n",
        "  print(f\"Accuracy: {accuracy_score(y_train, y_pred)} \\n\")\n",
        "  print(f\"Classification Report: {classification_report(y_train, y_pred)}\")\n",
        "  print(\"  \"*25)\n",
        "  print(\"*\"*25)\n",
        "  print(\"  \"*25)"
      ],
      "metadata": {
        "trusted": true,
        "execution": {
          "iopub.status.busy": "2025-03-17T10:53:57.590599Z",
          "iopub.execute_input": "2025-03-17T10:53:57.590962Z",
          "iopub.status.idle": "2025-03-17T10:54:38.325083Z",
          "shell.execute_reply.started": "2025-03-17T10:53:57.590923Z",
          "shell.execute_reply": "2025-03-17T10:54:38.324087Z"
        },
        "id": "NNctlU-96Hk0",
        "outputId": "b578c4b5-52e8-405a-b4ce-eedcd43201bc"
      },
      "outputs": [
        {
          "name": "stdout",
          "text": "Model: LogisticRegression() \n\nAccuracy: 0.8268 \n\nClassification Report:               precision    recall  f1-score   support\n\n         0.0       0.85      0.96      0.90     12023\n         1.0       0.64      0.29      0.40      2977\n\n    accuracy                           0.83     15000\n   macro avg       0.74      0.62      0.65     15000\nweighted avg       0.80      0.83      0.80     15000\n\n                                                  \n*************************\n                                                  \nModel: SVC(probability=True) \n\nAccuracy: 0.8015333333333333 \n\nClassification Report:               precision    recall  f1-score   support\n\n         0.0       0.80      1.00      0.89     12023\n         1.0       0.00      0.00      0.00      2977\n\n    accuracy                           0.80     15000\n   macro avg       0.40      0.50      0.44     15000\nweighted avg       0.64      0.80      0.71     15000\n\n                                                  \n*************************\n                                                  \n",
          "output_type": "stream"
        },
        {
          "name": "stderr",
          "text": "/usr/local/lib/python3.10/dist-packages/sklearn/metrics/_classification.py:1344: UndefinedMetricWarning: Precision and F-score are ill-defined and being set to 0.0 in labels with no predicted samples. Use `zero_division` parameter to control this behavior.\n  _warn_prf(average, modifier, msg_start, len(result))\n/usr/local/lib/python3.10/dist-packages/sklearn/metrics/_classification.py:1344: UndefinedMetricWarning: Precision and F-score are ill-defined and being set to 0.0 in labels with no predicted samples. Use `zero_division` parameter to control this behavior.\n  _warn_prf(average, modifier, msg_start, len(result))\n/usr/local/lib/python3.10/dist-packages/sklearn/metrics/_classification.py:1344: UndefinedMetricWarning: Precision and F-score are ill-defined and being set to 0.0 in labels with no predicted samples. Use `zero_division` parameter to control this behavior.\n  _warn_prf(average, modifier, msg_start, len(result))\n",
          "output_type": "stream"
        },
        {
          "name": "stdout",
          "text": "Model: KNeighborsClassifier() \n\nAccuracy: 0.8246666666666667 \n\nClassification Report:               precision    recall  f1-score   support\n\n         0.0       0.84      0.97      0.90     12023\n         1.0       0.66      0.24      0.36      2977\n\n    accuracy                           0.82     15000\n   macro avg       0.75      0.61      0.63     15000\nweighted avg       0.80      0.82      0.79     15000\n\n                                                  \n*************************\n                                                  \nModel: GradientBoostingClassifier(random_state=42) \n\nAccuracy: 0.9024666666666666 \n\nClassification Report:               precision    recall  f1-score   support\n\n         0.0       0.92      0.96      0.94     12023\n         1.0       0.81      0.66      0.73      2977\n\n    accuracy                           0.90     15000\n   macro avg       0.87      0.81      0.83     15000\nweighted avg       0.90      0.90      0.90     15000\n\n                                                  \n*************************\n                                                  \nModel: RandomForestClassifier(max_depth=5, random_state=42) \n\nAccuracy: 0.8838 \n\nClassification Report:               precision    recall  f1-score   support\n\n         0.0       0.89      0.98      0.93     12023\n         1.0       0.84      0.51      0.64      2977\n\n    accuracy                           0.88     15000\n   macro avg       0.86      0.74      0.78     15000\nweighted avg       0.88      0.88      0.87     15000\n\n                                                  \n*************************\n                                                  \n",
          "output_type": "stream"
        }
      ],
      "execution_count": null
    },
    {
      "cell_type": "code",
      "source": [
        "base_models = [\n",
        "    ('rf', RandomForestClassifier(n_estimators=100, max_depth=5, random_state=42)),  # Cheklangan chuqurlik\n",
        "    ('gb', GradientBoostingClassifier(n_estimators=100, learning_rate=0.1, max_depth=3, random_state=42)),  # Katta emas\n",
        "    ('knn', KNeighborsClassifier(n_neighbors=5)),\n",
        "    ('svc', SVC(probability=True, kernel='rbf', C=1.0))\n",
        "]\n",
        "\n",
        "meta_model = LogisticRegression()\n",
        "\n",
        "stacking_model = StackingClassifier(estimators=base_models, final_estimator=meta_model, cv=5)"
      ],
      "metadata": {
        "trusted": true,
        "execution": {
          "iopub.status.busy": "2025-03-17T11:10:28.902643Z",
          "iopub.execute_input": "2025-03-17T11:10:28.903028Z",
          "iopub.status.idle": "2025-03-17T11:10:28.909239Z",
          "shell.execute_reply.started": "2025-03-17T11:10:28.903002Z",
          "shell.execute_reply": "2025-03-17T11:10:28.908073Z"
        },
        "id": "4Ze2JSMy6Hk0"
      },
      "outputs": [],
      "execution_count": null
    },
    {
      "cell_type": "code",
      "source": [
        "stacking_model.fit(X_train, y_train)\n",
        "\n",
        "#train data uchun test\n",
        "y_pred = stacking_model.predict(X_train)\n",
        "accuracy = accuracy_score(y_train, y_pred)\n",
        "print(f\"Stacking model accuracy: {accuracy:.4f}\")"
      ],
      "metadata": {
        "trusted": true,
        "execution": {
          "iopub.status.busy": "2025-03-17T11:10:53.357687Z",
          "iopub.execute_input": "2025-03-17T11:10:53.358069Z",
          "iopub.status.idle": "2025-03-17T11:13:29.310637Z",
          "shell.execute_reply.started": "2025-03-17T11:10:53.358037Z",
          "shell.execute_reply": "2025-03-17T11:13:29.309592Z"
        },
        "id": "uv6WTU2V6Hk0",
        "outputId": "cabbf3e0-182a-42b2-9954-d4783cb8c406"
      },
      "outputs": [
        {
          "name": "stdout",
          "text": "Stacking model accuracy: 0.9022\n",
          "output_type": "stream"
        }
      ],
      "execution_count": null
    },
    {
      "cell_type": "code",
      "source": [
        "#Train uchun ROC AUC Score\n",
        "y_proba_train = stacking_model.predict_proba(X_train)[:, 1]\n",
        "roc_auc = roc_auc_score(y_train, y_proba_train)\n",
        "print(f\"ROC AUC Score: {roc_auc:.4f}\")"
      ],
      "metadata": {
        "trusted": true,
        "execution": {
          "iopub.status.busy": "2025-03-17T11:22:37.543245Z",
          "iopub.execute_input": "2025-03-17T11:22:37.543615Z",
          "iopub.status.idle": "2025-03-17T11:22:43.005826Z",
          "shell.execute_reply.started": "2025-03-17T11:22:37.543587Z",
          "shell.execute_reply": "2025-03-17T11:22:43.004744Z"
        },
        "id": "ZPW6mUi36Hk1",
        "outputId": "0a0cdf66-d2cc-481a-fbbf-543ceab1dc79"
      },
      "outputs": [
        {
          "name": "stdout",
          "text": "ROC AUC Score: 0.9443\n",
          "output_type": "stream"
        }
      ],
      "execution_count": null
    },
    {
      "cell_type": "code",
      "source": [
        "y_stack_pred = stacking_model.predict_proba(X_test)[:, 1]\n",
        "y_stack_pred"
      ],
      "metadata": {
        "trusted": true,
        "execution": {
          "iopub.status.busy": "2025-03-17T11:27:34.728767Z",
          "iopub.execute_input": "2025-03-17T11:27:34.729127Z",
          "iopub.status.idle": "2025-03-17T11:27:38.43929Z",
          "shell.execute_reply.started": "2025-03-17T11:27:34.729095Z",
          "shell.execute_reply": "2025-03-17T11:27:38.438089Z"
        },
        "id": "xQaIAw8w6Hk1",
        "outputId": "7f3e1da8-f2a1-4b81-d7ef-dd9424cb6300"
      },
      "outputs": [
        {
          "execution_count": 46,
          "output_type": "execute_result",
          "data": {
            "text/plain": "array([0.07344306, 0.12138651, 0.04162164, ..., 0.96657375, 0.03067923,\n       0.0954939 ])"
          },
          "metadata": {}
        }
      ],
      "execution_count": null
    },
    {
      "cell_type": "code",
      "source": [
        "#kaggle uchun csv ga aylantirish\n",
        "ans = pd.DataFrame(y_stack_pred)\n",
        "\n",
        "ans.columns = ['Exited']\n",
        "ans['id'] = np.arange(15000, 25000 )\n",
        "ans = ans[['id', 'Exited']]\n",
        "\n",
        "ans.to_csv('predict_4.csv', index=False)\n",
        "ans"
      ],
      "metadata": {
        "trusted": true,
        "execution": {
          "iopub.status.busy": "2025-03-17T11:28:15.566436Z",
          "iopub.execute_input": "2025-03-17T11:28:15.566868Z",
          "iopub.status.idle": "2025-03-17T11:28:15.611579Z",
          "shell.execute_reply.started": "2025-03-17T11:28:15.566838Z",
          "shell.execute_reply": "2025-03-17T11:28:15.610555Z"
        },
        "id": "r7XQroC06Hk1",
        "outputId": "0109c392-d9c5-4975-8451-1b4a01d1f8ef"
      },
      "outputs": [
        {
          "execution_count": 47,
          "output_type": "execute_result",
          "data": {
            "text/plain": "         id    Exited\n0     15000  0.073443\n1     15001  0.121387\n2     15002  0.041622\n3     15003  0.087502\n4     15004  0.030224\n...     ...       ...\n9995  24995  0.073750\n9996  24996  0.055912\n9997  24997  0.966574\n9998  24998  0.030679\n9999  24999  0.095494\n\n[10000 rows x 2 columns]",
            "text/html": "<div>\n<style scoped>\n    .dataframe tbody tr th:only-of-type {\n        vertical-align: middle;\n    }\n\n    .dataframe tbody tr th {\n        vertical-align: top;\n    }\n\n    .dataframe thead th {\n        text-align: right;\n    }\n</style>\n<table border=\"1\" class=\"dataframe\">\n  <thead>\n    <tr style=\"text-align: right;\">\n      <th></th>\n      <th>id</th>\n      <th>Exited</th>\n    </tr>\n  </thead>\n  <tbody>\n    <tr>\n      <th>0</th>\n      <td>15000</td>\n      <td>0.073443</td>\n    </tr>\n    <tr>\n      <th>1</th>\n      <td>15001</td>\n      <td>0.121387</td>\n    </tr>\n    <tr>\n      <th>2</th>\n      <td>15002</td>\n      <td>0.041622</td>\n    </tr>\n    <tr>\n      <th>3</th>\n      <td>15003</td>\n      <td>0.087502</td>\n    </tr>\n    <tr>\n      <th>4</th>\n      <td>15004</td>\n      <td>0.030224</td>\n    </tr>\n    <tr>\n      <th>...</th>\n      <td>...</td>\n      <td>...</td>\n    </tr>\n    <tr>\n      <th>9995</th>\n      <td>24995</td>\n      <td>0.073750</td>\n    </tr>\n    <tr>\n      <th>9996</th>\n      <td>24996</td>\n      <td>0.055912</td>\n    </tr>\n    <tr>\n      <th>9997</th>\n      <td>24997</td>\n      <td>0.966574</td>\n    </tr>\n    <tr>\n      <th>9998</th>\n      <td>24998</td>\n      <td>0.030679</td>\n    </tr>\n    <tr>\n      <th>9999</th>\n      <td>24999</td>\n      <td>0.095494</td>\n    </tr>\n  </tbody>\n</table>\n<p>10000 rows × 2 columns</p>\n</div>"
          },
          "metadata": {}
        }
      ],
      "execution_count": null
    },
    {
      "cell_type": "code",
      "source": [],
      "metadata": {
        "trusted": true,
        "id": "nDIAMMJT6Hk1"
      },
      "outputs": [],
      "execution_count": null
    }
  ]
}